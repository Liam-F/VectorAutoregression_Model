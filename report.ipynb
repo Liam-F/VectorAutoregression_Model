{
 "cells": [
  {
   "cell_type": "markdown",
   "metadata": {
    "collapsed": true
   },
   "source": [
    "# Modelos e Estratégias de Trading\n",
    "## Ajustando um modelo VAR à PETR4\n",
    "\n",
    "Uirá Caiado. 05 de Setembro, 2016"
   ]
  },
  {
   "cell_type": "markdown",
   "metadata": {},
   "source": [
    "**Resumo**\n",
    "\n",
    "*Uma das principais necessidades quando falamos trading é realizar algum tipo de previsão sobre o estado futuro do instrumento operado para que possamos posicionar nossas ofertas. Como um dos objetivos da análise de séries temporais multivariadas é a realização de forecasts, nesta atividade vou implementar um modelo desta classe chamado Vetor Auto Regressivo (VAR). Vou ajustar o modelo aos retornos e informações de book da PETR4 e analisar a performance realizando um back-test em uma parte dos dados coletados que ainda não tenha sido utilizada.*"
   ]
  },
  {
   "cell_type": "markdown",
   "metadata": {},
   "source": [
    "## 1. Introdução\n",
    "\n",
    "Nesta sessão vou ...\n",
    "\n",
    "\n",
    "### 1.1. Vetor Auto Regressivo (VAR)\n",
    "\n",
    "bla bla\n",
    "\n",
    "Pressupostos\n",
    "\n",
    "\n",
    "\n",
    "### 1.2. O Problema\n",
    "bla bla"
   ]
  },
  {
   "cell_type": "code",
   "execution_count": null,
   "metadata": {
    "collapsed": true
   },
   "outputs": [],
   "source": []
  },
  {
   "cell_type": "code",
   "execution_count": null,
   "metadata": {
    "collapsed": true
   },
   "outputs": [],
   "source": []
  },
  {
   "cell_type": "code",
   "execution_count": null,
   "metadata": {
    "collapsed": true
   },
   "outputs": [],
   "source": []
  },
  {
   "cell_type": "code",
   "execution_count": null,
   "metadata": {
    "collapsed": true
   },
   "outputs": [],
   "source": []
  },
  {
   "cell_type": "code",
   "execution_count": null,
   "metadata": {
    "collapsed": true
   },
   "outputs": [],
   "source": []
  },
  {
   "cell_type": "code",
   "execution_count": null,
   "metadata": {
    "collapsed": true
   },
   "outputs": [],
   "source": []
  },
  {
   "cell_type": "code",
   "execution_count": null,
   "metadata": {
    "collapsed": true
   },
   "outputs": [],
   "source": []
  },
  {
   "cell_type": "code",
   "execution_count": 1,
   "metadata": {
    "collapsed": true
   },
   "outputs": [],
   "source": []
  },
  {
   "cell_type": "markdown",
   "metadata": {},
   "source": [
    "## 2. Implementando o Modelo\n",
    "\n",
    "Nesta sessão detalharemos e implementaremos ...\n",
    "\n",
    "### 2.1. Estimando os Parâmetros\n",
    "\n",
    "bla bla"
   ]
  },
  {
   "cell_type": "code",
   "execution_count": 1,
   "metadata": {
    "collapsed": false
   },
   "outputs": [],
   "source": [
    "import pandas as pd\n",
    "df = pd.read_excel('data/VAR3_inputs_e_outputs.xlsx', header=None)\n",
    "l_index = pd.date_range(start= '01/01/2014', end='01/12/2016')\n",
    "df.index = l_index[:df.shape[0]]"
   ]
  },
  {
   "cell_type": "code",
   "execution_count": 2,
   "metadata": {
    "collapsed": true
   },
   "outputs": [],
   "source": [
    "from statsmodels.tsa.api import VAR\n",
    "import statsmodels.tsa.vector_ar.util as util\n",
    "model = VAR(df)\n",
    "results = model.fit(3)\n",
    "aux = util.get_var_endog(df.values, 3)"
   ]
  },
  {
   "cell_type": "code",
   "execution_count": 82,
   "metadata": {
    "collapsed": false
   },
   "outputs": [],
   "source": [
    "import var_model.vector_autoregression as var\n",
    "reload(var)\n",
    "self = var.VectorAutoregression(df)\n",
    "self.fit(3)"
   ]
  },
  {
   "cell_type": "code",
   "execution_count": 73,
   "metadata": {
    "collapsed": false
   },
   "outputs": [
    {
     "name": "stdout",
     "output_type": "stream",
     "text": [
      "error in Z: 0.00000000\n",
      "error in A: 0.00000000\n",
      "error in B: 0.00000000\n",
      "error in residuals: 0.00000000\n",
      "error in Sigma U: 0.00000000\n"
     ]
    }
   ],
   "source": [
    "# calcula erros para implementacao do statsmodel\n",
    "print \"error in Z: {:0.8f}\".format(sum(sum(abs(self.na_Z.T - aux))))\n",
    "print \"error in A: {:0.8f}\".format(sum(sum(sum(abs(self.na_A - results.coefs)))))\n",
    "print \"error in B: {:0.8f}\".format(sum(sum(abs(self.na_betahat - results.params.values))))\n",
    "print \"error in residuals: {:0.8f}\".format(sum(sum(abs(self.na_U.T - results.resid.values))))\n",
    "print \"error in Sigma U: {:0.8f}\".format(sum(sum(abs(self.na_Sigma - results.sigma_u.values))))"
   ]
  },
  {
   "cell_type": "code",
   "execution_count": null,
   "metadata": {
    "collapsed": true
   },
   "outputs": [],
   "source": []
  },
  {
   "cell_type": "code",
   "execution_count": null,
   "metadata": {
    "collapsed": true
   },
   "outputs": [],
   "source": []
  },
  {
   "cell_type": "code",
   "execution_count": null,
   "metadata": {
    "collapsed": true
   },
   "outputs": [],
   "source": []
  },
  {
   "cell_type": "code",
   "execution_count": null,
   "metadata": {
    "collapsed": true
   },
   "outputs": [],
   "source": []
  },
  {
   "cell_type": "code",
   "execution_count": null,
   "metadata": {
    "collapsed": true
   },
   "outputs": [],
   "source": []
  },
  {
   "cell_type": "code",
   "execution_count": null,
   "metadata": {
    "collapsed": true
   },
   "outputs": [],
   "source": []
  },
  {
   "cell_type": "code",
   "execution_count": null,
   "metadata": {
    "collapsed": true
   },
   "outputs": [],
   "source": []
  },
  {
   "cell_type": "code",
   "execution_count": null,
   "metadata": {
    "collapsed": true
   },
   "outputs": [],
   "source": []
  },
  {
   "cell_type": "code",
   "execution_count": null,
   "metadata": {
    "collapsed": true
   },
   "outputs": [],
   "source": []
  },
  {
   "cell_type": "code",
   "execution_count": null,
   "metadata": {
    "collapsed": true
   },
   "outputs": [],
   "source": []
  },
  {
   "cell_type": "code",
   "execution_count": null,
   "metadata": {
    "collapsed": true
   },
   "outputs": [],
   "source": []
  },
  {
   "cell_type": "code",
   "execution_count": null,
   "metadata": {
    "collapsed": true
   },
   "outputs": [],
   "source": []
  },
  {
   "cell_type": "code",
   "execution_count": null,
   "metadata": {
    "collapsed": true
   },
   "outputs": [],
   "source": []
  },
  {
   "cell_type": "markdown",
   "metadata": {},
   "source": [
    "### 2.2. Forecast\n",
    "\n",
    "Segundo notas de aula, para se afirmar o que ocorrerá no futuro $\\left (  y_1, ..., y_k \\right )$, tendo um processo $VAR(p)$ ajustado a um conjunto de dados $\\Omega_t = \\{ y_s \\mid s \\leq t \\}$ para um horizonte de tempo $h$, precisamos determinar qual o *forecast* ótimo determinando aquele que minimiza uma função custo associada à seus erros (quadráticos médios - MSE na sigla em inglês). O preditor que minimiza estes erros é a esperança condicional (Lutkepohl, p. 33)\n",
    "\n",
    "$$\\mathbf{E}\\left [ y_{t+h} \\right ] := \\mathbf{E}\\left [ y_{t+h} \\mid  \\Omega_t \\right ] = \\mathbf{E}\\left [ y_{t+h} \\mid  \\{ y_s \\mid s \\leq t \\} \\right ]$$\n",
    "\n",
    "Lutkepohl ainda demonstra que a otimização da esperança condicional impica que:\n",
    "\n",
    "$$\n",
    "\\mathbf{E}\\left [ y_{t+1} \\right ] = \\upsilon + A_1 y_t + ... + A_p y_{t-p + 1} \\\\\n",
    "\\mathbf{E}\\left [ y_{t+2} \\right ] = \\upsilon + A_1 \\mathbf{E}\\left [ y_{t+1} \\right ] + A_2 y_t + ... + A_p y_{t-p + 2} \\\\\n",
    "\\vdots\n",
    "$$\n"
   ]
  },
  {
   "cell_type": "code",
   "execution_count": null,
   "metadata": {
    "collapsed": true
   },
   "outputs": [],
   "source": []
  },
  {
   "cell_type": "code",
   "execution_count": null,
   "metadata": {
    "collapsed": true
   },
   "outputs": [],
   "source": []
  },
  {
   "cell_type": "code",
   "execution_count": null,
   "metadata": {
    "collapsed": true
   },
   "outputs": [],
   "source": []
  },
  {
   "cell_type": "code",
   "execution_count": null,
   "metadata": {
    "collapsed": true
   },
   "outputs": [],
   "source": []
  },
  {
   "cell_type": "code",
   "execution_count": null,
   "metadata": {
    "collapsed": true
   },
   "outputs": [],
   "source": []
  },
  {
   "cell_type": "code",
   "execution_count": null,
   "metadata": {
    "collapsed": true
   },
   "outputs": [],
   "source": []
  },
  {
   "cell_type": "code",
   "execution_count": null,
   "metadata": {
    "collapsed": true
   },
   "outputs": [],
   "source": []
  },
  {
   "cell_type": "markdown",
   "metadata": {},
   "source": [
    "### 2.3. Intervalo de Confiança\n",
    "\n",
    "Segundo Lutkepohl (p. 38), o erro de previsão (e consequentemente, o intervalo de confiança) pode ser obtido através da matriz de covariância dos erros (ou, da sigla em inglês, MSE matrix). Porém, quando se deseja realizar *forecasts* para mais de um período, é necessário definir também a matriz de coeficientes de Média Móvel (MA), que para um VAR(2) fica:\n",
    "\n",
    "$$\n",
    "\\phi_1 = A_1 \\\\\n",
    "\\phi_2 = \\phi_1 A_1 + A2 \\\\\n",
    "\\phi_3 = \\phi_2 A_1 + \\phi_1 A2 \\\\\n",
    "\\vdots \\\\\n",
    "\\phi_i = \\phi_{i-1} A_1 + \\phi_{i-2} A_2\n",
    "$$\n",
    "\n",
    "Assim, a matriz MSE de *forecast* são obtidas recursivamente aplicando\n",
    "\n",
    "$$\n",
    "\\Gamma_y(0) = \\Sigma_y = \\sum_{i=0}^{\\infty} \\phi_i \\Sigma_u \\phi_i^{'}\n",
    "$$\n",
    "\n",
    "Sendo que:\n",
    "$$\n",
    "\\Sigma_y (1) = \\Sigma_u \\\\\n",
    "\\Sigma_y (2) = \\Sigma_u + \\phi_{1} \\Sigma_u \\phi_{1}' \\\\\n",
    "\\Sigma_y (3) = \\Sigma_y (2) + \\phi_{2} \\Sigma_u \\phi_{2}' \\\\\n",
    "\\vdots\n",
    "$$\n",
    "\n",
    "O $h$ em $\\Sigma_y (h)$ se refere a quantos passos para frente se aplica a função de forecast. Como o modelo de VAR assume que os erros $u_t \\sim N \\left( 0, \\, \\Sigma_y(h) \\right)$, podemos assumir que o erro de *forecast* também é normalmente distribuído. Com este pressuposto, podemos definir um [intervalo de confiança](https://en.wikipedia.org/wiki/Confidence_interval) na forma: \n",
    "$$\\left[ y_{k, \\, t} (h) - z_{(\\alpha / 2)} \\sigma_k (h), \\, \\, \\, \\, \\, y_{k, \\, t} (h) + z_{(\\alpha / 2)} \\sigma_k (h) \\right]$$\n",
    "\n",
    "Onde $\\sigma(h)$ é a raiz quadrada do ** *k-ésimo* elemento da diagonal** $\\Sigma_y(h)$ de maneira que\n",
    "\n",
    "TODO: escrever exemplo da página 38 para não me perder depois"
   ]
  },
  {
   "cell_type": "code",
   "execution_count": 171,
   "metadata": {
    "collapsed": true
   },
   "outputs": [],
   "source": [
    "import var_model.vector_autoregression as var\n",
    "reload(var)\n",
    "self = var.VectorAutoregression(df)\n",
    "self.fit(3)"
   ]
  },
  {
   "cell_type": "code",
   "execution_count": 172,
   "metadata": {
    "collapsed": false
   },
   "outputs": [
    {
     "data": {
      "text/plain": [
       "(array([-0.00182718, -0.00110312, -0.00133409, -0.00109055, -0.0031575 ]),\n",
       " array([ 0.01471869,  0.02090863,  0.02205742,  0.02227275,  0.04007668]),\n",
       " array([-0.01837305, -0.02311488, -0.0247256 , -0.02445384, -0.04639168]))"
      ]
     },
     "execution_count": 172,
     "metadata": {},
     "output_type": "execute_result"
    }
   ],
   "source": [
    "self.forecast(df[-5:].values, 3)"
   ]
  },
  {
   "cell_type": "code",
   "execution_count": 178,
   "metadata": {
    "collapsed": false
   },
   "outputs": [
    {
     "data": {
      "text/plain": [
       "7.329567326133623e-05"
      ]
     },
     "execution_count": 178,
     "metadata": {},
     "output_type": "execute_result"
    }
   ],
   "source": [
    "sum(sum(abs(self.na_sigma_y - covs[0])))"
   ]
  },
  {
   "cell_type": "code",
   "execution_count": 135,
   "metadata": {
    "collapsed": false
   },
   "outputs": [],
   "source": [
    "na_forecast, na_min, na_max = results.forecast_interval(df[-3:].values, 3)"
   ]
  },
  {
   "cell_type": "code",
   "execution_count": 143,
   "metadata": {
    "collapsed": false
   },
   "outputs": [
    {
     "data": {
      "text/plain": [
       "array([-0.0304958 , -0.03620013, -0.03791632, -0.03508742, -0.04711637])"
      ]
     },
     "execution_count": 143,
     "metadata": {},
     "output_type": "execute_result"
    }
   ],
   "source": [
    "na_min[-1]"
   ]
  },
  {
   "cell_type": "code",
   "execution_count": 141,
   "metadata": {
    "collapsed": false
   },
   "outputs": [
    {
     "data": {
      "text/plain": [
       "array([-0.00182718, -0.00110312, -0.00133409, -0.00109055, -0.0031575 ])"
      ]
     },
     "execution_count": 141,
     "metadata": {},
     "output_type": "execute_result"
    }
   ],
   "source": [
    "na_forecast[-1]"
   ]
  },
  {
   "cell_type": "code",
   "execution_count": 140,
   "metadata": {
    "collapsed": false
   },
   "outputs": [
    {
     "data": {
      "text/plain": [
       "array([ 0.02684144,  0.03399389,  0.03524813,  0.03290633,  0.04080137])"
      ]
     },
     "execution_count": 140,
     "metadata": {},
     "output_type": "execute_result"
    }
   ],
   "source": [
    "na_max[-1]"
   ]
  },
  {
   "cell_type": "code",
   "execution_count": null,
   "metadata": {
    "collapsed": true
   },
   "outputs": [],
   "source": [
    "self."
   ]
  },
  {
   "cell_type": "code",
   "execution_count": 149,
   "metadata": {
    "collapsed": false
   },
   "outputs": [],
   "source": [
    "covs = results.forecast_cov(5)"
   ]
  },
  {
   "cell_type": "code",
   "execution_count": 150,
   "metadata": {
    "collapsed": true
   },
   "outputs": [],
   "source": [
    "inds = np.arange(results.neqs)"
   ]
  },
  {
   "cell_type": "code",
   "execution_count": 151,
   "metadata": {
    "collapsed": false
   },
   "outputs": [
    {
     "data": {
      "text/plain": [
       "array([0, 1, 2, 3, 4])"
      ]
     },
     "execution_count": 151,
     "metadata": {},
     "output_type": "execute_result"
    }
   ],
   "source": [
    "inds"
   ]
  },
  {
   "cell_type": "code",
   "execution_count": 152,
   "metadata": {
    "collapsed": false
   },
   "outputs": [],
   "source": [
    "na_vars = results._forecast_vars(5)"
   ]
  },
  {
   "cell_type": "code",
   "execution_count": 155,
   "metadata": {
    "collapsed": false
   },
   "outputs": [
    {
     "data": {
      "text/plain": [
       "array([[ 0.00021105,  0.00030629,  0.0003343 ,  0.00028909,  0.00049847],\n",
       "       [ 0.00021259,  0.00031079,  0.00032977,  0.00028874,  0.00049291],\n",
       "       [ 0.00021395,  0.00032066,  0.00034837,  0.00030087,  0.00050303],\n",
       "       [ 0.0002147 ,  0.00031908,  0.0003448 ,  0.00029547,  0.00049958],\n",
       "       [ 0.00021487,  0.00031924,  0.00034478,  0.00029543,  0.00049882]])"
      ]
     },
     "execution_count": 155,
     "metadata": {},
     "output_type": "execute_result"
    }
   ],
   "source": [
    "covs[:, inds, inds]"
   ]
  },
  {
   "cell_type": "code",
   "execution_count": 174,
   "metadata": {
    "collapsed": false
   },
   "outputs": [
    {
     "data": {
      "text/plain": [
       "array([[  2.11050519e-04,   7.39080209e-05,   6.00288811e-05,\n",
       "          8.30239376e-05,   6.94379229e-05],\n",
       "       [  7.39080209e-05,   3.06290537e-04,   1.66864395e-04,\n",
       "          1.79644941e-04,   1.26058532e-04],\n",
       "       [  6.00288811e-05,   1.66864395e-04,   3.34295101e-04,\n",
       "          2.76139118e-04,   1.35934416e-04],\n",
       "       [  8.30239376e-05,   1.79644941e-04,   2.76139118e-04,\n",
       "          2.89093225e-04,   1.40798750e-04],\n",
       "       [  6.94379229e-05,   1.26058532e-04,   1.35934416e-04,\n",
       "          1.40798750e-04,   4.98471180e-04]])"
      ]
     },
     "execution_count": 174,
     "metadata": {},
     "output_type": "execute_result"
    }
   ],
   "source": []
  },
  {
   "cell_type": "code",
   "execution_count": 157,
   "metadata": {
    "collapsed": true
   },
   "outputs": [],
   "source": [
    "mse = results.mse(steps)"
   ]
  },
  {
   "cell_type": "code",
   "execution_count": 159,
   "metadata": {
    "collapsed": false
   },
   "outputs": [
    {
     "data": {
      "text/plain": [
       "array([[[ 0.00312315,  0.0010937 ,  0.00088831,  0.0012286 ,  0.00102755],\n",
       "        [ 0.0010937 ,  0.00453252,  0.00246928,  0.00265841,  0.00186543],\n",
       "        [ 0.00088831,  0.00246928,  0.00494694,  0.00408634,  0.00201157],\n",
       "        [ 0.0012286 ,  0.00265841,  0.00408634,  0.00427804,  0.00208356],\n",
       "        [ 0.00102755,  0.00186543,  0.00201157,  0.00208356,  0.00737644]],\n",
       "\n",
       "       [[ 0.00223352,  0.00084324,  0.00065742,  0.0009067 ,  0.00067963],\n",
       "        [ 0.00084324,  0.00337521,  0.0018222 ,  0.00199397,  0.00131364],\n",
       "        [ 0.00065742,  0.0018222 ,  0.00345322,  0.00288452,  0.00139159],\n",
       "        [ 0.0009067 ,  0.00199397,  0.00288452,  0.0030486 ,  0.00142816],\n",
       "        [ 0.00067963,  0.00131364,  0.00139159,  0.00142816,  0.0051463 ]],\n",
       "\n",
       "       [[ 0.00139082,  0.00057221,  0.0004765 ,  0.00059665,  0.00047901],\n",
       "        [ 0.00057221,  0.00225028,  0.00123733,  0.0013139 ,  0.00086517],\n",
       "        [ 0.0004765 ,  0.00123733,  0.00234956,  0.00198181,  0.00105008],\n",
       "        [ 0.00059665,  0.0013139 ,  0.00198181,  0.00204235,  0.00102315],\n",
       "        [ 0.00047901,  0.00086517,  0.00105008,  0.00102315,  0.00324043]]])"
      ]
     },
     "execution_count": 159,
     "metadata": {},
     "output_type": "execute_result"
    }
   ],
   "source": [
    "results._omega_forc_cov(steps)"
   ]
  },
  {
   "cell_type": "code",
   "execution_count": 161,
   "metadata": {
    "collapsed": false
   },
   "outputs": [],
   "source": [
    "phis = results.ma_rep(steps)"
   ]
  },
  {
   "cell_type": "code",
   "execution_count": 170,
   "metadata": {
    "collapsed": false
   },
   "outputs": [
    {
     "name": "stdout",
     "output_type": "stream",
     "text": [
      "Phis erros: 0.0000000\n"
     ]
    }
   ],
   "source": [
    "print 'Phis erros: {:.7f}'.format(sum(sum(sum(abs(phis - self._estimate_ma_phis(steps))))))"
   ]
  },
  {
   "cell_type": "code",
   "execution_count": 163,
   "metadata": {
    "collapsed": false
   },
   "outputs": [
    {
     "data": {
      "text/plain": [
       "array([[[  1.00000000e+00,   0.00000000e+00,   0.00000000e+00,\n",
       "           0.00000000e+00,   0.00000000e+00],\n",
       "        [  0.00000000e+00,   1.00000000e+00,   0.00000000e+00,\n",
       "           0.00000000e+00,   0.00000000e+00],\n",
       "        [  0.00000000e+00,   0.00000000e+00,   1.00000000e+00,\n",
       "           0.00000000e+00,   0.00000000e+00],\n",
       "        [  0.00000000e+00,   0.00000000e+00,   0.00000000e+00,\n",
       "           1.00000000e+00,   0.00000000e+00],\n",
       "        [  0.00000000e+00,   0.00000000e+00,   0.00000000e+00,\n",
       "           0.00000000e+00,   1.00000000e+00]],\n",
       "\n",
       "       [[ -4.33740266e-02,   1.28951234e-01,  -1.27478901e-01,\n",
       "           4.96482766e-02,  -7.12502594e-02],\n",
       "        [  5.32105776e-03,   1.78780028e-01,   3.75889103e-03,\n",
       "           3.25092218e-02,  -7.22829526e-02],\n",
       "        [  8.24173822e-03,   1.15179836e-01,  -5.07079197e-02,\n",
       "           7.21155964e-03,  -4.19460385e-02],\n",
       "        [  3.58036613e-02,   1.66959303e-01,   4.86540416e-02,\n",
       "          -1.17872920e-01,  -4.98642496e-02],\n",
       "        [ -6.40913254e-02,  -5.97430793e-02,  -9.77857895e-02,\n",
       "           2.68140622e-01,  -5.41901553e-02]],\n",
       "\n",
       "       [[  2.12920488e-02,   1.68183624e-02,  -2.20800575e-01,\n",
       "           2.21217345e-01,  -7.47149543e-02],\n",
       "        [ -2.37569563e-01,   3.81106148e-02,  -3.37264079e-01,\n",
       "           3.96729350e-01,  -4.34337054e-02],\n",
       "        [ -4.51138820e-02,   1.99494230e-01,  -4.80947233e-01,\n",
       "           2.86864392e-01,   5.04001817e-02],\n",
       "        [ -4.50174704e-02,   1.82470305e-01,  -3.72354647e-01,\n",
       "           2.01963261e-01,   6.05299288e-02],\n",
       "        [ -1.33745547e-02,   1.14176018e-01,  -3.60707066e-01,\n",
       "           1.10984403e-01,  -2.80179741e-02]],\n",
       "\n",
       "       [[ -6.01841552e-02,   1.45696716e-02,   1.21216383e-01,\n",
       "          -2.23444037e-01,   6.30960310e-02],\n",
       "        [ -9.40263064e-02,  -7.17956442e-02,   9.31847949e-02,\n",
       "           1.68039710e-02,   5.17852350e-02],\n",
       "        [ -1.29489624e-01,   3.38146316e-02,   2.19101972e-03,\n",
       "          -3.67915209e-03,  -3.62414820e-02],\n",
       "        [ -7.33842249e-02,   3.05464077e-02,  -1.51982854e-02,\n",
       "           1.75626358e-02,  -2.14796953e-02],\n",
       "        [ -3.39359893e-02,  -6.39178369e-02,   2.83721230e-01,\n",
       "          -1.77381876e-01,   1.23753776e-04]]])"
      ]
     },
     "execution_count": 163,
     "metadata": {},
     "output_type": "execute_result"
    }
   ],
   "source": []
  },
  {
   "cell_type": "code",
   "execution_count": null,
   "metadata": {
    "collapsed": true
   },
   "outputs": [],
   "source": []
  },
  {
   "cell_type": "code",
   "execution_count": 158,
   "metadata": {
    "collapsed": false
   },
   "outputs": [
    {
     "data": {
      "text/plain": [
       "array([[[  1.95196959e-04,   6.83562446e-05,   5.55196693e-05,\n",
       "           7.67873977e-05,   6.42219286e-05],\n",
       "        [  6.83562446e-05,   2.83282797e-04,   1.54329980e-04,\n",
       "           1.66150485e-04,   1.16589346e-04],\n",
       "        [  5.55196693e-05,   1.54329980e-04,   3.09183732e-04,\n",
       "           2.55396274e-04,   1.25723380e-04],\n",
       "        [  7.67873977e-05,   1.66150485e-04,   2.55396274e-04,\n",
       "           2.67377302e-04,   1.30222318e-04],\n",
       "        [  6.42219286e-05,   1.16589346e-04,   1.25723380e-04,\n",
       "           1.30222318e-04,   4.61027336e-04]],\n",
       "\n",
       "       [[  2.01255130e-04,   7.25609263e-05,   5.91637177e-05,\n",
       "           8.06808895e-05,   6.44833291e-05],\n",
       "        [  7.25609263e-05,   2.93655403e-04,   1.59114257e-04,\n",
       "           1.72831991e-04,   1.18740066e-04],\n",
       "        [  5.91637177e-05,   1.59114257e-04,   3.12239270e-04,\n",
       "           2.59286437e-04,   1.25691184e-04],\n",
       "        [  8.06808895e-05,   1.72831991e-04,   2.59286437e-04,\n",
       "           2.73268276e-04,   1.29005927e-04],\n",
       "        [  6.44833291e-05,   1.18740066e-04,   1.25691184e-04,\n",
       "           1.29005927e-04,   4.66790670e-04]],\n",
       "\n",
       "       [[  2.06892532e-04,   7.74848703e-05,   6.50814672e-05,\n",
       "           8.46193336e-05,   7.12660974e-05],\n",
       "        [  7.74848703e-05,   3.09236754e-04,   1.68510375e-04,\n",
       "           1.80040109e-04,   1.26128468e-04],\n",
       "        [  6.50814672e-05,   1.68510375e-04,   3.36445945e-04,\n",
       "           2.79550425e-04,   1.42436215e-04],\n",
       "        [  8.46193336e-05,   1.80040109e-04,   2.79550425e-04,\n",
       "           2.90504859e-04,   1.42092741e-04],\n",
       "        [  7.12660974e-05,   1.26128468e-04,   1.42436215e-04,\n",
       "           1.42092741e-04,   4.86584564e-04]]])"
      ]
     },
     "execution_count": 158,
     "metadata": {},
     "output_type": "execute_result"
    }
   ],
   "source": [
    "mse"
   ]
  },
  {
   "cell_type": "code",
   "execution_count": null,
   "metadata": {
    "collapsed": true
   },
   "outputs": [],
   "source": []
  },
  {
   "cell_type": "code",
   "execution_count": null,
   "metadata": {
    "collapsed": true
   },
   "outputs": [],
   "source": []
  },
  {
   "cell_type": "code",
   "execution_count": null,
   "metadata": {
    "collapsed": true
   },
   "outputs": [],
   "source": []
  },
  {
   "cell_type": "code",
   "execution_count": null,
   "metadata": {
    "collapsed": true
   },
   "outputs": [],
   "source": []
  },
  {
   "cell_type": "code",
   "execution_count": null,
   "metadata": {
    "collapsed": true
   },
   "outputs": [],
   "source": []
  },
  {
   "cell_type": "code",
   "execution_count": null,
   "metadata": {
    "collapsed": true
   },
   "outputs": [],
   "source": []
  },
  {
   "cell_type": "code",
   "execution_count": null,
   "metadata": {
    "collapsed": true
   },
   "outputs": [],
   "source": []
  },
  {
   "cell_type": "code",
   "execution_count": null,
   "metadata": {
    "collapsed": true
   },
   "outputs": [],
   "source": []
  },
  {
   "cell_type": "code",
   "execution_count": null,
   "metadata": {
    "collapsed": true
   },
   "outputs": [],
   "source": []
  },
  {
   "cell_type": "code",
   "execution_count": null,
   "metadata": {
    "collapsed": true
   },
   "outputs": [],
   "source": []
  },
  {
   "cell_type": "code",
   "execution_count": null,
   "metadata": {
    "collapsed": true
   },
   "outputs": [],
   "source": []
  },
  {
   "cell_type": "markdown",
   "metadata": {},
   "source": [
    "### 2.4. Selecionando a Ordem do VAR\n",
    "\n",
    "bla bla"
   ]
  },
  {
   "cell_type": "code",
   "execution_count": null,
   "metadata": {
    "collapsed": true
   },
   "outputs": [],
   "source": []
  },
  {
   "cell_type": "code",
   "execution_count": null,
   "metadata": {
    "collapsed": true
   },
   "outputs": [],
   "source": []
  },
  {
   "cell_type": "code",
   "execution_count": null,
   "metadata": {
    "collapsed": true
   },
   "outputs": [],
   "source": []
  },
  {
   "cell_type": "code",
   "execution_count": null,
   "metadata": {
    "collapsed": true
   },
   "outputs": [],
   "source": []
  },
  {
   "cell_type": "code",
   "execution_count": null,
   "metadata": {
    "collapsed": true
   },
   "outputs": [],
   "source": []
  },
  {
   "cell_type": "code",
   "execution_count": null,
   "metadata": {
    "collapsed": true
   },
   "outputs": [],
   "source": []
  },
  {
   "cell_type": "code",
   "execution_count": null,
   "metadata": {
    "collapsed": true
   },
   "outputs": [],
   "source": []
  },
  {
   "cell_type": "code",
   "execution_count": null,
   "metadata": {
    "collapsed": true
   },
   "outputs": [],
   "source": []
  },
  {
   "cell_type": "markdown",
   "metadata": {
    "collapsed": true
   },
   "source": [
    "## 3. Aplicando o modelo VAR\n",
    "\n",
    "Nesta seção ..."
   ]
  },
  {
   "cell_type": "code",
   "execution_count": null,
   "metadata": {
    "collapsed": true
   },
   "outputs": [],
   "source": []
  },
  {
   "cell_type": "code",
   "execution_count": null,
   "metadata": {
    "collapsed": true
   },
   "outputs": [],
   "source": []
  },
  {
   "cell_type": "code",
   "execution_count": null,
   "metadata": {
    "collapsed": true
   },
   "outputs": [],
   "source": []
  },
  {
   "cell_type": "code",
   "execution_count": null,
   "metadata": {
    "collapsed": true
   },
   "outputs": [],
   "source": []
  },
  {
   "cell_type": "code",
   "execution_count": null,
   "metadata": {
    "collapsed": true
   },
   "outputs": [],
   "source": []
  },
  {
   "cell_type": "code",
   "execution_count": null,
   "metadata": {
    "collapsed": true
   },
   "outputs": [],
   "source": []
  },
  {
   "cell_type": "markdown",
   "metadata": {},
   "source": [
    "\n",
    "## 4. Conclusão\n",
    "\n",
    "bla bla\n",
    "\n",
    "\n",
    "\n",
    "\n",
    "## 5. Últimas Considerações\n",
    "\n",
    "bla bla\n"
   ]
  },
  {
   "cell_type": "markdown",
   "metadata": {},
   "source": [
    "*Style notebook and change matplotlib defaults*"
   ]
  },
  {
   "cell_type": "code",
   "execution_count": 9,
   "metadata": {
    "collapsed": false
   },
   "outputs": [
    {
     "data": {
      "text/html": [
       "<style>\n",
       "    @font-face {\n",
       "        font-family: \"Computer Modern\";\n",
       "        src: url('http://9dbb143991406a7c655e-aa5fcb0a5a4ec34cff238a2d56ca4144.r56.cf5.rackcdn.com/cmunss.otf');\n",
       "    }\n",
       "    @font-face {\n",
       "        font-family: \"Computer Modern\";\n",
       "        font-weight: bold;\n",
       "        src: url('http://9dbb143991406a7c655e-aa5fcb0a5a4ec34cff238a2d56ca4144.r56.cf5.rackcdn.com/cmunsx.otf');\n",
       "    }\n",
       "    @font-face {\n",
       "        font-family: \"Computer Modern\";\n",
       "        font-style: oblique;\n",
       "        src: url('http://9dbb143991406a7c655e-aa5fcb0a5a4ec34cff238a2d56ca4144.r56.cf5.rackcdn.com/cmunsi.otf');\n",
       "    }\n",
       "    @font-face {\n",
       "        font-family: \"Computer Modern\";\n",
       "        font-weight: bold;\n",
       "        font-style: oblique;\n",
       "        src: url('http://9dbb143991406a7c655e-aa5fcb0a5a4ec34cff238a2d56ca4144.r56.cf5.rackcdn.com/cmunso.otf');\n",
       "    }\n",
       "    div.cell{\n",
       "        width:800px;\n",
       "        margin-left:16% !important;\n",
       "        margin-right:auto;\n",
       "    }\n",
       "    h1 {\n",
       "        font-family: Helvetica, serif;\n",
       "    }\n",
       "    h4{\n",
       "        margin-top:12px;\n",
       "        margin-bottom: 3px;\n",
       "       }\n",
       "    div.text_cell_render{\n",
       "        font-family: Computer Modern, \"Helvetica Neue\", Arial, Helvetica, Geneva, sans-serif;\n",
       "        line-height: 145%;\n",
       "        font-size: 130%;\n",
       "        width:800px;\n",
       "        margin-left:auto;\n",
       "        margin-right:auto;\n",
       "    }\n",
       "    .CodeMirror{\n",
       "            font-family: \"Source Code Pro\", source-code-pro,Consolas, monospace;\n",
       "    }\n",
       "    .prompt{\n",
       "        display: None;\n",
       "    }\n",
       "    .text_cell_render h5 {\n",
       "        font-weight: 300;\n",
       "        font-size: 22pt;\n",
       "        color: #4057A1;\n",
       "        font-style: italic;\n",
       "        margin-bottom: .5em;\n",
       "        margin-top: 0.5em;\n",
       "        display: block;\n",
       "    }\n",
       "\n",
       "    .warning{\n",
       "        color: rgb( 240, 20, 20 )\n",
       "        }\n",
       "</style>\n",
       "\n",
       "\n",
       "\n",
       "<style>\n",
       "    table {\n",
       "        overflow:hidden;\n",
       "        font-family: Computer Modern, \"Helvetica Neue\", Arial, Helvetica, Geneva, sans-serif;\n",
       "        font-size: 12px;\n",
       "        margin: 10px;\n",
       "        width: 480px;\n",
       "        text-align: left;\n",
       "        border-collapse: collapse;\n",
       "        border: 1px solid #d3d3d3;\n",
       "        -moz-border-radius:5px; FF1+;\n",
       "        -webkit-border-radius:5px; Saf3-4;\n",
       "        border-radius:5px;\n",
       "        -moz-box-shadow: 0 0 4px rgba(0, 0, 0, 0.01);\n",
       "    }\n",
       "    th\n",
       "    {\n",
       "        padding: 12px 17px 12px 17px;\n",
       "        font-weight: normal;\n",
       "        font-size: 14px;\n",
       "        border-bottom: 1px dashed #69c;\n",
       "    }\n",
       "\n",
       "    td\n",
       "    {\n",
       "        padding: 7px 17px 7px 17px;\n",
       "\n",
       "    }\n",
       "\n",
       "    tbody tr:hover th\n",
       "    {\n",
       "\n",
       "        background:  #E9E9E9;\n",
       "    }\n",
       "\n",
       "    tbody tr:hover td\n",
       "    {\n",
       "\n",
       "        background:  #E9E9E9;\n",
       "    }\n",
       "\n",
       "</style>\n",
       "\n",
       "<script>\n",
       "    MathJax.Hub.Config({\n",
       "                        TeX: {\n",
       "                           extensions: [\"AMSmath.js\"]\n",
       "                           },\n",
       "                tex2jax: {\n",
       "                    inlineMath: [ ['$','$'], [\"\\\\(\",\"\\\\)\"] ],\n",
       "                    displayMath: [ ['$$','$$'], [\"\\\\[\",\"\\\\]\"] ]\n",
       "                },\n",
       "                displayAlign: 'center', // Change this to 'center' to center equations.\n",
       "                \"HTML-CSS\": {\n",
       "                    styles: {'.MathJax_Display': {\"margin\": 4}}\n",
       "                }\n",
       "        });\n",
       "</script>\n"
      ],
      "text/plain": [
       "<IPython.core.display.HTML object>"
      ]
     },
     "execution_count": 9,
     "metadata": {},
     "output_type": "execute_result"
    }
   ],
   "source": [
    "#loading style sheet\n",
    "from IPython.core.display import HTML\n",
    "HTML(open('ipython_style.css').read())"
   ]
  },
  {
   "cell_type": "code",
   "execution_count": 6,
   "metadata": {
    "collapsed": true
   },
   "outputs": [],
   "source": [
    "#changing matplotlib defaults\n",
    "%matplotlib inline\n",
    "import seaborn as sns\n",
    "sns.set_palette(\"deep\", desat=.6)\n",
    "sns.set_context(rc={\"figure.figsize\": (8, 4)})\n",
    "sns.set_style(\"whitegrid\")\n",
    "sns.set_palette(sns.color_palette(\"Set2\", 10))"
   ]
  },
  {
   "cell_type": "code",
   "execution_count": null,
   "metadata": {
    "collapsed": true
   },
   "outputs": [],
   "source": []
  }
 ],
 "metadata": {
  "anaconda-cloud": {},
  "kernelspec": {
   "display_name": "Python 2",
   "language": "python",
   "name": "python2"
  },
  "language_info": {
   "codemirror_mode": {
    "name": "ipython",
    "version": 2
   },
   "file_extension": ".py",
   "mimetype": "text/x-python",
   "name": "python",
   "nbconvert_exporter": "python",
   "pygments_lexer": "ipython2",
   "version": "2.7.11"
  }
 },
 "nbformat": 4,
 "nbformat_minor": 0
}
