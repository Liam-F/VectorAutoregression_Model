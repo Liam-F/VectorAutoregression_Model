{
 "cells": [
  {
   "cell_type": "markdown",
   "metadata": {
    "collapsed": true
   },
   "source": [
    "# Modelos e Estratégias de Trading\n",
    "## Ajustando um modelo VAR à PETR4\n",
    "\n",
    "Uirá Caiado. 05 de Setembro, 2016"
   ]
  },
  {
   "cell_type": "markdown",
   "metadata": {},
   "source": [
    "**Resumo**\n",
    "\n",
    "*Uma das principais necessidades quando falamos trading é realizar algum tipo de previsão sobre o estado futuro do instrumento operado para que possamos posicionar nossas ofertas. Como um dos objetivos da análise de séries temporais multivariadas é a realização de forecasts, nesta atividade vou implementar um modelo desta classe chamado Vetor Autoregressivo (VAR). Vou ajustar o modelo aos retornos e informações de book da PETR4 e analisar a performance realizando um back-test em uma parte dos dados coletados que ainda não tenha sido utilizada.*"
   ]
  },
  {
   "cell_type": "markdown",
   "metadata": {},
   "source": [
    "## 1. Introdução\n",
    "\n",
    "Nesta sessão vou ...\n",
    "\n",
    "\n",
    "### 1.1. Modelagem ...\n",
    "\n",
    "bla bla"
   ]
  },
  {
   "cell_type": "code",
   "execution_count": 1,
   "metadata": {
    "collapsed": true
   },
   "outputs": [],
   "source": []
  },
  {
   "cell_type": "code",
   "execution_count": 286,
   "metadata": {
    "collapsed": false
   },
   "outputs": [],
   "source": [
    "import pandas as pd\n",
    "df = pd.read_excel('data/VAR3_inputs_e_outputs.xlsx', header=None)\n",
    "l_index = pd.date_range(start= '01/01/2014', end='01/12/2016')\n",
    "df.index = l_index[:df.shape[0]]"
   ]
  },
  {
   "cell_type": "code",
   "execution_count": 287,
   "metadata": {
    "collapsed": true
   },
   "outputs": [],
   "source": [
    "from statsmodels.tsa.api import VAR\n",
    "import statsmodels.tsa.vector_ar.util as util\n",
    "model = VAR(df)\n",
    "results = model.fit(3)\n",
    "aux = util.get_var_endog(df.values, 3)"
   ]
  },
  {
   "cell_type": "code",
   "execution_count": 288,
   "metadata": {
    "collapsed": false
   },
   "outputs": [],
   "source": [
    "import var_model.vector_autoregression as var\n",
    "reload(var)\n",
    "self = var.VectorAutoregression(df)\n",
    "self.fit(3)"
   ]
  },
  {
   "cell_type": "code",
   "execution_count": 289,
   "metadata": {
    "collapsed": false
   },
   "outputs": [
    {
     "name": "stdout",
     "output_type": "stream",
     "text": [
      "error in Z: 0.00000000\n"
     ]
    }
   ],
   "source": [
    "# error in Z\n",
    "print \"error in Z: {:0.8f}\".format(sum(sum(abs(self.na_Z.T - aux))))"
   ]
  },
  {
   "cell_type": "code",
   "execution_count": 290,
   "metadata": {
    "collapsed": false
   },
   "outputs": [
    {
     "name": "stdout",
     "output_type": "stream",
     "text": [
      "error in A: 0.00000000\n"
     ]
    }
   ],
   "source": [
    "#print error\n",
    "print \"error in A: {:0.8f}\".format(sum(sum(sum(abs(self.na_A - results.coefs)))))"
   ]
  },
  {
   "cell_type": "code",
   "execution_count": 291,
   "metadata": {
    "collapsed": false
   },
   "outputs": [
    {
     "name": "stdout",
     "output_type": "stream",
     "text": [
      "error in B: 9.87466903\n"
     ]
    }
   ],
   "source": [
    "# print betas\n",
    "print \"error in B: {:0.8f}\".format(sum(sum(abs(self.na_betahat.T - results.params.values))))"
   ]
  },
  {
   "cell_type": "code",
   "execution_count": 292,
   "metadata": {
    "collapsed": false
   },
   "outputs": [
    {
     "name": "stdout",
     "output_type": "stream",
     "text": [
      "error in residuals: 11.05554726\n"
     ]
    }
   ],
   "source": [
    "print \"error in residuals: {:0.8f}\".format(sum(sum(abs(self.na_U.T - results.resid.values))))"
   ]
  },
  {
   "cell_type": "code",
   "execution_count": null,
   "metadata": {
    "collapsed": true
   },
   "outputs": [],
   "source": []
  },
  {
   "cell_type": "code",
   "execution_count": null,
   "metadata": {
    "collapsed": true
   },
   "outputs": [],
   "source": []
  },
  {
   "cell_type": "code",
   "execution_count": null,
   "metadata": {
    "collapsed": true
   },
   "outputs": [],
   "source": []
  },
  {
   "cell_type": "code",
   "execution_count": null,
   "metadata": {
    "collapsed": true
   },
   "outputs": [],
   "source": []
  },
  {
   "cell_type": "code",
   "execution_count": null,
   "metadata": {
    "collapsed": true
   },
   "outputs": [],
   "source": []
  },
  {
   "cell_type": "code",
   "execution_count": null,
   "metadata": {
    "collapsed": true
   },
   "outputs": [],
   "source": []
  },
  {
   "cell_type": "code",
   "execution_count": null,
   "metadata": {
    "collapsed": true
   },
   "outputs": [],
   "source": []
  },
  {
   "cell_type": "code",
   "execution_count": null,
   "metadata": {
    "collapsed": true
   },
   "outputs": [],
   "source": []
  },
  {
   "cell_type": "code",
   "execution_count": 223,
   "metadata": {
    "collapsed": true
   },
   "outputs": [],
   "source": [
    "na_betas = self.na_betahat.copy()\n"
   ]
  },
  {
   "cell_type": "code",
   "execution_count": 224,
   "metadata": {
    "collapsed": true
   },
   "outputs": [],
   "source": [
    "for idx in xrange(len(na_betas)):\n",
    "    na_betas[idx] = na_betas[idx].T"
   ]
  },
  {
   "cell_type": "code",
   "execution_count": 233,
   "metadata": {
    "collapsed": false
   },
   "outputs": [
    {
     "data": {
      "text/html": [
       "<div>\n",
       "<table border=\"1\" class=\"dataframe\">\n",
       "  <thead>\n",
       "    <tr style=\"text-align: right;\">\n",
       "      <th></th>\n",
       "      <th>1</th>\n",
       "      <th>2</th>\n",
       "      <th>3</th>\n",
       "      <th>4</th>\n",
       "      <th>5</th>\n",
       "    </tr>\n",
       "  </thead>\n",
       "  <tbody>\n",
       "    <tr>\n",
       "      <th>0</th>\n",
       "      <td>-0.043374</td>\n",
       "      <td>0.005321</td>\n",
       "      <td>0.008242</td>\n",
       "      <td>0.035804</td>\n",
       "      <td>-0.064091</td>\n",
       "    </tr>\n",
       "    <tr>\n",
       "      <th>1</th>\n",
       "      <td>0.128951</td>\n",
       "      <td>0.178780</td>\n",
       "      <td>0.115180</td>\n",
       "      <td>0.166959</td>\n",
       "      <td>-0.059743</td>\n",
       "    </tr>\n",
       "    <tr>\n",
       "      <th>2</th>\n",
       "      <td>-0.127479</td>\n",
       "      <td>0.003759</td>\n",
       "      <td>-0.050708</td>\n",
       "      <td>0.048654</td>\n",
       "      <td>-0.097786</td>\n",
       "    </tr>\n",
       "    <tr>\n",
       "      <th>3</th>\n",
       "      <td>0.049648</td>\n",
       "      <td>0.032509</td>\n",
       "      <td>0.007212</td>\n",
       "      <td>-0.117873</td>\n",
       "      <td>0.268141</td>\n",
       "    </tr>\n",
       "    <tr>\n",
       "      <th>4</th>\n",
       "      <td>-0.071250</td>\n",
       "      <td>-0.072283</td>\n",
       "      <td>-0.041946</td>\n",
       "      <td>-0.049864</td>\n",
       "      <td>-0.054190</td>\n",
       "    </tr>\n",
       "  </tbody>\n",
       "</table>\n",
       "</div>"
      ],
      "text/plain": [
       "          1         2         3         4         5\n",
       "0 -0.043374  0.005321  0.008242  0.035804 -0.064091\n",
       "1  0.128951  0.178780  0.115180  0.166959 -0.059743\n",
       "2 -0.127479  0.003759 -0.050708  0.048654 -0.097786\n",
       "3  0.049648  0.032509  0.007212 -0.117873  0.268141\n",
       "4 -0.071250 -0.072283 -0.041946 -0.049864 -0.054190"
      ]
     },
     "execution_count": 233,
     "metadata": {},
     "output_type": "execute_result"
    }
   ],
   "source": [
    "pd.DataFrame(na_betas).ix[:, 1:5]"
   ]
  },
  {
   "cell_type": "code",
   "execution_count": 215,
   "metadata": {
    "collapsed": false
   },
   "outputs": [
    {
     "data": {
      "text/html": [
       "<div>\n",
       "<table border=\"1\" class=\"dataframe\">\n",
       "  <thead>\n",
       "    <tr style=\"text-align: right;\">\n",
       "      <th></th>\n",
       "      <th>0</th>\n",
       "      <th>1</th>\n",
       "      <th>2</th>\n",
       "      <th>3</th>\n",
       "      <th>4</th>\n",
       "    </tr>\n",
       "  </thead>\n",
       "  <tbody>\n",
       "    <tr>\n",
       "      <th>const</th>\n",
       "      <td>0.000005</td>\n",
       "      <td>0.000422</td>\n",
       "      <td>0.000810</td>\n",
       "      <td>-0.000025</td>\n",
       "      <td>-0.001338</td>\n",
       "    </tr>\n",
       "    <tr>\n",
       "      <th>L1.0</th>\n",
       "      <td>-0.043374</td>\n",
       "      <td>0.005321</td>\n",
       "      <td>0.008242</td>\n",
       "      <td>0.035804</td>\n",
       "      <td>-0.064091</td>\n",
       "    </tr>\n",
       "    <tr>\n",
       "      <th>L1.1</th>\n",
       "      <td>0.128951</td>\n",
       "      <td>0.178780</td>\n",
       "      <td>0.115180</td>\n",
       "      <td>0.166959</td>\n",
       "      <td>-0.059743</td>\n",
       "    </tr>\n",
       "    <tr>\n",
       "      <th>L1.2</th>\n",
       "      <td>-0.127479</td>\n",
       "      <td>0.003759</td>\n",
       "      <td>-0.050708</td>\n",
       "      <td>0.048654</td>\n",
       "      <td>-0.097786</td>\n",
       "    </tr>\n",
       "    <tr>\n",
       "      <th>L1.3</th>\n",
       "      <td>0.049648</td>\n",
       "      <td>0.032509</td>\n",
       "      <td>0.007212</td>\n",
       "      <td>-0.117873</td>\n",
       "      <td>0.268141</td>\n",
       "    </tr>\n",
       "    <tr>\n",
       "      <th>L1.4</th>\n",
       "      <td>-0.071250</td>\n",
       "      <td>-0.072283</td>\n",
       "      <td>-0.041946</td>\n",
       "      <td>-0.049864</td>\n",
       "      <td>-0.054190</td>\n",
       "    </tr>\n",
       "    <tr>\n",
       "      <th>L2.0</th>\n",
       "      <td>0.013431</td>\n",
       "      <td>-0.244118</td>\n",
       "      <td>-0.047898</td>\n",
       "      <td>-0.043729</td>\n",
       "      <td>-0.028104</td>\n",
       "    </tr>\n",
       "    <tr>\n",
       "      <th>L2.1</th>\n",
       "      <td>0.001495</td>\n",
       "      <td>-0.004717</td>\n",
       "      <td>0.179970</td>\n",
       "      <td>0.159101</td>\n",
       "      <td>0.096378</td>\n",
       "    </tr>\n",
       "    <tr>\n",
       "      <th>L2.2</th>\n",
       "      <td>-0.242662</td>\n",
       "      <td>-0.345717</td>\n",
       "      <td>-0.487353</td>\n",
       "      <td>-0.365092</td>\n",
       "      <td>-0.391956</td>\n",
       "    </tr>\n",
       "    <tr>\n",
       "      <th>L2.3</th>\n",
       "      <td>0.245055</td>\n",
       "      <td>0.413840</td>\n",
       "      <td>0.295174</td>\n",
       "      <td>0.193884</td>\n",
       "      <td>0.162951</td>\n",
       "    </tr>\n",
       "    <tr>\n",
       "      <th>L2.4</th>\n",
       "      <td>-0.075217</td>\n",
       "      <td>-0.032270</td>\n",
       "      <td>0.055272</td>\n",
       "      <td>0.068610</td>\n",
       "      <td>-0.030571</td>\n",
       "    </tr>\n",
       "    <tr>\n",
       "      <th>L3.0</th>\n",
       "      <td>-0.044115</td>\n",
       "      <td>-0.075600</td>\n",
       "      <td>-0.110870</td>\n",
       "      <td>-0.040539</td>\n",
       "      <td>-0.046125</td>\n",
       "    </tr>\n",
       "    <tr>\n",
       "      <th>L3.1</th>\n",
       "      <td>0.015434</td>\n",
       "      <td>-0.076008</td>\n",
       "      <td>0.027031</td>\n",
       "      <td>0.032051</td>\n",
       "      <td>-0.081289</td>\n",
       "    </tr>\n",
       "    <tr>\n",
       "      <th>L3.2</th>\n",
       "      <td>0.056729</td>\n",
       "      <td>0.070572</td>\n",
       "      <td>-0.034428</td>\n",
       "      <td>-0.016870</td>\n",
       "      <td>0.247950</td>\n",
       "    </tr>\n",
       "    <tr>\n",
       "      <th>L3.3</th>\n",
       "      <td>-0.180469</td>\n",
       "      <td>0.017278</td>\n",
       "      <td>-0.013438</td>\n",
       "      <td>-0.037124</td>\n",
       "      <td>-0.131097</td>\n",
       "    </tr>\n",
       "    <tr>\n",
       "      <th>L3.4</th>\n",
       "      <td>0.065909</td>\n",
       "      <td>0.042417</td>\n",
       "      <td>-0.022812</td>\n",
       "      <td>-0.001811</td>\n",
       "      <td>-0.025088</td>\n",
       "    </tr>\n",
       "  </tbody>\n",
       "</table>\n",
       "</div>"
      ],
      "text/plain": [
       "              0         1         2         3         4\n",
       "const  0.000005  0.000422  0.000810 -0.000025 -0.001338\n",
       "L1.0  -0.043374  0.005321  0.008242  0.035804 -0.064091\n",
       "L1.1   0.128951  0.178780  0.115180  0.166959 -0.059743\n",
       "L1.2  -0.127479  0.003759 -0.050708  0.048654 -0.097786\n",
       "L1.3   0.049648  0.032509  0.007212 -0.117873  0.268141\n",
       "L1.4  -0.071250 -0.072283 -0.041946 -0.049864 -0.054190\n",
       "L2.0   0.013431 -0.244118 -0.047898 -0.043729 -0.028104\n",
       "L2.1   0.001495 -0.004717  0.179970  0.159101  0.096378\n",
       "L2.2  -0.242662 -0.345717 -0.487353 -0.365092 -0.391956\n",
       "L2.3   0.245055  0.413840  0.295174  0.193884  0.162951\n",
       "L2.4  -0.075217 -0.032270  0.055272  0.068610 -0.030571\n",
       "L3.0  -0.044115 -0.075600 -0.110870 -0.040539 -0.046125\n",
       "L3.1   0.015434 -0.076008  0.027031  0.032051 -0.081289\n",
       "L3.2   0.056729  0.070572 -0.034428 -0.016870  0.247950\n",
       "L3.3  -0.180469  0.017278 -0.013438 -0.037124 -0.131097\n",
       "L3.4   0.065909  0.042417 -0.022812 -0.001811 -0.025088"
      ]
     },
     "execution_count": 215,
     "metadata": {},
     "output_type": "execute_result"
    }
   ],
   "source": [
    "results.params"
   ]
  },
  {
   "cell_type": "code",
   "execution_count": 234,
   "metadata": {
    "collapsed": false
   },
   "outputs": [
    {
     "data": {
      "text/plain": [
       "(16, 197)"
      ]
     },
     "execution_count": 234,
     "metadata": {},
     "output_type": "execute_result"
    }
   ],
   "source": [
    "self.na_Z.shape"
   ]
  },
  {
   "cell_type": "code",
   "execution_count": 236,
   "metadata": {
    "collapsed": false
   },
   "outputs": [
    {
     "data": {
      "text/plain": [
       "(3, 5, 5)"
      ]
     },
     "execution_count": 236,
     "metadata": {},
     "output_type": "execute_result"
    }
   ],
   "source": [
    "self.na_A.shape"
   ]
  },
  {
   "cell_type": "code",
   "execution_count": 261,
   "metadata": {
    "collapsed": false
   },
   "outputs": [
    {
     "data": {
      "text/html": [
       "<div>\n",
       "<table border=\"1\" class=\"dataframe\">\n",
       "  <thead>\n",
       "    <tr style=\"text-align: right;\">\n",
       "      <th></th>\n",
       "      <th>0</th>\n",
       "      <th>1</th>\n",
       "      <th>2</th>\n",
       "      <th>3</th>\n",
       "      <th>4</th>\n",
       "    </tr>\n",
       "  </thead>\n",
       "  <tbody>\n",
       "    <tr>\n",
       "      <th>0</th>\n",
       "      <td>0.000005</td>\n",
       "      <td>0.000422</td>\n",
       "      <td>0.000810</td>\n",
       "      <td>-0.000025</td>\n",
       "      <td>-0.001338</td>\n",
       "    </tr>\n",
       "    <tr>\n",
       "      <th>1</th>\n",
       "      <td>-0.043374</td>\n",
       "      <td>0.128951</td>\n",
       "      <td>-0.127479</td>\n",
       "      <td>0.049648</td>\n",
       "      <td>-0.071250</td>\n",
       "    </tr>\n",
       "    <tr>\n",
       "      <th>2</th>\n",
       "      <td>0.005321</td>\n",
       "      <td>0.178780</td>\n",
       "      <td>0.003759</td>\n",
       "      <td>0.032509</td>\n",
       "      <td>-0.072283</td>\n",
       "    </tr>\n",
       "    <tr>\n",
       "      <th>3</th>\n",
       "      <td>0.008242</td>\n",
       "      <td>0.115180</td>\n",
       "      <td>-0.050708</td>\n",
       "      <td>0.007212</td>\n",
       "      <td>-0.041946</td>\n",
       "    </tr>\n",
       "    <tr>\n",
       "      <th>4</th>\n",
       "      <td>0.035804</td>\n",
       "      <td>0.166959</td>\n",
       "      <td>0.048654</td>\n",
       "      <td>-0.117873</td>\n",
       "      <td>-0.049864</td>\n",
       "    </tr>\n",
       "    <tr>\n",
       "      <th>5</th>\n",
       "      <td>-0.064091</td>\n",
       "      <td>-0.059743</td>\n",
       "      <td>-0.097786</td>\n",
       "      <td>0.268141</td>\n",
       "      <td>-0.054190</td>\n",
       "    </tr>\n",
       "    <tr>\n",
       "      <th>6</th>\n",
       "      <td>0.013431</td>\n",
       "      <td>0.001495</td>\n",
       "      <td>-0.242662</td>\n",
       "      <td>0.245055</td>\n",
       "      <td>-0.075217</td>\n",
       "    </tr>\n",
       "    <tr>\n",
       "      <th>7</th>\n",
       "      <td>-0.244118</td>\n",
       "      <td>-0.004717</td>\n",
       "      <td>-0.345717</td>\n",
       "      <td>0.413840</td>\n",
       "      <td>-0.032270</td>\n",
       "    </tr>\n",
       "    <tr>\n",
       "      <th>8</th>\n",
       "      <td>-0.047898</td>\n",
       "      <td>0.179970</td>\n",
       "      <td>-0.487353</td>\n",
       "      <td>0.295174</td>\n",
       "      <td>0.055272</td>\n",
       "    </tr>\n",
       "    <tr>\n",
       "      <th>9</th>\n",
       "      <td>-0.043729</td>\n",
       "      <td>0.159101</td>\n",
       "      <td>-0.365092</td>\n",
       "      <td>0.193884</td>\n",
       "      <td>0.068610</td>\n",
       "    </tr>\n",
       "    <tr>\n",
       "      <th>10</th>\n",
       "      <td>-0.028104</td>\n",
       "      <td>0.096378</td>\n",
       "      <td>-0.391956</td>\n",
       "      <td>0.162951</td>\n",
       "      <td>-0.030571</td>\n",
       "    </tr>\n",
       "    <tr>\n",
       "      <th>11</th>\n",
       "      <td>-0.044115</td>\n",
       "      <td>0.015434</td>\n",
       "      <td>0.056729</td>\n",
       "      <td>-0.180469</td>\n",
       "      <td>0.065909</td>\n",
       "    </tr>\n",
       "    <tr>\n",
       "      <th>12</th>\n",
       "      <td>-0.075600</td>\n",
       "      <td>-0.076008</td>\n",
       "      <td>0.070572</td>\n",
       "      <td>0.017278</td>\n",
       "      <td>0.042417</td>\n",
       "    </tr>\n",
       "    <tr>\n",
       "      <th>13</th>\n",
       "      <td>-0.110870</td>\n",
       "      <td>0.027031</td>\n",
       "      <td>-0.034428</td>\n",
       "      <td>-0.013438</td>\n",
       "      <td>-0.022812</td>\n",
       "    </tr>\n",
       "    <tr>\n",
       "      <th>14</th>\n",
       "      <td>-0.040539</td>\n",
       "      <td>0.032051</td>\n",
       "      <td>-0.016870</td>\n",
       "      <td>-0.037124</td>\n",
       "      <td>-0.001811</td>\n",
       "    </tr>\n",
       "    <tr>\n",
       "      <th>15</th>\n",
       "      <td>-0.046125</td>\n",
       "      <td>-0.081289</td>\n",
       "      <td>0.247950</td>\n",
       "      <td>-0.131097</td>\n",
       "      <td>-0.025088</td>\n",
       "    </tr>\n",
       "  </tbody>\n",
       "</table>\n",
       "</div>"
      ],
      "text/plain": [
       "           0         1         2         3         4\n",
       "0   0.000005  0.000422  0.000810 -0.000025 -0.001338\n",
       "1  -0.043374  0.128951 -0.127479  0.049648 -0.071250\n",
       "2   0.005321  0.178780  0.003759  0.032509 -0.072283\n",
       "3   0.008242  0.115180 -0.050708  0.007212 -0.041946\n",
       "4   0.035804  0.166959  0.048654 -0.117873 -0.049864\n",
       "5  -0.064091 -0.059743 -0.097786  0.268141 -0.054190\n",
       "6   0.013431  0.001495 -0.242662  0.245055 -0.075217\n",
       "7  -0.244118 -0.004717 -0.345717  0.413840 -0.032270\n",
       "8  -0.047898  0.179970 -0.487353  0.295174  0.055272\n",
       "9  -0.043729  0.159101 -0.365092  0.193884  0.068610\n",
       "10 -0.028104  0.096378 -0.391956  0.162951 -0.030571\n",
       "11 -0.044115  0.015434  0.056729 -0.180469  0.065909\n",
       "12 -0.075600 -0.076008  0.070572  0.017278  0.042417\n",
       "13 -0.110870  0.027031 -0.034428 -0.013438 -0.022812\n",
       "14 -0.040539  0.032051 -0.016870 -0.037124 -0.001811\n",
       "15 -0.046125 -0.081289  0.247950 -0.131097 -0.025088"
      ]
     },
     "execution_count": 261,
     "metadata": {},
     "output_type": "execute_result"
    }
   ],
   "source": [
    "pd.DataFrame(np.vstack([self.na_v, self.na_A.reshape((1, 15, 5))[0]]))"
   ]
  },
  {
   "cell_type": "code",
   "execution_count": null,
   "metadata": {
    "collapsed": true
   },
   "outputs": [],
   "source": []
  },
  {
   "cell_type": "code",
   "execution_count": null,
   "metadata": {
    "collapsed": true
   },
   "outputs": [],
   "source": []
  },
  {
   "cell_type": "code",
   "execution_count": null,
   "metadata": {
    "collapsed": true
   },
   "outputs": [],
   "source": []
  },
  {
   "cell_type": "code",
   "execution_count": null,
   "metadata": {
    "collapsed": true
   },
   "outputs": [],
   "source": []
  },
  {
   "cell_type": "code",
   "execution_count": 142,
   "metadata": {
    "collapsed": false
   },
   "outputs": [
    {
     "data": {
      "text/plain": [
       "array([-0.00192395,  0.00042494, -0.01179083,  0.00293511, -0.02745351])"
      ]
     },
     "execution_count": 142,
     "metadata": {},
     "output_type": "execute_result"
    }
   ],
   "source": [
    "results.resid.values[0]\n"
   ]
  },
  {
   "cell_type": "code",
   "execution_count": 152,
   "metadata": {
    "collapsed": false
   },
   "outputs": [
    {
     "data": {
      "text/plain": [
       "array([ 0.01645741, -0.00435309,  0.01869885, -0.02866829, -0.04331394])"
      ]
     },
     "execution_count": 152,
     "metadata": {},
     "output_type": "execute_result"
    }
   ],
   "source": [
    "self.na_U.T[0]"
   ]
  },
  {
   "cell_type": "code",
   "execution_count": 149,
   "metadata": {
    "collapsed": false
   },
   "outputs": [],
   "source": [
    "pd.DataFrame(self.na_Sigma.T).to_clipboard()\n"
   ]
  },
  {
   "cell_type": "code",
   "execution_count": 153,
   "metadata": {
    "collapsed": false
   },
   "outputs": [
    {
     "ename": "ValueError",
     "evalue": "operands could not be broadcast together with shapes (5,5) (197,5) ",
     "output_type": "error",
     "traceback": [
      "\u001b[0;31m---------------------------------------------------------------------------\u001b[0m",
      "\u001b[0;31mValueError\u001b[0m                                Traceback (most recent call last)",
      "\u001b[0;32m<ipython-input-153-e58a34935b2c>\u001b[0m in \u001b[0;36m<module>\u001b[0;34m()\u001b[0m\n\u001b[0;32m----> 1\u001b[0;31m \u001b[0mself\u001b[0m\u001b[0;34m.\u001b[0m\u001b[0mna_Sigma\u001b[0m \u001b[0;34m-\u001b[0m \u001b[0mresults\u001b[0m\u001b[0;34m.\u001b[0m\u001b[0mresid\u001b[0m\u001b[0;34m\u001b[0m\u001b[0m\n\u001b[0m",
      "\u001b[0;31mValueError\u001b[0m: operands could not be broadcast together with shapes (5,5) (197,5) "
     ]
    }
   ],
   "source": [
    "\n",
    "self.na_Sigma - results."
   ]
  },
  {
   "cell_type": "code",
   "execution_count": null,
   "metadata": {
    "collapsed": true
   },
   "outputs": [],
   "source": [
    "        avobs = len(y_sample)\n",
    "\n",
    "        df_resid = 197 - (model.neqs * 3 + 1)\n",
    "\n",
    "        sse = np.dot(resid.T, resid)\n",
    "        omega = sse / df_resid"
   ]
  },
  {
   "cell_type": "code",
   "execution_count": 155,
   "metadata": {
    "collapsed": false
   },
   "outputs": [],
   "source": [
    "results.sigma_u.to_clipboard()"
   ]
  },
  {
   "cell_type": "code",
   "execution_count": 156,
   "metadata": {
    "collapsed": false
   },
   "outputs": [
    {
     "data": {
      "text/plain": [
       "5"
      ]
     },
     "execution_count": 156,
     "metadata": {},
     "output_type": "execute_result"
    }
   ],
   "source": [
    "model.neqs"
   ]
  },
  {
   "cell_type": "code",
   "execution_count": 157,
   "metadata": {
    "collapsed": true
   },
   "outputs": [],
   "source": [
    "df_resid = 197 - (model.neqs * 3 + 1)"
   ]
  },
  {
   "cell_type": "code",
   "execution_count": 158,
   "metadata": {
    "collapsed": false
   },
   "outputs": [
    {
     "data": {
      "text/plain": [
       "181"
      ]
     },
     "execution_count": 158,
     "metadata": {},
     "output_type": "execute_result"
    }
   ],
   "source": [
    "df_resid"
   ]
  },
  {
   "cell_type": "code",
   "execution_count": 159,
   "metadata": {
    "collapsed": false
   },
   "outputs": [
    {
     "data": {
      "text/plain": [
       "181"
      ]
     },
     "execution_count": 159,
     "metadata": {},
     "output_type": "execute_result"
    }
   ],
   "source": [
    "197 -5*3 -1"
   ]
  },
  {
   "cell_type": "code",
   "execution_count": 161,
   "metadata": {
    "collapsed": false
   },
   "outputs": [
    {
     "data": {
      "text/plain": [
       "(197, 197)"
      ]
     },
     "execution_count": 161,
     "metadata": {},
     "output_type": "execute_result"
    }
   ],
   "source": [
    "np.dot(self.na_U.T, self.na_U).shape"
   ]
  },
  {
   "cell_type": "code",
   "execution_count": 172,
   "metadata": {
    "collapsed": false
   },
   "outputs": [
    {
     "data": {
      "text/html": [
       "<div>\n",
       "<table border=\"1\" class=\"dataframe\">\n",
       "  <thead>\n",
       "    <tr style=\"text-align: right;\">\n",
       "      <th></th>\n",
       "      <th>0</th>\n",
       "      <th>1</th>\n",
       "      <th>2</th>\n",
       "      <th>3</th>\n",
       "      <th>4</th>\n",
       "    </tr>\n",
       "  </thead>\n",
       "  <tbody>\n",
       "    <tr>\n",
       "      <th>2014-01-04</th>\n",
       "      <td>-0.001924</td>\n",
       "      <td>0.000425</td>\n",
       "      <td>-0.011791</td>\n",
       "      <td>0.002935</td>\n",
       "      <td>-0.027454</td>\n",
       "    </tr>\n",
       "    <tr>\n",
       "      <th>2014-01-05</th>\n",
       "      <td>0.005155</td>\n",
       "      <td>0.008669</td>\n",
       "      <td>0.001139</td>\n",
       "      <td>0.008313</td>\n",
       "      <td>-0.003835</td>\n",
       "    </tr>\n",
       "    <tr>\n",
       "      <th>2014-01-06</th>\n",
       "      <td>0.004475</td>\n",
       "      <td>0.000608</td>\n",
       "      <td>0.010624</td>\n",
       "      <td>0.005673</td>\n",
       "      <td>-0.012449</td>\n",
       "    </tr>\n",
       "    <tr>\n",
       "      <th>2014-01-07</th>\n",
       "      <td>-0.003724</td>\n",
       "      <td>-0.016574</td>\n",
       "      <td>-0.013673</td>\n",
       "      <td>-0.019383</td>\n",
       "      <td>0.004235</td>\n",
       "    </tr>\n",
       "    <tr>\n",
       "      <th>2014-01-08</th>\n",
       "      <td>0.000772</td>\n",
       "      <td>-0.002265</td>\n",
       "      <td>-0.004111</td>\n",
       "      <td>0.002673</td>\n",
       "      <td>-0.005990</td>\n",
       "    </tr>\n",
       "  </tbody>\n",
       "</table>\n",
       "</div>"
      ],
      "text/plain": [
       "                   0         1         2         3         4\n",
       "2014-01-04 -0.001924  0.000425 -0.011791  0.002935 -0.027454\n",
       "2014-01-05  0.005155  0.008669  0.001139  0.008313 -0.003835\n",
       "2014-01-06  0.004475  0.000608  0.010624  0.005673 -0.012449\n",
       "2014-01-07 -0.003724 -0.016574 -0.013673 -0.019383  0.004235\n",
       "2014-01-08  0.000772 -0.002265 -0.004111  0.002673 -0.005990"
      ]
     },
     "execution_count": 172,
     "metadata": {},
     "output_type": "execute_result"
    }
   ],
   "source": [
    "results.resid.head()"
   ]
  },
  {
   "cell_type": "code",
   "execution_count": 174,
   "metadata": {
    "collapsed": false
   },
   "outputs": [
    {
     "data": {
      "text/html": [
       "<div>\n",
       "<table border=\"1\" class=\"dataframe\">\n",
       "  <thead>\n",
       "    <tr style=\"text-align: right;\">\n",
       "      <th></th>\n",
       "      <th>0</th>\n",
       "      <th>1</th>\n",
       "      <th>2</th>\n",
       "      <th>3</th>\n",
       "      <th>4</th>\n",
       "    </tr>\n",
       "  </thead>\n",
       "  <tbody>\n",
       "    <tr>\n",
       "      <th>0</th>\n",
       "      <td>0.016457</td>\n",
       "      <td>-0.004353</td>\n",
       "      <td>0.018699</td>\n",
       "      <td>-0.028668</td>\n",
       "      <td>-0.043314</td>\n",
       "    </tr>\n",
       "    <tr>\n",
       "      <th>1</th>\n",
       "      <td>0.004348</td>\n",
       "      <td>0.013696</td>\n",
       "      <td>-0.028101</td>\n",
       "      <td>0.031078</td>\n",
       "      <td>-0.001872</td>\n",
       "    </tr>\n",
       "    <tr>\n",
       "      <th>2</th>\n",
       "      <td>0.010514</td>\n",
       "      <td>0.012866</td>\n",
       "      <td>0.002784</td>\n",
       "      <td>0.018771</td>\n",
       "      <td>0.001543</td>\n",
       "    </tr>\n",
       "    <tr>\n",
       "      <th>3</th>\n",
       "      <td>-0.007361</td>\n",
       "      <td>-0.025649</td>\n",
       "      <td>0.006894</td>\n",
       "      <td>-0.022466</td>\n",
       "      <td>0.004840</td>\n",
       "    </tr>\n",
       "    <tr>\n",
       "      <th>4</th>\n",
       "      <td>0.001334</td>\n",
       "      <td>-0.011118</td>\n",
       "      <td>0.008890</td>\n",
       "      <td>-0.020785</td>\n",
       "      <td>-0.019724</td>\n",
       "    </tr>\n",
       "  </tbody>\n",
       "</table>\n",
       "</div>"
      ],
      "text/plain": [
       "          0         1         2         3         4\n",
       "0  0.016457 -0.004353  0.018699 -0.028668 -0.043314\n",
       "1  0.004348  0.013696 -0.028101  0.031078 -0.001872\n",
       "2  0.010514  0.012866  0.002784  0.018771  0.001543\n",
       "3 -0.007361 -0.025649  0.006894 -0.022466  0.004840\n",
       "4  0.001334 -0.011118  0.008890 -0.020785 -0.019724"
      ]
     },
     "execution_count": 174,
     "metadata": {},
     "output_type": "execute_result"
    }
   ],
   "source": [
    "pd.DataFrame(self.na_y[3:].T - np.dot(self.na_betahat, self.na_Z)).T.head()"
   ]
  },
  {
   "cell_type": "code",
   "execution_count": 176,
   "metadata": {
    "collapsed": false
   },
   "outputs": [
    {
     "data": {
      "text/plain": [
       "(197, 5)"
      ]
     },
     "execution_count": 176,
     "metadata": {},
     "output_type": "execute_result"
    }
   ],
   "source": [
    "np.dot(aux, results.params).shape"
   ]
  },
  {
   "cell_type": "code",
   "execution_count": 185,
   "metadata": {
    "collapsed": false
   },
   "outputs": [
    {
     "data": {
      "text/plain": [
       "array([ 1.1127088 ,  1.64890783,  4.07310311,  2.94496785,  1.27585967])"
      ]
     },
     "execution_count": 185,
     "metadata": {},
     "output_type": "execute_result"
    }
   ],
   "source": [
    "sum(abs(np.dot(self.na_Z.T, self.na_betahat.T) - np.dot(aux, results.params)))"
   ]
  },
  {
   "cell_type": "code",
   "execution_count": 186,
   "metadata": {
    "collapsed": false
   },
   "outputs": [
    {
     "data": {
      "text/plain": [
       "(197, 16)"
      ]
     },
     "execution_count": 186,
     "metadata": {},
     "output_type": "execute_result"
    }
   ],
   "source": []
  },
  {
   "cell_type": "code",
   "execution_count": 191,
   "metadata": {
    "collapsed": false
   },
   "outputs": [
    {
     "data": {
      "text/plain": [
       "0.0"
      ]
     },
     "execution_count": 191,
     "metadata": {},
     "output_type": "execute_result"
    }
   ],
   "source": [
    "sum(sum(self.na_Z.T - aux))"
   ]
  },
  {
   "cell_type": "code",
   "execution_count": 192,
   "metadata": {
    "collapsed": false
   },
   "outputs": [
    {
     "data": {
      "text/plain": [
       "(16, 5)"
      ]
     },
     "execution_count": 192,
     "metadata": {},
     "output_type": "execute_result"
    }
   ],
   "source": []
  },
  {
   "cell_type": "code",
   "execution_count": 201,
   "metadata": {
    "collapsed": false
   },
   "outputs": [
    {
     "data": {
      "text/plain": [
       "array([ 1.567226  ,  1.80978305,  2.657704  ,  2.09329362,  1.74666236])"
      ]
     },
     "execution_count": 201,
     "metadata": {},
     "output_type": "execute_result"
    }
   ],
   "source": [
    "sum(abs(self.na_betahat.T - results.params.values))"
   ]
  },
  {
   "cell_type": "code",
   "execution_count": 109,
   "metadata": {
    "collapsed": true
   },
   "outputs": [],
   "source": [
    "self.na_Z = self._get_z_mat(i_p)  # Z := [Z_0, ..., Z_T] (T x (Kp+1))\n",
    "na_Z = self.na_Z.copy()  # ((Kp+1) x T)\n",
    "na_ysample = self.na_y[i_p:].T  # Y := (y_1, ..., y_T)  (K x T)\n",
    "na_betahat = self.na_betahat"
   ]
  },
  {
   "cell_type": "code",
   "execution_count": 115,
   "metadata": {
    "collapsed": false
   },
   "outputs": [
    {
     "data": {
      "text/plain": [
       "array([[ -1.58788099e-02,   1.01057442e-02,  -3.92745603e-02,\n",
       "          2.43942848e-02,   6.49996384e-03],\n",
       "       [ -3.19178401e-03,  -2.28862060e-03,   2.47514605e-02,\n",
       "         -2.76183928e-02,   1.87156710e-03],\n",
       "       [  4.39659245e-03,  -3.45903852e-03,   1.92445039e-02,\n",
       "         -6.00896119e-03,  -3.10632844e-03],\n",
       "       [  1.07966472e-03,   1.05546001e-02,  -1.31618076e-02,\n",
       "          9.19900186e-03,  -3.27578766e-03],\n",
       "       [ -4.77706781e-03,  -1.12350475e-03,  -1.96515661e-02,\n",
       "          1.72845251e-02,   2.38665655e-03],\n",
       "       [  1.16712260e-03,  -5.37820904e-03,   1.74498773e-02,\n",
       "         -1.99538461e-02,   1.90829759e-03],\n",
       "       [  7.05262071e-03,   8.18829839e-03,   1.74666789e-02,\n",
       "         -1.03703092e-02,  -6.71222591e-03],\n",
       "       [ -8.04487302e-03,   4.73255231e-03,  -3.54638349e-02,\n",
       "          2.85991814e-02,   4.29448028e-04],\n",
       "       [ -2.16832871e-03,  -1.50591493e-03,   1.70605372e-02,\n",
       "         -1.16175239e-02,  -4.49673682e-03],\n",
       "       [  6.33373798e-04,   7.01670134e-03,  -1.19388052e-02,\n",
       "          9.32803050e-03,  -3.35062361e-03],\n",
       "       [ -2.37877640e-03,   3.76553112e-03,  -1.43082215e-02,\n",
       "          3.17618412e-03,   1.93296436e-03],\n",
       "       [  3.12422579e-03,  -1.73776893e-03,   8.73502763e-03,\n",
       "         -1.20709432e-02,   2.12329932e-03],\n",
       "       [  4.23651100e-03,   7.59252980e-04,   8.65003674e-03,\n",
       "         -9.75362801e-03,  -2.88407225e-03],\n",
       "       [  3.83904773e-03,  -1.05456342e-03,  -5.43701522e-03,\n",
       "          2.52681014e-03,   1.38692399e-03],\n",
       "       [  3.16614883e-03,  -3.19568346e-03,   1.84841126e-02,\n",
       "         -1.75785824e-02,  -2.29686810e-03],\n",
       "       [  6.24773464e-03,  -1.54570090e-02,   1.48809286e-02,\n",
       "         -1.09375644e-02,   7.23657651e-03],\n",
       "       [  8.90892539e-03,  -1.20643872e-02,   4.54958650e-02,\n",
       "         -2.83755467e-02,  -1.95301914e-03],\n",
       "       [  7.44138350e-03,  -5.80184902e-03,  -3.51957327e-03,\n",
       "          8.93344957e-03,  -6.05009516e-03],\n",
       "       [  2.70774556e-03,  -1.69283784e-03,   9.49098297e-03,\n",
       "         -8.25560578e-04,  -3.97390265e-03],\n",
       "       [  1.01998369e-03,   1.03330357e-02,  -3.78594574e-02,\n",
       "          1.95363010e-02,   2.19352792e-03],\n",
       "       [ -5.65270669e-03,  -5.78342378e-03,   1.26583540e-02,\n",
       "         -1.44502798e-02,  -1.50376799e-03],\n",
       "       [  8.66153669e-03,  -4.29798729e-03,   2.21113250e-02,\n",
       "         -1.47284103e-02,  -3.51292918e-03],\n",
       "       [  1.28288856e-04,  -6.77486521e-03,   4.30750050e-03,\n",
       "          1.53152600e-03,   1.68878334e-03],\n",
       "       [  3.95849047e-03,  -7.58531673e-03,   1.31665005e-02,\n",
       "         -1.07824494e-02,   1.55120277e-04],\n",
       "       [  6.59779715e-03,   3.92804070e-03,   1.80000074e-02,\n",
       "         -1.11912586e-02,  -4.60191941e-03],\n",
       "       [ -8.36701099e-04,   9.75093537e-03,  -3.03234271e-02,\n",
       "          2.01146590e-02,   8.83099833e-04],\n",
       "       [ -4.65283451e-03,  -4.22115946e-03,   7.59389094e-03,\n",
       "         -6.87600500e-03,   1.23888643e-03],\n",
       "       [  5.16830698e-03,   1.05240570e-02,   1.85281254e-02,\n",
       "         -1.56740532e-02,  -6.45817016e-03],\n",
       "       [ -4.79815632e-03,   1.42583985e-02,  -3.31796666e-02,\n",
       "          2.13258983e-02,   3.82398180e-03],\n",
       "       [ -5.13076735e-03,   4.98401330e-03,  -6.67206440e-03,\n",
       "          3.10869258e-03,   1.74491789e-03],\n",
       "       [ -1.60905860e-03,  -9.22368490e-03,   8.13052894e-03,\n",
       "         -6.67188557e-03,  -1.04718523e-03],\n",
       "       [  7.70453391e-03,  -1.00878208e-02,   4.31075474e-02,\n",
       "         -2.15828691e-02,  -6.69373656e-04],\n",
       "       [ -1.48537597e-03,   1.05161013e-02,  -7.22304538e-03,\n",
       "          5.17310803e-03,  -2.64677736e-03],\n",
       "       [ -5.10913018e-03,  -8.58055179e-03,  -6.94998751e-03,\n",
       "          1.98782596e-02,   3.67574929e-03],\n",
       "       [ -2.16749333e-03,  -2.73260038e-03,   4.98139459e-03,\n",
       "         -7.12880269e-03,   2.62634304e-03],\n",
       "       [  5.31724289e-03,  -3.11538046e-03,   1.08757643e-02,\n",
       "          2.99335849e-03,  -8.74755711e-03],\n",
       "       [ -9.27369958e-03,   4.62007986e-03,  -9.71438493e-03,\n",
       "          1.47692742e-02,  -4.13101649e-03],\n",
       "       [ -3.47096662e-03,   1.37442464e-02,  -2.61131128e-02,\n",
       "          1.64539796e-02,  -4.94736865e-03],\n",
       "       [ -6.71385059e-03,   2.55491345e-03,   4.93615653e-03,\n",
       "         -8.68174926e-03,   2.32722191e-03],\n",
       "       [  1.13188628e-03,   5.19274673e-04,   1.02182367e-02,\n",
       "         -9.79791872e-03,   4.50146244e-03],\n",
       "       [ -8.57298905e-04,   6.01107486e-03,  -9.99041474e-03,\n",
       "          1.38040722e-02,  -6.03551346e-03],\n",
       "       [ -1.55456847e-03,   7.37201987e-03,  -3.07408099e-02,\n",
       "          2.21403416e-02,  -5.51693292e-03],\n",
       "       [ -5.18751908e-03,   8.28884606e-03,   5.95826869e-03,\n",
       "         -1.24840136e-02,   8.63616049e-04],\n",
       "       [ -6.66933139e-03,  -1.41910555e-03,  -2.39449043e-03,\n",
       "          9.83736118e-03,  -1.31130352e-03],\n",
       "       [  5.20581212e-04,  -4.71768353e-03,   1.15590186e-03,\n",
       "         -3.66854567e-03,   2.83610499e-03],\n",
       "       [  9.65512296e-03,  -6.60955536e-04,   2.21849875e-02,\n",
       "         -2.53945935e-02,   2.94379996e-03],\n",
       "       [  4.04176545e-03,   4.37705110e-03,   6.28220476e-03,\n",
       "         -2.53098685e-03,  -3.77783366e-04],\n",
       "       [  1.60361851e-03,   6.95385985e-03,  -1.73961888e-02,\n",
       "          1.08022157e-02,  -2.43695670e-03],\n",
       "       [ -3.83912165e-03,  -4.40593108e-03,  -1.74692403e-03,\n",
       "         -6.46392995e-04,   5.48855813e-03],\n",
       "       [  6.71479813e-03,  -7.06297215e-03,   2.97287240e-02,\n",
       "         -2.20440277e-02,  -5.05799851e-03],\n",
       "       [  3.56375894e-03,  -1.07853631e-03,   1.52411623e-02,\n",
       "         -1.19553010e-03,  -3.34533913e-03],\n",
       "       [ -4.07339669e-03,   2.70584467e-03,  -2.37928659e-02,\n",
       "          2.03246803e-02,   6.28595206e-04],\n",
       "       [ -2.48736173e-03,  -6.24073284e-03,   9.35678751e-03,\n",
       "         -4.95279270e-03,   8.16057866e-05],\n",
       "       [  4.45762727e-03,  -6.94484166e-03,   1.52298411e-02,\n",
       "         -1.25491901e-02,   1.95300372e-03],\n",
       "       [  3.71483083e-03,   1.68137574e-03,   1.79849508e-02,\n",
       "         -9.40897233e-03,  -3.64226992e-03],\n",
       "       [  1.47867528e-04,   1.35396953e-02,  -2.64794973e-02,\n",
       "          2.06790214e-02,  -5.23380852e-03],\n",
       "       [ -6.54286425e-03,   2.01218383e-02,  -1.96561444e-02,\n",
       "          7.57628127e-03,  -3.28623264e-03],\n",
       "       [ -1.06534590e-02,   9.19965112e-03,  -2.81278392e-02,\n",
       "          1.81231179e-02,   2.31152091e-03],\n",
       "       [ -5.15212541e-03,  -7.58611622e-03,   1.94070707e-02,\n",
       "         -1.23618283e-02,  -2.08346135e-04],\n",
       "       [  1.76854158e-03,  -7.59055921e-03,   7.47862341e-03,\n",
       "          6.25152077e-03,  -1.15558166e-03],\n",
       "       [  4.73501216e-03,   7.85777738e-03,  -2.63615691e-02,\n",
       "         -2.00069891e-05,   6.56188718e-03],\n",
       "       [  4.08160282e-03,  -1.24443323e-02,   4.40552610e-02,\n",
       "         -2.21126005e-02,  -6.74016546e-03],\n",
       "       [  4.70522316e-03,   1.18247537e-03,  -6.44306493e-03,\n",
       "          4.36910775e-03,  -8.67681133e-04],\n",
       "       [ -4.53185809e-03,   2.13998120e-03,   6.05798730e-03,\n",
       "          9.96724788e-03,  -9.06851533e-03],\n",
       "       [ -4.77118065e-03,   2.46098009e-02,  -4.31018819e-02,\n",
       "          1.93906882e-02,  -2.27170941e-03],\n",
       "       [ -1.06544865e-02,   5.03106012e-04,   7.82234321e-03,\n",
       "         -2.36128765e-03,   2.12272223e-03],\n",
       "       [ -4.52918876e-03,  -3.52589793e-03,   2.43225644e-03,\n",
       "          3.62677216e-03,   3.86866767e-03],\n",
       "       [  4.61879627e-03,  -8.23277173e-03,   4.91072960e-03,\n",
       "         -1.40124279e-02,   7.77830834e-03],\n",
       "       [  7.17910506e-03,  -6.05395535e-03,   5.69407477e-02,\n",
       "         -2.97645367e-02,  -6.08403887e-03],\n",
       "       [  2.46528253e-03,  -2.43649707e-03,  -4.97686948e-02,\n",
       "          4.02970757e-02,   3.54373476e-03],\n",
       "       [  2.45544824e-03,  -2.63790500e-02,   5.73252321e-02,\n",
       "         -4.02934546e-02,  -1.94936796e-03],\n",
       "       [  1.80845761e-02,  -3.46257676e-03,   2.10347361e-02,\n",
       "         -1.52993241e-02,  -3.08752430e-03],\n",
       "       [  5.16099675e-03,   3.57559194e-03,  -8.61618258e-03,\n",
       "          4.95837668e-03,  -6.35127839e-04],\n",
       "       [ -3.41481088e-03,   9.97206933e-03,  -5.88254704e-03,\n",
       "          2.76665474e-03,  -5.90422501e-03],\n",
       "       [ -3.85707835e-03,  -2.24787330e-03,  -2.72036010e-02,\n",
       "          2.41821797e-02,  -6.94653691e-04],\n",
       "       [ -4.86281450e-04,  -6.54276193e-03,   1.97510177e-02,\n",
       "         -2.14207780e-02,   2.87974602e-03],\n",
       "       [  8.03820410e-03,  -7.59476287e-03,   1.09068709e-02,\n",
       "         -1.37158114e-02,   2.69263045e-03],\n",
       "       [  8.70734194e-03,  -1.05941110e-02,   4.05614491e-02,\n",
       "         -2.33137621e-02,  -4.47544228e-03],\n",
       "       [  7.35889659e-03,   2.38735607e-02,  -2.17821287e-02,\n",
       "          5.68693704e-03,  -7.67281695e-03],\n",
       "       [ -1.43721825e-03,   8.36220010e-03,  -3.17152551e-02,\n",
       "          1.87221300e-02,   1.13385893e-03],\n",
       "       [ -6.03349093e-03,   3.65278106e-04,   1.99865343e-02,\n",
       "         -2.30136462e-02,   3.70041019e-03],\n",
       "       [  3.25977882e-03,  -5.96328242e-03,  -1.06297174e-02,\n",
       "          1.21050439e-02,  -1.39782554e-03],\n",
       "       [  6.33855747e-03,   8.46275530e-03,   2.02032401e-02,\n",
       "         -1.55008609e-02,  -9.24682918e-03],\n",
       "       [ -7.35594500e-03,   1.29332866e-02,  -3.83760330e-02,\n",
       "          2.72001445e-02,  -3.04555521e-04],\n",
       "       [ -1.09683753e-02,   3.85997432e-04,  -7.33845158e-04,\n",
       "          1.86635928e-03,   8.63183753e-04],\n",
       "       [  2.08204391e-03,   4.12172732e-04,  -3.76760362e-04,\n",
       "          2.93572288e-04,  -5.18678771e-03],\n",
       "       [  3.20543884e-04,  -8.02238643e-03,   9.66590645e-03,\n",
       "         -8.55039670e-03,   3.18676420e-03],\n",
       "       [  6.63530389e-03,   4.39122588e-04,   2.36651771e-02,\n",
       "         -2.13924331e-02,  -2.72260718e-03],\n",
       "       [  4.61950393e-03,   2.08175801e-03,  -3.13325633e-03,\n",
       "         -4.72221423e-04,   5.41950540e-04],\n",
       "       [  8.30284340e-03,   7.63029944e-03,   1.01295012e-02,\n",
       "         -1.63841291e-02,   3.27050856e-03],\n",
       "       [ -4.10027856e-03,   1.52925677e-02,  -8.60569479e-03,\n",
       "          7.73353819e-03,  -3.36061374e-03],\n",
       "       [ -1.09691288e-02,   1.44481908e-02,  -3.96444817e-02,\n",
       "          3.79690085e-02,  -5.99620655e-03],\n",
       "       [ -1.40446681e-02,   5.02732996e-03,  -2.75296757e-02,\n",
       "          1.98139814e-02,   5.65980864e-04],\n",
       "       [ -1.95006498e-03,   3.40213952e-03,   9.56526399e-03,\n",
       "         -1.11650120e-02,  -8.25703628e-04],\n",
       "       [ -3.53499094e-03,  -3.01549397e-03,   3.17297001e-03,\n",
       "          6.42654530e-06,   2.47199554e-03],\n",
       "       [  2.23994400e-03,  -8.04606720e-03,   1.99493379e-02,\n",
       "         -1.02864708e-02,  -2.17870625e-03],\n",
       "       [  4.11040842e-03,  -5.20356786e-03,   8.78788529e-03,\n",
       "          3.00849382e-04,  -4.88420288e-04],\n",
       "       [  1.32015834e-03,   4.72471387e-03,  -1.28979257e-03,\n",
       "         -2.19776281e-03,  -2.75675721e-03],\n",
       "       [  1.19452855e-03,  -1.08885962e-02,  -3.42905551e-04,\n",
       "          1.48392900e-03,   6.01404183e-03],\n",
       "       [  1.12710870e-02,  -3.51347536e-03,   3.93915303e-02,\n",
       "         -3.92458141e-02,   2.45419629e-03],\n",
       "       [  6.91644812e-03,   1.10449776e-03,  -9.48954457e-03,\n",
       "          1.04741632e-02,   3.83270090e-03],\n",
       "       [ -2.65736945e-04,  -1.20295527e-02,   8.12914541e-03,\n",
       "         -3.47340161e-03,  -2.85085090e-03],\n",
       "       [  8.65318679e-03,  -2.02808227e-02,   3.35605881e-02,\n",
       "         -2.29969516e-02,   4.38764122e-03],\n",
       "       [  1.28532134e-02,  -1.09631044e-02,   4.14915236e-02,\n",
       "         -2.44580139e-02,  -5.72589250e-03],\n",
       "       [  1.03691437e-02,  -5.63102258e-03,  -3.95162008e-03,\n",
       "          1.28631080e-04,   2.64130964e-03],\n",
       "       [  8.73820451e-03,  -8.93013212e-04,   3.36923629e-02,\n",
       "         -2.96769601e-02,   3.25948359e-04],\n",
       "       [  3.80228964e-03,  -1.20073749e-02,  -5.13762272e-03,\n",
       "          4.98752707e-03,   6.83538428e-03],\n",
       "       [  9.43345964e-03,  -2.11799238e-02,   5.67652382e-02,\n",
       "         -4.30769702e-02,   2.30189631e-03],\n",
       "       [  1.63483219e-02,  -3.60840775e-03,   7.24658695e-03,\n",
       "          9.78082381e-03,  -4.44298013e-03],\n",
       "       [ -1.89174703e-03,   6.93793149e-03,  -2.88052443e-02,\n",
       "          9.41747612e-03,  -4.98834976e-03],\n",
       "       [ -1.47984207e-03,  -1.46911881e-02,   4.14860081e-02,\n",
       "         -1.27773954e-02,  -7.89827449e-03],\n",
       "       [ -2.11580439e-04,  -1.73592390e-04,  -2.29202538e-02,\n",
       "          1.76805461e-02,   2.72232767e-03],\n",
       "       [  1.67387515e-03,  -1.36261226e-02,   1.05752120e-02,\n",
       "         -1.38568718e-02,   4.14042560e-03],\n",
       "       [  1.11651545e-02,  -1.64892398e-02,   4.76228128e-02,\n",
       "         -3.28271277e-02,  -1.93108990e-03],\n",
       "       [  1.46530918e-02,   4.01959147e-03,  -4.92787661e-03,\n",
       "         -4.06538385e-03,   9.12986045e-04],\n",
       "       [  7.17015373e-03,  -7.60165479e-03,   2.26660652e-02,\n",
       "         -2.53031739e-02,   2.00185519e-03],\n",
       "       [  3.98630089e-03,  -1.02214368e-02,   4.90695427e-02,\n",
       "         -2.21202853e-02,  -3.68273246e-03],\n",
       "       [  6.19573439e-03,   1.51034192e-02,  -3.86224847e-02,\n",
       "          2.32133930e-02,  -2.82762061e-03],\n",
       "       [ -3.96207762e-03,   5.93539374e-03,   2.20600980e-03,\n",
       "         -1.79975040e-03,  -2.73692530e-03],\n",
       "       [ -5.16439837e-03,   1.63491573e-02,  -2.02465282e-02,\n",
       "          1.29046399e-02,  -5.73718703e-03],\n",
       "       [ -1.08219043e-02,   4.41414023e-03,  -2.84222868e-02,\n",
       "          2.69394655e-02,  -3.88648899e-03],\n",
       "       [ -5.01251302e-03,  -2.24097468e-02,  -1.61813653e-05,\n",
       "         -7.78229662e-03,   1.34309684e-02],\n",
       "       [  1.82619323e-02,  -2.50895203e-02,   8.45083120e-02,\n",
       "         -6.61101447e-02,   2.39701714e-03],\n",
       "       [  1.81145832e-02,   4.01242682e-04,   8.18890105e-03,\n",
       "          5.41048228e-03,  -6.04326091e-03],\n",
       "       [ -2.60633586e-03,  -1.55405035e-04,  -3.31282697e-02,\n",
       "          2.04748695e-02,  -7.99227249e-04],\n",
       "       [  1.78299165e-03,  -1.88970167e-02,   4.77146897e-02,\n",
       "         -2.51710002e-02,  -6.55246868e-03],\n",
       "       [  6.49791307e-03,   8.43914080e-04,   4.70943677e-03,\n",
       "         -9.18811719e-04,  -2.50806673e-03],\n",
       "       [ -1.44414474e-03,   1.91782446e-02,  -1.48552575e-02,\n",
       "          1.52897854e-02,  -9.87009058e-03],\n",
       "       [ -1.41615059e-02,   1.88107276e-02,  -6.37292173e-02,\n",
       "          3.73732185e-02,   4.49614965e-03],\n",
       "       [ -9.91617818e-03,   1.26544957e-02,   1.31923116e-02,\n",
       "         -9.37862022e-03,  -8.74121063e-03],\n",
       "       [ -1.01382133e-02,   1.83776206e-02,  -5.61902018e-02,\n",
       "          4.59056922e-02,  -2.53162666e-03],\n",
       "       [ -1.65488857e-02,   9.41576738e-03,  -1.07315558e-02,\n",
       "          5.45402212e-03,  -4.04722608e-03],\n",
       "       [ -8.83066021e-03,  -1.96124211e-03,  -1.67905448e-02,\n",
       "          2.08582174e-02,   3.32161485e-03],\n",
       "       [ -4.21399366e-03,  -1.28575248e-02,   1.94079961e-02,\n",
       "         -1.61089378e-02,   2.65597802e-04],\n",
       "       [  7.95687363e-03,   1.59933002e-03,   3.50950227e-02,\n",
       "         -1.43125904e-02,  -1.03154247e-02],\n",
       "       [ -4.42082464e-03,   2.15036573e-02,  -6.27511103e-02,\n",
       "          4.82452891e-02,  -4.04780757e-03],\n",
       "       [ -1.35766194e-02,   1.47145683e-04,  -1.75857281e-02,\n",
       "          6.35939417e-03,   2.46320710e-03],\n",
       "       [ -1.75721868e-03,  -1.09603525e-02,   3.12393401e-02,\n",
       "         -1.85873628e-02,  -2.10670161e-03],\n",
       "       [  4.92977908e-03,  -5.21502886e-03,  -3.86355533e-03,\n",
       "          5.75977799e-03,   1.25925079e-05],\n",
       "       [  4.43359960e-03,  -4.31426664e-03,   2.12461708e-02,\n",
       "         -1.57222301e-02,  -5.09045081e-03],\n",
       "       [  2.37418723e-03,   3.00546630e-03,   3.93458348e-03,\n",
       "         -3.69771724e-03,   2.85571537e-04],\n",
       "       [ -5.20384005e-03,  -3.12874621e-03,  -1.22835649e-03,\n",
       "          7.48982775e-03,  -3.12053867e-03],\n",
       "       [  4.84384663e-03,   9.66058401e-03,  -2.60183534e-03,\n",
       "          2.81106592e-03,  -1.01704765e-02],\n",
       "       [ -6.31779961e-03,   2.65222099e-03,  -2.99677751e-02,\n",
       "          1.78090403e-02,   4.54490562e-03],\n",
       "       [ -2.05140906e-03,  -1.68873610e-02,   2.44801795e-02,\n",
       "         -1.87749141e-02,   4.20793192e-03],\n",
       "       [  1.15544418e-02,  -1.89975893e-02,   2.89104684e-02,\n",
       "         -2.31170053e-02,   3.29648852e-03],\n",
       "       [  1.52435609e-02,  -1.06849512e-02,   3.92151064e-02,\n",
       "         -2.34098696e-02,  -4.98582120e-03],\n",
       "       [  6.36437079e-03,   2.03349438e-02,  -1.94011311e-02,\n",
       "          1.59960060e-02,  -1.07290486e-02],\n",
       "       [ -1.59646527e-02,   1.56526605e-02,  -5.46211491e-02,\n",
       "          4.77761258e-02,  -5.49742587e-03],\n",
       "       [ -1.76333619e-02,   1.01141104e-02,  -1.79773440e-02,\n",
       "          1.16141272e-02,  -4.55309987e-03],\n",
       "       [ -9.58469767e-03,   1.44566910e-02,  -1.54284023e-02,\n",
       "          1.25175204e-02,  -6.07215454e-03],\n",
       "       [ -1.10854629e-02,   4.72122611e-03,  -2.60950638e-02,\n",
       "          2.24012439e-02,   6.46499651e-04],\n",
       "       [ -7.99468445e-03,  -8.63741467e-03,   7.28541126e-03,\n",
       "         -3.02958534e-03,  -3.03899529e-04],\n",
       "       [  3.60348814e-03,  -4.47396331e-03,   8.77478808e-03,\n",
       "         -2.93197181e-03,  -4.65378798e-03],\n",
       "       [  2.21154951e-03,  -6.24756274e-03,  -3.14978475e-03,\n",
       "          4.82069483e-03,  -1.33277742e-03],\n",
       "       [  8.48329245e-03,  -7.74889363e-03,   1.81370548e-02,\n",
       "         -2.48793493e-02,   7.61183449e-03],\n",
       "       [  5.96051733e-03,  -1.46690560e-02,   4.53113445e-02,\n",
       "         -3.19140723e-02,   3.36443967e-03],\n",
       "       [  9.88165552e-03,   5.92980525e-04,   1.12955678e-02,\n",
       "          5.33621150e-03,  -8.59927927e-03],\n",
       "       [ -3.11352799e-03,   5.96294431e-03,  -2.75374957e-02,\n",
       "          2.07843054e-02,  -4.73883361e-03],\n",
       "       [ -5.63984774e-04,  -4.56761689e-03,   2.07657746e-03,\n",
       "         -6.24237880e-03,   8.32588688e-03],\n",
       "       [  5.19989284e-03,  -9.39294824e-03,   2.79254028e-02,\n",
       "         -2.57263150e-02,   1.67290313e-03],\n",
       "       [  8.53642879e-03,  -1.00793401e-02,   3.41345248e-02,\n",
       "         -1.63763425e-02,  -3.76077261e-03],\n",
       "       [  3.21389210e-03,   1.00734492e-02,  -1.93143732e-03,\n",
       "          3.55909074e-03,  -5.69983574e-03],\n",
       "       [ -4.80733732e-03,   1.43057624e-02,  -2.51947877e-02,\n",
       "          2.56261717e-02,  -6.30181683e-03],\n",
       "       [ -1.49611496e-02,   1.38348870e-02,  -4.02700561e-02,\n",
       "          3.05933106e-02,  -4.48597301e-04],\n",
       "       [ -9.40522975e-03,  -5.45322926e-03,  -1.58690384e-02,\n",
       "          1.08212465e-02,   1.46853912e-03],\n",
       "       [  7.75744528e-04,  -3.57168668e-03,   3.62757832e-02,\n",
       "         -2.89285815e-02,  -1.31034658e-03],\n",
       "       [  2.13473237e-03,   1.06148244e-02,  -1.38927296e-02,\n",
       "          1.45084365e-02,  -4.40254736e-03],\n",
       "       [ -5.58801556e-03,   1.11385541e-02,  -1.36966872e-02,\n",
       "          8.72486797e-03,  -3.30540017e-03],\n",
       "       [ -6.92530564e-03,   1.93475017e-02,  -2.01670654e-02,\n",
       "          1.56513142e-02,  -4.22703082e-03],\n",
       "       [ -1.34550444e-02,   2.47124551e-02,  -5.70054848e-02,\n",
       "          3.77374422e-02,  -3.88517240e-03],\n",
       "       [ -1.33198137e-02,   8.26374006e-03,  -1.87186245e-02,\n",
       "          7.88116219e-03,  -2.46187255e-03],\n",
       "       [ -3.89360778e-03,  -1.16271530e-02,   7.60367899e-03,\n",
       "         -4.93751316e-03,   5.34217852e-03],\n",
       "       [  9.05577669e-03,   8.18422631e-04,   2.40186632e-02,\n",
       "         -2.29754706e-02,  -3.12450321e-03],\n",
       "       [  2.26718558e-03,   7.32439387e-03,  -1.48454473e-02,\n",
       "          1.15387194e-02,  -2.76255262e-03],\n",
       "       [ -3.18140080e-03,   7.18587070e-03,  -2.34753553e-03,\n",
       "          1.03492912e-03,  -3.16286362e-03],\n",
       "       [ -5.45577795e-03,   1.98387743e-02,  -1.50856061e-02,\n",
       "          1.23470474e-02,  -6.95130740e-03],\n",
       "       [ -1.31698301e-02,   1.70212769e-02,  -4.68386725e-02,\n",
       "          3.08527185e-02,   2.10913883e-04],\n",
       "       [ -1.11577363e-02,  -1.05641287e-02,   8.33539004e-03,\n",
       "         -3.89323870e-04,   1.66440938e-03],\n",
       "       [  3.36670741e-03,  -3.76319857e-04,   1.86269268e-02,\n",
       "         -1.01320803e-02,  -5.00877675e-03],\n",
       "       [ -3.19137018e-03,   1.55970583e-03,  -1.66043371e-02,\n",
       "          1.27212569e-02,   1.33249122e-03],\n",
       "       [ -3.92937288e-04,  -5.04323886e-03,   1.72495154e-02,\n",
       "         -1.00445281e-02,   3.54762542e-04],\n",
       "       [  2.60344055e-03,   2.34185650e-03,  -3.11477031e-03,\n",
       "          2.88158076e-03,  -2.88299794e-03],\n",
       "       [  3.60259710e-03,   1.42318999e-02,  -4.70998358e-03,\n",
       "         -2.15930816e-03,  -5.66750519e-03],\n",
       "       [ -9.08864824e-03,  -1.08884314e-02,  -1.34720095e-02,\n",
       "          1.21338519e-02,   9.82834827e-03],\n",
       "       [  5.41785429e-03,  -9.66007936e-03,   5.48676530e-02,\n",
       "         -3.68897455e-02,  -5.15218065e-03],\n",
       "       [  6.57619684e-03,   7.33716553e-03,  -2.33671668e-02,\n",
       "          2.01646053e-02,  -6.10941597e-04],\n",
       "       [ -2.85719260e-03,   1.59905312e-03,   1.82325619e-03,\n",
       "         -4.97425580e-03,   8.66399259e-04],\n",
       "       [ -1.56970384e-03,  -2.33557137e-03,   6.36523608e-03,\n",
       "          2.63222916e-03,  -2.58333628e-03],\n",
       "       [  2.21475985e-03,   5.60089762e-03,  -8.92446239e-03,\n",
       "          1.74480437e-04,  -1.00353035e-03],\n",
       "       [ -1.23864146e-03,  -8.00196251e-03,   1.60610003e-02,\n",
       "         -6.51982947e-03,   2.20470973e-03],\n",
       "       [  5.81373797e-03,   1.08861187e-02,   6.51966606e-03,\n",
       "         -1.34200226e-02,  -1.43623147e-03],\n",
       "       [ -2.38544601e-03,   1.14723193e-02,  -1.32257970e-02,\n",
       "          1.34226543e-02,  -3.15372144e-03],\n",
       "       [ -8.32121123e-03,   3.22266529e-03,  -2.23514430e-02,\n",
       "          1.98084155e-02,   1.66096430e-04],\n",
       "       [ -4.47032308e-03,   6.64552995e-03,  -5.70782811e-03,\n",
       "          9.03758614e-03,  -7.89897206e-03],\n",
       "       [ -7.02685725e-03,   1.10021171e-02,  -4.04357630e-02,\n",
       "          2.62482395e-02,  -2.36310659e-03],\n",
       "       [ -6.17362971e-03,   2.23100121e-03,   1.02565515e-02,\n",
       "         -7.25561366e-03,  -4.03200782e-03]])"
      ]
     },
     "execution_count": 115,
     "metadata": {},
     "output_type": "execute_result"
    }
   ],
   "source": [
    "np.dot(na_Z.T, na_betahat.T)  # (T x K)"
   ]
  },
  {
   "cell_type": "code",
   "execution_count": 117,
   "metadata": {
    "collapsed": false
   },
   "outputs": [
    {
     "data": {
      "text/plain": [
       "(5, 197)"
      ]
     },
     "execution_count": 117,
     "metadata": {},
     "output_type": "execute_result"
    }
   ],
   "source": [
    "na_ysample.shape"
   ]
  },
  {
   "cell_type": "code",
   "execution_count": 113,
   "metadata": {
    "collapsed": false
   },
   "outputs": [
    {
     "data": {
      "text/plain": [
       "(5, 16)"
      ]
     },
     "execution_count": 113,
     "metadata": {},
     "output_type": "execute_result"
    }
   ],
   "source": [
    "na_betahat.shape"
   ]
  },
  {
   "cell_type": "code",
   "execution_count": null,
   "metadata": {
    "collapsed": true
   },
   "outputs": [],
   "source": []
  },
  {
   "cell_type": "code",
   "execution_count": 122,
   "metadata": {
    "collapsed": false
   },
   "outputs": [],
   "source": [
    "na_U = na_ysample - np.dot(na_betahat, na_Z)"
   ]
  },
  {
   "cell_type": "code",
   "execution_count": 124,
   "metadata": {
    "collapsed": false
   },
   "outputs": [
    {
     "data": {
      "text/plain": [
       "(5, 5)"
      ]
     },
     "execution_count": 124,
     "metadata": {},
     "output_type": "execute_result"
    }
   ],
   "source": [
    "np.dot(na_U, na_U.T).shape"
   ]
  },
  {
   "cell_type": "code",
   "execution_count": null,
   "metadata": {
    "collapsed": true
   },
   "outputs": [],
   "source": []
  },
  {
   "cell_type": "code",
   "execution_count": null,
   "metadata": {
    "collapsed": true
   },
   "outputs": [],
   "source": []
  },
  {
   "cell_type": "code",
   "execution_count": null,
   "metadata": {
    "collapsed": true
   },
   "outputs": [],
   "source": []
  },
  {
   "cell_type": "code",
   "execution_count": null,
   "metadata": {
    "collapsed": true
   },
   "outputs": [],
   "source": []
  },
  {
   "cell_type": "markdown",
   "metadata": {},
   "source": [
    "## 2. Implementando o Modelo\n",
    "\n",
    "Nesta sessão detalharemos e implementaremos ...\n",
    "\n",
    "### 2.1. Bla\n",
    "\n",
    "bla bla"
   ]
  },
  {
   "cell_type": "code",
   "execution_count": null,
   "metadata": {
    "collapsed": true
   },
   "outputs": [],
   "source": []
  },
  {
   "cell_type": "code",
   "execution_count": null,
   "metadata": {
    "collapsed": true
   },
   "outputs": [],
   "source": []
  },
  {
   "cell_type": "code",
   "execution_count": null,
   "metadata": {
    "collapsed": true
   },
   "outputs": [],
   "source": []
  },
  {
   "cell_type": "markdown",
   "metadata": {},
   "source": [
    "\n",
    "## 4. Conclusão\n",
    "\n",
    "bla bla\n",
    "\n",
    "\n",
    "\n",
    "\n",
    "## 5. Últimas Considerações\n",
    "\n",
    "bla bla\n"
   ]
  },
  {
   "cell_type": "markdown",
   "metadata": {},
   "source": [
    "*Style notebook and change matplotlib defaults*"
   ]
  },
  {
   "cell_type": "code",
   "execution_count": 5,
   "metadata": {
    "collapsed": false
   },
   "outputs": [
    {
     "data": {
      "text/html": [
       "<style>\n",
       "    @font-face {\n",
       "        font-family: \"Computer Modern\";\n",
       "        src: url('http://9dbb143991406a7c655e-aa5fcb0a5a4ec34cff238a2d56ca4144.r56.cf5.rackcdn.com/cmunss.otf');\n",
       "    }\n",
       "    @font-face {\n",
       "        font-family: \"Computer Modern\";\n",
       "        font-weight: bold;\n",
       "        src: url('http://9dbb143991406a7c655e-aa5fcb0a5a4ec34cff238a2d56ca4144.r56.cf5.rackcdn.com/cmunsx.otf');\n",
       "    }\n",
       "    @font-face {\n",
       "        font-family: \"Computer Modern\";\n",
       "        font-style: oblique;\n",
       "        src: url('http://9dbb143991406a7c655e-aa5fcb0a5a4ec34cff238a2d56ca4144.r56.cf5.rackcdn.com/cmunsi.otf');\n",
       "    }\n",
       "    @font-face {\n",
       "        font-family: \"Computer Modern\";\n",
       "        font-weight: bold;\n",
       "        font-style: oblique;\n",
       "        src: url('http://9dbb143991406a7c655e-aa5fcb0a5a4ec34cff238a2d56ca4144.r56.cf5.rackcdn.com/cmunso.otf');\n",
       "    }\n",
       "    div.cell{\n",
       "        width:800px;\n",
       "        margin-left:16% !important;\n",
       "        margin-right:auto;\n",
       "    }\n",
       "    h1 {\n",
       "        font-family: Helvetica, serif;\n",
       "    }\n",
       "    h4{\n",
       "        margin-top:12px;\n",
       "        margin-bottom: 3px;\n",
       "       }\n",
       "    div.text_cell_render{\n",
       "        font-family: Computer Modern, \"Helvetica Neue\", Arial, Helvetica, Geneva, sans-serif;\n",
       "        line-height: 145%;\n",
       "        font-size: 130%;\n",
       "        width:800px;\n",
       "        margin-left:auto;\n",
       "        margin-right:auto;\n",
       "    }\n",
       "    .CodeMirror{\n",
       "            font-family: \"Source Code Pro\", source-code-pro,Consolas, monospace;\n",
       "    }\n",
       "    .prompt{\n",
       "        display: None;\n",
       "    }\n",
       "    .text_cell_render h5 {\n",
       "        font-weight: 300;\n",
       "        font-size: 22pt;\n",
       "        color: #4057A1;\n",
       "        font-style: italic;\n",
       "        margin-bottom: .5em;\n",
       "        margin-top: 0.5em;\n",
       "        display: block;\n",
       "    }\n",
       "\n",
       "    .warning{\n",
       "        color: rgb( 240, 20, 20 )\n",
       "        }\n",
       "</style>\n",
       "\n",
       "\n",
       "\n",
       "<style>\n",
       "    table {\n",
       "        overflow:hidden;\n",
       "        font-family: Computer Modern, \"Helvetica Neue\", Arial, Helvetica, Geneva, sans-serif;\n",
       "        font-size: 12px;\n",
       "        margin: 10px;\n",
       "        width: 480px;\n",
       "        text-align: left;\n",
       "        border-collapse: collapse;\n",
       "        border: 1px solid #d3d3d3;\n",
       "        -moz-border-radius:5px; FF1+;\n",
       "        -webkit-border-radius:5px; Saf3-4;\n",
       "        border-radius:5px;\n",
       "        -moz-box-shadow: 0 0 4px rgba(0, 0, 0, 0.01);\n",
       "    }\n",
       "    th\n",
       "    {\n",
       "        padding: 12px 17px 12px 17px;\n",
       "        font-weight: normal;\n",
       "        font-size: 14px;\n",
       "        border-bottom: 1px dashed #69c;\n",
       "    }\n",
       "\n",
       "    td\n",
       "    {\n",
       "        padding: 7px 17px 7px 17px;\n",
       "\n",
       "    }\n",
       "\n",
       "    tbody tr:hover th\n",
       "    {\n",
       "\n",
       "        background:  #E9E9E9;\n",
       "    }\n",
       "\n",
       "    tbody tr:hover td\n",
       "    {\n",
       "\n",
       "        background:  #E9E9E9;\n",
       "    }\n",
       "\n",
       "</style>\n",
       "\n",
       "<script>\n",
       "    MathJax.Hub.Config({\n",
       "                        TeX: {\n",
       "                           extensions: [\"AMSmath.js\"]\n",
       "                           },\n",
       "                tex2jax: {\n",
       "                    inlineMath: [ ['$','$'], [\"\\\\(\",\"\\\\)\"] ],\n",
       "                    displayMath: [ ['$$','$$'], [\"\\\\[\",\"\\\\]\"] ]\n",
       "                },\n",
       "                displayAlign: 'center', // Change this to 'center' to center equations.\n",
       "                \"HTML-CSS\": {\n",
       "                    styles: {'.MathJax_Display': {\"margin\": 4}}\n",
       "                }\n",
       "        });\n",
       "</script>\n"
      ],
      "text/plain": [
       "<IPython.core.display.HTML object>"
      ]
     },
     "execution_count": 5,
     "metadata": {},
     "output_type": "execute_result"
    }
   ],
   "source": [
    "#loading style sheet\n",
    "from IPython.core.display import HTML\n",
    "HTML(open('ipython_style.css').read())"
   ]
  },
  {
   "cell_type": "code",
   "execution_count": 6,
   "metadata": {
    "collapsed": true
   },
   "outputs": [],
   "source": [
    "#changing matplotlib defaults\n",
    "%matplotlib inline\n",
    "import seaborn as sns\n",
    "sns.set_palette(\"deep\", desat=.6)\n",
    "sns.set_context(rc={\"figure.figsize\": (8, 4)})\n",
    "sns.set_style(\"whitegrid\")\n",
    "sns.set_palette(sns.color_palette(\"Set2\", 10))"
   ]
  },
  {
   "cell_type": "code",
   "execution_count": null,
   "metadata": {
    "collapsed": true
   },
   "outputs": [],
   "source": []
  }
 ],
 "metadata": {
  "anaconda-cloud": {},
  "kernelspec": {
   "display_name": "Python [default]",
   "language": "python",
   "name": "python2"
  },
  "language_info": {
   "codemirror_mode": {
    "name": "ipython",
    "version": 2
   },
   "file_extension": ".py",
   "mimetype": "text/x-python",
   "name": "python",
   "nbconvert_exporter": "python",
   "pygments_lexer": "ipython2",
   "version": "2.7.12"
  }
 },
 "nbformat": 4,
 "nbformat_minor": 0
}
