{
 "cells": [
  {
   "cell_type": "markdown",
   "metadata": {
    "collapsed": true
   },
   "source": [
    "# Modelos e Estratégias de Trading\n",
    "## Ajustando um modelo VAR à PETR4\n",
    "\n",
    "Uirá Caiado. 05 de Setembro, 2016"
   ]
  },
  {
   "cell_type": "markdown",
   "metadata": {},
   "source": [
    "**Resumo**\n",
    "\n",
    "*Uma das principais necessidades quando falamos trading é realizar algum tipo de previsão sobre o estado futuro do instrumento operado para que possamos posicionar nossas ofertas. Como um dos objetivos da análise de séries temporais multivariadas é a realização de forecasts, nesta atividade vou implementar um modelo desta classe chamado Vetor Autoregressivo (VAR). Vou ajustar o modelo aos retornos e informações de book da PETR4 e analisar a performance realizando um back-test em uma parte dos dados coletados que ainda não tenha sido utilizada.*"
   ]
  },
  {
   "cell_type": "markdown",
   "metadata": {},
   "source": [
    "## 1. Introdução\n",
    "\n",
    "Nesta sessão vou ...\n",
    "\n",
    "\n",
    "### 1.1. Modelagem ...\n",
    "\n",
    "bla bla"
   ]
  },
  {
   "cell_type": "code",
   "execution_count": 1,
   "metadata": {
    "collapsed": true
   },
   "outputs": [],
   "source": []
  },
  {
   "cell_type": "code",
   "execution_count": 2,
   "metadata": {
    "collapsed": false
   },
   "outputs": [],
   "source": [
    "import pandas as pd\n",
    "df = pd.read_excel('data/VAR3_inputs_e_outputs.xlsx', header=None)"
   ]
  },
  {
   "cell_type": "code",
   "execution_count": 3,
   "metadata": {
    "collapsed": true
   },
   "outputs": [],
   "source": [
    "from statsmodels.tsa.api import VAR"
   ]
  },
  {
   "cell_type": "code",
   "execution_count": 13,
   "metadata": {
    "collapsed": false
   },
   "outputs": [],
   "source": [
    "l_index = pd.date_range(start= '01/01/2014', end='01/12/2016')\n",
    "df.index = l_index[:df.shape[0]]\n",
    "model = VAR(df)"
   ]
  },
  {
   "cell_type": "code",
   "execution_count": 28,
   "metadata": {
    "collapsed": false
   },
   "outputs": [],
   "source": [
    "results = model.fit(3)\n",
    "pd.DataFrame(results.coefs[2]).to_clipboard()"
   ]
  },
  {
   "cell_type": "code",
   "execution_count": 30,
   "metadata": {
    "collapsed": false
   },
   "outputs": [
    {
     "data": {
      "text/plain": [
       "-41.325571126826091"
      ]
     },
     "execution_count": 30,
     "metadata": {},
     "output_type": "execute_result"
    }
   ],
   "source": [
    "results.bic"
   ]
  },
  {
   "cell_type": "code",
   "execution_count": 22,
   "metadata": {
    "collapsed": false
   },
   "outputs": [
    {
     "data": {
      "text/plain": [
       "  Summary of Regression Results   \n",
       "==================================\n",
       "Model:                         VAR\n",
       "Method:                        OLS\n",
       "Date:           Fri, 09, Sep, 2016\n",
       "Time:                     21:44:21\n",
       "--------------------------------------------------------------------\n",
       "No. of Equations:         5.00000    BIC:                   -41.3256\n",
       "Nobs:                     197.000    HQIC:                  -42.1191\n",
       "Log likelihood:           2884.24    FPE:                2.98040e-19\n",
       "AIC:                     -42.6589    Det(Omega_mle):     2.01701e-19\n",
       "--------------------------------------------------------------------\n",
       "Results for equation 0\n",
       "========================================================================\n",
       "           coefficient       std. error           t-stat            prob\n",
       "------------------------------------------------------------------------\n",
       "const         0.000005         0.001023            0.005           0.996\n",
       "L1.0         -0.043374         0.079685           -0.544           0.587\n",
       "L1.1          0.128951         0.077649            1.661           0.099\n",
       "L1.2         -0.127479         0.128197           -0.994           0.321\n",
       "L1.3          0.049648         0.151311            0.328           0.743\n",
       "L1.4         -0.071250         0.052312           -1.362           0.175\n",
       "L2.0          0.013431         0.078974            0.170           0.865\n",
       "L2.1          0.001495         0.076293            0.020           0.984\n",
       "L2.2         -0.242662         0.128805           -1.884           0.061\n",
       "L2.3          0.245055         0.149980            1.634           0.104\n",
       "L2.4         -0.075217         0.051551           -1.459           0.146\n",
       "L3.0         -0.044115         0.080195           -0.550           0.583\n",
       "L3.1          0.015434         0.076756            0.201           0.841\n",
       "L3.2          0.056729         0.132244            0.429           0.668\n",
       "L3.3         -0.180469         0.151521           -1.191           0.235\n",
       "L3.4          0.065909         0.051725            1.274           0.204\n",
       "========================================================================\n",
       "\n",
       "Results for equation 1\n",
       "========================================================================\n",
       "           coefficient       std. error           t-stat            prob\n",
       "------------------------------------------------------------------------\n",
       "const         0.000422         0.001233            0.342           0.733\n",
       "L1.0          0.005321         0.095996            0.055           0.956\n",
       "L1.1          0.178780         0.093542            1.911           0.058\n",
       "L1.2          0.003759         0.154437            0.024           0.981\n",
       "L1.3          0.032509         0.182282            0.178           0.859\n",
       "L1.4         -0.072283         0.063020           -1.147           0.253\n",
       "L2.0         -0.244118         0.095139           -2.566           0.011\n",
       "L2.1         -0.004717         0.091909           -0.051           0.959\n",
       "L2.2         -0.345717         0.155170           -2.228           0.027\n",
       "L2.3          0.413840         0.180679            2.290           0.023\n",
       "L2.4         -0.032270         0.062103           -0.520           0.604\n",
       "L3.0         -0.075600         0.096609           -0.783           0.435\n",
       "L3.1         -0.076008         0.092467           -0.822           0.412\n",
       "L3.2          0.070572         0.159312            0.443           0.658\n",
       "L3.3          0.017278         0.182535            0.095           0.925\n",
       "L3.4          0.042417         0.062312            0.681           0.497\n",
       "========================================================================\n",
       "\n",
       "Results for equation 2\n",
       "========================================================================\n",
       "           coefficient       std. error           t-stat            prob\n",
       "------------------------------------------------------------------------\n",
       "const         0.000810         0.001288            0.629           0.530\n",
       "L1.0          0.008242         0.100288            0.082           0.935\n",
       "L1.1          0.115180         0.097725            1.179           0.240\n",
       "L1.2         -0.050708         0.161343           -0.314           0.754\n",
       "L1.3          0.007212         0.190433            0.038           0.970\n",
       "L1.4         -0.041946         0.065838           -0.637           0.525\n",
       "L2.0         -0.047898         0.099393           -0.482           0.630\n",
       "L2.1          0.179970         0.096019            1.874           0.062\n",
       "L2.2         -0.487353         0.162109           -3.006           0.003\n",
       "L2.3          0.295174         0.188758            1.564           0.120\n",
       "L2.4          0.055272         0.064880            0.852           0.395\n",
       "L3.0         -0.110870         0.100929           -1.098           0.273\n",
       "L3.1          0.027031         0.096602            0.280           0.780\n",
       "L3.2         -0.034428         0.166436           -0.207           0.836\n",
       "L3.3         -0.013438         0.190697           -0.070           0.944\n",
       "L3.4         -0.022812         0.065099           -0.350           0.726\n",
       "========================================================================\n",
       "\n",
       "Results for equation 3\n",
       "========================================================================\n",
       "           coefficient       std. error           t-stat            prob\n",
       "------------------------------------------------------------------------\n",
       "const        -0.000025         0.001198           -0.021           0.984\n",
       "L1.0          0.035804         0.093262            0.384           0.702\n",
       "L1.1          0.166959         0.090878            1.837           0.068\n",
       "L1.2          0.048654         0.150039            0.324           0.746\n",
       "L1.3         -0.117873         0.177091           -0.666           0.507\n",
       "L1.4         -0.049864         0.061225           -0.814           0.416\n",
       "L2.0         -0.043729         0.092429           -0.473           0.637\n",
       "L2.1          0.159101         0.089292            1.782           0.076\n",
       "L2.2         -0.365092         0.150751           -2.422           0.016\n",
       "L2.3          0.193884         0.175533            1.105           0.271\n",
       "L2.4          0.068610         0.060334            1.137           0.257\n",
       "L3.0         -0.040539         0.093858           -0.432           0.666\n",
       "L3.1          0.032051         0.089834            0.357           0.722\n",
       "L3.2         -0.016870         0.154775           -0.109           0.913\n",
       "L3.3         -0.037124         0.177337           -0.209           0.834\n",
       "L3.4         -0.001811         0.060538           -0.030           0.976\n",
       "========================================================================\n",
       "\n",
       "Results for equation 4\n",
       "========================================================================\n",
       "           coefficient       std. error           t-stat            prob\n",
       "------------------------------------------------------------------------\n",
       "const        -0.001338         0.001573           -0.851           0.396\n",
       "L1.0         -0.064091         0.122463           -0.523           0.601\n",
       "L1.1         -0.059743         0.119333           -0.501           0.617\n",
       "L1.2         -0.097786         0.197017           -0.496           0.620\n",
       "L1.3          0.268141         0.232540            1.153           0.250\n",
       "L1.4         -0.054190         0.080395           -0.674           0.501\n",
       "L2.0         -0.028104         0.121370           -0.232           0.817\n",
       "L2.1          0.096378         0.117250            0.822           0.412\n",
       "L2.2         -0.391956         0.197953           -1.980           0.049\n",
       "L2.3          0.162951         0.230495            0.707           0.480\n",
       "L2.4         -0.030571         0.079225           -0.386           0.700\n",
       "L3.0         -0.046125         0.123246           -0.374           0.709\n",
       "L3.1         -0.081289         0.117961           -0.689           0.492\n",
       "L3.2          0.247950         0.203237            1.220           0.224\n",
       "L3.3         -0.131097         0.232863           -0.563           0.574\n",
       "L3.4         -0.025088         0.079493           -0.316           0.753\n",
       "========================================================================\n",
       "\n",
       "Correlation matrix of residuals\n",
       "            0         1         2         3         4\n",
       "0    1.000000  0.290691  0.225997  0.336118  0.214084\n",
       "1    0.290691  1.000000  0.521473  0.603711  0.322616\n",
       "2    0.225997  0.521473  1.000000  0.888268  0.333000\n",
       "3    0.336118  0.603711  0.888268  1.000000  0.370903\n",
       "4    0.214084  0.322616  0.333000  0.370903  1.000000\n",
       "\n"
      ]
     },
     "execution_count": 22,
     "metadata": {},
     "output_type": "execute_result"
    }
   ],
   "source": [
    "results.summary()"
   ]
  },
  {
   "cell_type": "code",
   "execution_count": 12,
   "metadata": {
    "collapsed": false
   },
   "outputs": [
    {
     "data": {
      "text/plain": [
       "(200, 5)"
      ]
     },
     "execution_count": 12,
     "metadata": {},
     "output_type": "execute_result"
    }
   ],
   "source": [
    "df.shape"
   ]
  },
  {
   "cell_type": "code",
   "execution_count": 31,
   "metadata": {
    "collapsed": false
   },
   "outputs": [],
   "source": [
    "import statsmodels.tsa.vector_ar.util as util"
   ]
  },
  {
   "cell_type": "code",
   "execution_count": 137,
   "metadata": {
    "collapsed": false
   },
   "outputs": [],
   "source": [
    "aux = util.get_var_endog(df.values, 3)"
   ]
  },
  {
   "cell_type": "code",
   "execution_count": 138,
   "metadata": {
    "collapsed": false
   },
   "outputs": [],
   "source": [
    "import numpy as np\n",
    "i_p = 3\n",
    "na_y = df.values\n",
    "na_one = np.array([1.])\n",
    "l_Z = []\n",
    "for i in xrange(i_p-1, len(na_y)-1):\n",
    "    l_idx = range(i, i - i_p, -1)\n",
    "    na_Zt = np.hstack([na_one, na_y[l_idx].ravel()])\n",
    "    l_Z.append(na_Zt.T.copy())\n",
    "na_Z = np.array(l_Z)"
   ]
  },
  {
   "cell_type": "code",
   "execution_count": 147,
   "metadata": {
    "collapsed": false
   },
   "outputs": [],
   "source": [
    "from numpy.linalg import inv"
   ]
  },
  {
   "cell_type": "code",
   "execution_count": 240,
   "metadata": {
    "collapsed": true
   },
   "outputs": [],
   "source": [
    "na_ysample = na_y[i_p:]  # Y := (y_1, ..., y_T)  (K x T) .T"
   ]
  },
  {
   "cell_type": "code",
   "execution_count": 226,
   "metadata": {
    "collapsed": false
   },
   "outputs": [
    {
     "data": {
      "text/plain": [
       "(16, 5)"
      ]
     },
     "execution_count": 226,
     "metadata": {},
     "output_type": "execute_result"
    }
   ],
   "source": [
    "params.shape"
   ]
  },
  {
   "cell_type": "code",
   "execution_count": 222,
   "metadata": {
    "collapsed": false
   },
   "outputs": [
    {
     "data": {
      "text/plain": [
       "(197, 5)"
      ]
     },
     "execution_count": 222,
     "metadata": {},
     "output_type": "execute_result"
    }
   ],
   "source": [
    "na_ysample.shape"
   ]
  },
  {
   "cell_type": "code",
   "execution_count": 165,
   "metadata": {
    "collapsed": false
   },
   "outputs": [
    {
     "data": {
      "text/plain": [
       "(197, 197)"
      ]
     },
     "execution_count": 165,
     "metadata": {},
     "output_type": "execute_result"
    }
   ],
   "source": [
    "inv(np.dot(na_Z, na_Z.T)).shape"
   ]
  },
  {
   "cell_type": "code",
   "execution_count": 241,
   "metadata": {
    "collapsed": false
   },
   "outputs": [],
   "source": [
    "na_param = np.dot(na_ysample.T, np.dot(na_Z.T, inv(np.dot(na_Z, na_Z.T))).T).T"
   ]
  },
  {
   "cell_type": "code",
   "execution_count": 460,
   "metadata": {
    "collapsed": false
   },
   "outputs": [
    {
     "data": {
      "text/plain": [
       "3.9148372044106594e-15"
      ]
     },
     "execution_count": 460,
     "metadata": {},
     "output_type": "execute_result"
    }
   ],
   "source": [
    "abs(results.coefs[0] - self.na_betahat[1:].reshape((3, 5, 5))[0]).sum()\n"
   ]
  },
  {
   "cell_type": "code",
   "execution_count": 422,
   "metadata": {
    "collapsed": false
   },
   "outputs": [
    {
     "data": {
      "text/plain": [
       "array([[-0.04337403,  0.00532106,  0.00824174,  0.03580366, -0.06409133],\n",
       "       [ 0.12895123,  0.17878003,  0.11517984,  0.1669593 , -0.05974308],\n",
       "       [-0.1274789 ,  0.00375889, -0.05070792,  0.04865404, -0.09778579],\n",
       "       [ 0.04964828,  0.03250922,  0.00721156, -0.11787292,  0.26814062],\n",
       "       [-0.07125026, -0.07228295, -0.04194604, -0.04986425, -0.05419016]])"
      ]
     },
     "execution_count": 422,
     "metadata": {},
     "output_type": "execute_result"
    }
   ],
   "source": [
    "self.na_A.swapaxes(1, 2).copy()[0]"
   ]
  },
  {
   "cell_type": "code",
   "execution_count": 483,
   "metadata": {
    "collapsed": false
   },
   "outputs": [
    {
     "data": {
      "text/plain": [
       "<module 'var_model.vector_autoregression' from 'var_model/vector_autoregression.py'>"
      ]
     },
     "execution_count": 483,
     "metadata": {},
     "output_type": "execute_result"
    }
   ],
   "source": [
    "import var_model.vector_autoregression as var\n",
    "reload(var)"
   ]
  },
  {
   "cell_type": "code",
   "execution_count": 484,
   "metadata": {
    "collapsed": true
   },
   "outputs": [],
   "source": [
    "self = var.VectorAutoregression(df)"
   ]
  },
  {
   "cell_type": "code",
   "execution_count": 485,
   "metadata": {
    "collapsed": false
   },
   "outputs": [],
   "source": [
    "self.fit(3)"
   ]
  },
  {
   "cell_type": "code",
   "execution_count": 488,
   "metadata": {
    "collapsed": false
   },
   "outputs": [],
   "source": [
    "pd.DataFrame(self.na_A[0]).to_clipboard()"
   ]
  },
  {
   "cell_type": "code",
   "execution_count": 474,
   "metadata": {
    "collapsed": false
   },
   "outputs": [],
   "source": [
    "pd.DataFrame(self.na_betahat[1:].reshape(3, 5, 5)[0].T).to_clipboard()"
   ]
  },
  {
   "cell_type": "code",
   "execution_count": 400,
   "metadata": {
    "collapsed": false
   },
   "outputs": [
    {
     "data": {
      "text/plain": [
       "array([[-0.04337403,  0.12895123, -0.1274789 ,  0.04964828, -0.07125026],\n",
       "       [ 0.00532106,  0.17878003,  0.00375889,  0.03250922, -0.07228295],\n",
       "       [ 0.00824174,  0.11517984, -0.05070792,  0.00721156, -0.04194604],\n",
       "       [ 0.03580366,  0.1669593 ,  0.04865404, -0.11787292, -0.04986425],\n",
       "       [-0.06409133, -0.05974308, -0.09778579,  0.26814062, -0.05419016]])"
      ]
     },
     "execution_count": 400,
     "metadata": {},
     "output_type": "execute_result"
    }
   ],
   "source": [
    "self.na_A.swapaxes(1, 2)[0]"
   ]
  },
  {
   "cell_type": "code",
   "execution_count": 393,
   "metadata": {
    "collapsed": false
   },
   "outputs": [
    {
     "data": {
      "text/html": [
       "<div>\n",
       "<table border=\"1\" class=\"dataframe\">\n",
       "  <thead>\n",
       "    <tr style=\"text-align: right;\">\n",
       "      <th></th>\n",
       "      <th>0</th>\n",
       "      <th>1</th>\n",
       "      <th>2</th>\n",
       "      <th>3</th>\n",
       "      <th>4</th>\n",
       "    </tr>\n",
       "  </thead>\n",
       "  <tbody>\n",
       "    <tr>\n",
       "      <th>const</th>\n",
       "      <td>0.000005</td>\n",
       "      <td>0.000422</td>\n",
       "      <td>0.000810</td>\n",
       "      <td>-0.000025</td>\n",
       "      <td>-0.001338</td>\n",
       "    </tr>\n",
       "    <tr>\n",
       "      <th>L1.0</th>\n",
       "      <td>-0.043374</td>\n",
       "      <td>0.005321</td>\n",
       "      <td>0.008242</td>\n",
       "      <td>0.035804</td>\n",
       "      <td>-0.064091</td>\n",
       "    </tr>\n",
       "    <tr>\n",
       "      <th>L1.1</th>\n",
       "      <td>0.128951</td>\n",
       "      <td>0.178780</td>\n",
       "      <td>0.115180</td>\n",
       "      <td>0.166959</td>\n",
       "      <td>-0.059743</td>\n",
       "    </tr>\n",
       "    <tr>\n",
       "      <th>L1.2</th>\n",
       "      <td>-0.127479</td>\n",
       "      <td>0.003759</td>\n",
       "      <td>-0.050708</td>\n",
       "      <td>0.048654</td>\n",
       "      <td>-0.097786</td>\n",
       "    </tr>\n",
       "    <tr>\n",
       "      <th>L1.3</th>\n",
       "      <td>0.049648</td>\n",
       "      <td>0.032509</td>\n",
       "      <td>0.007212</td>\n",
       "      <td>-0.117873</td>\n",
       "      <td>0.268141</td>\n",
       "    </tr>\n",
       "    <tr>\n",
       "      <th>L1.4</th>\n",
       "      <td>-0.071250</td>\n",
       "      <td>-0.072283</td>\n",
       "      <td>-0.041946</td>\n",
       "      <td>-0.049864</td>\n",
       "      <td>-0.054190</td>\n",
       "    </tr>\n",
       "    <tr>\n",
       "      <th>L2.0</th>\n",
       "      <td>0.013431</td>\n",
       "      <td>-0.244118</td>\n",
       "      <td>-0.047898</td>\n",
       "      <td>-0.043729</td>\n",
       "      <td>-0.028104</td>\n",
       "    </tr>\n",
       "    <tr>\n",
       "      <th>L2.1</th>\n",
       "      <td>0.001495</td>\n",
       "      <td>-0.004717</td>\n",
       "      <td>0.179970</td>\n",
       "      <td>0.159101</td>\n",
       "      <td>0.096378</td>\n",
       "    </tr>\n",
       "    <tr>\n",
       "      <th>L2.2</th>\n",
       "      <td>-0.242662</td>\n",
       "      <td>-0.345717</td>\n",
       "      <td>-0.487353</td>\n",
       "      <td>-0.365092</td>\n",
       "      <td>-0.391956</td>\n",
       "    </tr>\n",
       "    <tr>\n",
       "      <th>L2.3</th>\n",
       "      <td>0.245055</td>\n",
       "      <td>0.413840</td>\n",
       "      <td>0.295174</td>\n",
       "      <td>0.193884</td>\n",
       "      <td>0.162951</td>\n",
       "    </tr>\n",
       "    <tr>\n",
       "      <th>L2.4</th>\n",
       "      <td>-0.075217</td>\n",
       "      <td>-0.032270</td>\n",
       "      <td>0.055272</td>\n",
       "      <td>0.068610</td>\n",
       "      <td>-0.030571</td>\n",
       "    </tr>\n",
       "    <tr>\n",
       "      <th>L3.0</th>\n",
       "      <td>-0.044115</td>\n",
       "      <td>-0.075600</td>\n",
       "      <td>-0.110870</td>\n",
       "      <td>-0.040539</td>\n",
       "      <td>-0.046125</td>\n",
       "    </tr>\n",
       "    <tr>\n",
       "      <th>L3.1</th>\n",
       "      <td>0.015434</td>\n",
       "      <td>-0.076008</td>\n",
       "      <td>0.027031</td>\n",
       "      <td>0.032051</td>\n",
       "      <td>-0.081289</td>\n",
       "    </tr>\n",
       "    <tr>\n",
       "      <th>L3.2</th>\n",
       "      <td>0.056729</td>\n",
       "      <td>0.070572</td>\n",
       "      <td>-0.034428</td>\n",
       "      <td>-0.016870</td>\n",
       "      <td>0.247950</td>\n",
       "    </tr>\n",
       "    <tr>\n",
       "      <th>L3.3</th>\n",
       "      <td>-0.180469</td>\n",
       "      <td>0.017278</td>\n",
       "      <td>-0.013438</td>\n",
       "      <td>-0.037124</td>\n",
       "      <td>-0.131097</td>\n",
       "    </tr>\n",
       "    <tr>\n",
       "      <th>L3.4</th>\n",
       "      <td>0.065909</td>\n",
       "      <td>0.042417</td>\n",
       "      <td>-0.022812</td>\n",
       "      <td>-0.001811</td>\n",
       "      <td>-0.025088</td>\n",
       "    </tr>\n",
       "  </tbody>\n",
       "</table>\n",
       "</div>"
      ],
      "text/plain": [
       "              0         1         2         3         4\n",
       "const  0.000005  0.000422  0.000810 -0.000025 -0.001338\n",
       "L1.0  -0.043374  0.005321  0.008242  0.035804 -0.064091\n",
       "L1.1   0.128951  0.178780  0.115180  0.166959 -0.059743\n",
       "L1.2  -0.127479  0.003759 -0.050708  0.048654 -0.097786\n",
       "L1.3   0.049648  0.032509  0.007212 -0.117873  0.268141\n",
       "L1.4  -0.071250 -0.072283 -0.041946 -0.049864 -0.054190\n",
       "L2.0   0.013431 -0.244118 -0.047898 -0.043729 -0.028104\n",
       "L2.1   0.001495 -0.004717  0.179970  0.159101  0.096378\n",
       "L2.2  -0.242662 -0.345717 -0.487353 -0.365092 -0.391956\n",
       "L2.3   0.245055  0.413840  0.295174  0.193884  0.162951\n",
       "L2.4  -0.075217 -0.032270  0.055272  0.068610 -0.030571\n",
       "L3.0  -0.044115 -0.075600 -0.110870 -0.040539 -0.046125\n",
       "L3.1   0.015434 -0.076008  0.027031  0.032051 -0.081289\n",
       "L3.2   0.056729  0.070572 -0.034428 -0.016870  0.247950\n",
       "L3.3  -0.180469  0.017278 -0.013438 -0.037124 -0.131097\n",
       "L3.4   0.065909  0.042417 -0.022812 -0.001811 -0.025088"
      ]
     },
     "execution_count": 393,
     "metadata": {},
     "output_type": "execute_result"
    }
   ],
   "source": [
    "results.params"
   ]
  },
  {
   "cell_type": "code",
   "execution_count": 398,
   "metadata": {
    "collapsed": false
   },
   "outputs": [
    {
     "data": {
      "text/html": [
       "<div>\n",
       "<table border=\"1\" class=\"dataframe\">\n",
       "  <thead>\n",
       "    <tr style=\"text-align: right;\">\n",
       "      <th></th>\n",
       "      <th>0</th>\n",
       "      <th>1</th>\n",
       "      <th>2</th>\n",
       "      <th>3</th>\n",
       "      <th>4</th>\n",
       "    </tr>\n",
       "  </thead>\n",
       "  <tbody>\n",
       "    <tr>\n",
       "      <th>0</th>\n",
       "      <td>-6.412039e-18</td>\n",
       "      <td>4.282599e-18</td>\n",
       "      <td>1.095044e-17</td>\n",
       "      <td>1.267500e-17</td>\n",
       "      <td>-1.431147e-17</td>\n",
       "    </tr>\n",
       "    <tr>\n",
       "      <th>1</th>\n",
       "      <td>-4.163336e-17</td>\n",
       "      <td>9.887924e-17</td>\n",
       "      <td>1.040834e-17</td>\n",
       "      <td>1.457168e-16</td>\n",
       "      <td>3.608225e-16</td>\n",
       "    </tr>\n",
       "    <tr>\n",
       "      <th>2</th>\n",
       "      <td>2.775558e-17</td>\n",
       "      <td>-1.110223e-16</td>\n",
       "      <td>3.330669e-16</td>\n",
       "      <td>1.110223e-16</td>\n",
       "      <td>4.163336e-17</td>\n",
       "    </tr>\n",
       "    <tr>\n",
       "      <th>3</th>\n",
       "      <td>0.000000e+00</td>\n",
       "      <td>1.452831e-16</td>\n",
       "      <td>2.359224e-16</td>\n",
       "      <td>6.938894e-18</td>\n",
       "      <td>3.885781e-16</td>\n",
       "    </tr>\n",
       "    <tr>\n",
       "      <th>4</th>\n",
       "      <td>1.595946e-16</td>\n",
       "      <td>1.249001e-16</td>\n",
       "      <td>-3.920475e-16</td>\n",
       "      <td>-1.249001e-16</td>\n",
       "      <td>-5.551115e-16</td>\n",
       "    </tr>\n",
       "    <tr>\n",
       "      <th>5</th>\n",
       "      <td>-8.326673e-17</td>\n",
       "      <td>-1.526557e-16</td>\n",
       "      <td>-2.012279e-16</td>\n",
       "      <td>1.387779e-17</td>\n",
       "      <td>4.857226e-17</td>\n",
       "    </tr>\n",
       "    <tr>\n",
       "      <th>6</th>\n",
       "      <td>3.469447e-17</td>\n",
       "      <td>-1.387779e-16</td>\n",
       "      <td>2.289835e-16</td>\n",
       "      <td>-1.457168e-16</td>\n",
       "      <td>4.857226e-17</td>\n",
       "    </tr>\n",
       "    <tr>\n",
       "      <th>7</th>\n",
       "      <td>-6.808790e-17</td>\n",
       "      <td>-8.326673e-17</td>\n",
       "      <td>-4.163336e-16</td>\n",
       "      <td>-1.942890e-16</td>\n",
       "      <td>-3.469447e-16</td>\n",
       "    </tr>\n",
       "    <tr>\n",
       "      <th>8</th>\n",
       "      <td>2.220446e-16</td>\n",
       "      <td>-1.665335e-16</td>\n",
       "      <td>7.771561e-16</td>\n",
       "      <td>-2.220446e-16</td>\n",
       "      <td>3.330669e-16</td>\n",
       "    </tr>\n",
       "    <tr>\n",
       "      <th>9</th>\n",
       "      <td>-8.326673e-17</td>\n",
       "      <td>2.220446e-16</td>\n",
       "      <td>-5.551115e-16</td>\n",
       "      <td>2.220446e-16</td>\n",
       "      <td>5.551115e-17</td>\n",
       "    </tr>\n",
       "    <tr>\n",
       "      <th>10</th>\n",
       "      <td>5.551115e-17</td>\n",
       "      <td>2.081668e-17</td>\n",
       "      <td>-4.857226e-17</td>\n",
       "      <td>-9.714451e-17</td>\n",
       "      <td>-2.081668e-16</td>\n",
       "    </tr>\n",
       "    <tr>\n",
       "      <th>11</th>\n",
       "      <td>1.110223e-16</td>\n",
       "      <td>6.938894e-17</td>\n",
       "      <td>-6.938894e-17</td>\n",
       "      <td>-2.706169e-16</td>\n",
       "      <td>-5.551115e-17</td>\n",
       "    </tr>\n",
       "    <tr>\n",
       "      <th>12</th>\n",
       "      <td>1.873501e-16</td>\n",
       "      <td>-6.938894e-17</td>\n",
       "      <td>2.289835e-16</td>\n",
       "      <td>1.318390e-16</td>\n",
       "      <td>2.775558e-17</td>\n",
       "    </tr>\n",
       "    <tr>\n",
       "      <th>13</th>\n",
       "      <td>2.498002e-16</td>\n",
       "      <td>-4.163336e-17</td>\n",
       "      <td>3.330669e-16</td>\n",
       "      <td>2.636780e-16</td>\n",
       "      <td>-2.775558e-16</td>\n",
       "    </tr>\n",
       "    <tr>\n",
       "      <th>14</th>\n",
       "      <td>-3.885781e-16</td>\n",
       "      <td>1.144917e-16</td>\n",
       "      <td>-1.769418e-16</td>\n",
       "      <td>-5.551115e-17</td>\n",
       "      <td>2.220446e-16</td>\n",
       "    </tr>\n",
       "    <tr>\n",
       "      <th>15</th>\n",
       "      <td>-8.326673e-17</td>\n",
       "      <td>-2.775558e-17</td>\n",
       "      <td>2.081668e-17</td>\n",
       "      <td>2.775558e-17</td>\n",
       "      <td>-1.006140e-16</td>\n",
       "    </tr>\n",
       "  </tbody>\n",
       "</table>\n",
       "</div>"
      ],
      "text/plain": [
       "               0             1             2             3             4\n",
       "0  -6.412039e-18  4.282599e-18  1.095044e-17  1.267500e-17 -1.431147e-17\n",
       "1  -4.163336e-17  9.887924e-17  1.040834e-17  1.457168e-16  3.608225e-16\n",
       "2   2.775558e-17 -1.110223e-16  3.330669e-16  1.110223e-16  4.163336e-17\n",
       "3   0.000000e+00  1.452831e-16  2.359224e-16  6.938894e-18  3.885781e-16\n",
       "4   1.595946e-16  1.249001e-16 -3.920475e-16 -1.249001e-16 -5.551115e-16\n",
       "5  -8.326673e-17 -1.526557e-16 -2.012279e-16  1.387779e-17  4.857226e-17\n",
       "6   3.469447e-17 -1.387779e-16  2.289835e-16 -1.457168e-16  4.857226e-17\n",
       "7  -6.808790e-17 -8.326673e-17 -4.163336e-16 -1.942890e-16 -3.469447e-16\n",
       "8   2.220446e-16 -1.665335e-16  7.771561e-16 -2.220446e-16  3.330669e-16\n",
       "9  -8.326673e-17  2.220446e-16 -5.551115e-16  2.220446e-16  5.551115e-17\n",
       "10  5.551115e-17  2.081668e-17 -4.857226e-17 -9.714451e-17 -2.081668e-16\n",
       "11  1.110223e-16  6.938894e-17 -6.938894e-17 -2.706169e-16 -5.551115e-17\n",
       "12  1.873501e-16 -6.938894e-17  2.289835e-16  1.318390e-16  2.775558e-17\n",
       "13  2.498002e-16 -4.163336e-17  3.330669e-16  2.636780e-16 -2.775558e-16\n",
       "14 -3.885781e-16  1.144917e-16 -1.769418e-16 -5.551115e-17  2.220446e-16\n",
       "15 -8.326673e-17 -2.775558e-17  2.081668e-17  2.775558e-17 -1.006140e-16"
      ]
     },
     "execution_count": 398,
     "metadata": {},
     "output_type": "execute_result"
    }
   ],
   "source": [
    "pd.DataFrame(self.na_betahat - results.params.values)"
   ]
  },
  {
   "cell_type": "code",
   "execution_count": null,
   "metadata": {
    "collapsed": true
   },
   "outputs": [],
   "source": []
  },
  {
   "cell_type": "code",
   "execution_count": 284,
   "metadata": {
    "collapsed": true
   },
   "outputs": [],
   "source": [
    "        self.i_p = i_p  # VAR order\n",
    "        self.na_A = None  # parameters estimator\n",
    "        self.na_v = None  # intercep estimator\n",
    "        i_K = self.df_Y.shape[1]  # number of variables\n",
    "        self.already_fitted = True"
   ]
  },
  {
   "cell_type": "code",
   "execution_count": 285,
   "metadata": {
    "collapsed": true
   },
   "outputs": [],
   "source": [
    "        # reshape matrices\n",
    "        self.na_Z = self._get_z_mat(i_p)  # Z := [Z_0, ..., Z_T] (T x Kp)\n",
    "        na_Z = self.na_Z.T\n",
    "        na_ysample = na_y[i_p:].T  # Y := (y_1, ..., y_T)  (K x T)"
   ]
  },
  {
   "cell_type": "code",
   "execution_count": 286,
   "metadata": {
    "collapsed": false
   },
   "outputs": [],
   "source": [
    "        # measure betas (Lutkepohl, p. 72):\n",
    "        #    \\hat{B} := YZ'(ZZ')^{-1}\n",
    "        # where B.T:= (v, A_1, A_2, ..., A_p).T  ((Kp+1) x K)\n",
    "        na_ZZTransp_inv = inv(np.dot(na_Z, na_Z.T))\n",
    "        na_betahat = np.dot(np.dot(na_ysample, na_Z.T), na_ZZTransp_inv).T"
   ]
  },
  {
   "cell_type": "code",
   "execution_count": 290,
   "metadata": {
    "collapsed": false
   },
   "outputs": [],
   "source": [
    "a1, a2, a3 = na_betahat[1:].reshape((i_p, 5, 5))"
   ]
  },
  {
   "cell_type": "code",
   "execution_count": 316,
   "metadata": {
    "collapsed": false
   },
   "outputs": [],
   "source": [
    "na_u = na_ysample.T - np.dot(na_betahat.T, na_Z).T"
   ]
  },
  {
   "cell_type": "code",
   "execution_count": 318,
   "metadata": {
    "collapsed": false
   },
   "outputs": [
    {
     "data": {
      "text/plain": [
       "array([[ 0.03533065,  0.01237248,  0.01004906,  0.01389852,  0.01162417],\n",
       "       [ 0.01237248,  0.05127419,  0.02793373,  0.03007324,  0.02110267],\n",
       "       [ 0.01004906,  0.02793373,  0.05596226,  0.04622673,  0.02275593],\n",
       "       [ 0.01389852,  0.03007324,  0.04622673,  0.04839529,  0.02357024],\n",
       "       [ 0.01162417,  0.02110267,  0.02275593,  0.02357024,  0.08344595]])"
      ]
     },
     "execution_count": 318,
     "metadata": {},
     "output_type": "execute_result"
    }
   ],
   "source": [
    "np.dot(na_u.T, na_u)"
   ]
  },
  {
   "cell_type": "code",
   "execution_count": 307,
   "metadata": {
    "collapsed": false
   },
   "outputs": [
    {
     "data": {
      "text/plain": [
       "(197, 5)"
      ]
     },
     "execution_count": 307,
     "metadata": {},
     "output_type": "execute_result"
    }
   ],
   "source": [
    "na_u.shape"
   ]
  },
  {
   "cell_type": "code",
   "execution_count": 315,
   "metadata": {
    "collapsed": false
   },
   "outputs": [
    {
     "data": {
      "text/plain": [
       "array([[ -1.92394646e-03,   4.24936041e-04,  -1.17908343e-02,\n",
       "          2.93511293e-03,  -2.74535110e-02],\n",
       "       [  5.15455921e-03,   8.66898828e-03,   1.13902795e-03,\n",
       "          8.31319743e-03,  -3.83528636e-03],\n",
       "       [  4.47527268e-03,   6.08023169e-04,   1.06244004e-02,\n",
       "          5.67337096e-03,  -1.24490116e-02],\n",
       "       [ -3.72381986e-03,  -1.65736715e-02,  -1.36726993e-02,\n",
       "         -1.93832090e-02,   4.23513303e-03],\n",
       "       [  7.72475215e-04,  -2.26483302e-03,  -4.11062382e-03,\n",
       "          2.67277011e-03,  -5.99028390e-03],\n",
       "       [  7.77400324e-03,   3.85028669e-02,   2.27233968e-02,\n",
       "          2.11179575e-02,   3.06258483e-03],\n",
       "       [  5.30668488e-03,  -2.04219621e-02,  -2.03758807e-02,\n",
       "         -2.09014027e-02,  -9.93960990e-03],\n",
       "       [  2.19941214e-02,   8.50514565e-03,   3.42448316e-03,\n",
       "          2.07997040e-03,  -5.61360038e-04],\n",
       "       [  1.44024473e-02,   1.53770231e-03,   6.07529261e-03,\n",
       "          1.46646410e-02,   7.84622970e-03],\n",
       "       [  3.39599261e-03,  -1.60246771e-02,   9.64544508e-03,\n",
       "          7.62345788e-03,  -4.33191972e-03],\n",
       "       [  1.18312530e-03,  -6.56979979e-03,  -7.82504004e-03,\n",
       "          1.06093098e-04,  -2.54294289e-03],\n",
       "       [  6.87053827e-03,  -8.92577098e-03,   1.70216836e-02,\n",
       "          1.70398143e-02,   9.08605056e-03],\n",
       "       [  1.56566829e-03,  -8.43525451e-03,  -1.68752170e-02,\n",
       "         -1.25867684e-02,  -8.63676339e-03],\n",
       "       [  3.33477101e-03,  -2.33024520e-03,   3.92697038e-03,\n",
       "          6.64941112e-04,  -1.30994221e-02],\n",
       "       [ -1.91337971e-02,  -3.00157430e-02,  -2.90710851e-02,\n",
       "         -3.32960022e-02,  -4.00316403e-02],\n",
       "       [  1.72236526e-02,   1.84938183e-02,  -3.02992290e-02,\n",
       "         -7.83060105e-03,   1.53519374e-02],\n",
       "       [  2.78032946e-03,  -1.17269118e-02,  -3.50167400e-03,\n",
       "         -9.72887064e-03,  -7.17025892e-03],\n",
       "       [  1.09280448e-03,  -1.59168469e-02,   1.69378869e-02,\n",
       "          8.84515050e-03,   3.32148960e-02],\n",
       "       [ -3.65195185e-03,   9.99049396e-03,   2.35129012e-03,\n",
       "          3.26746333e-03,   2.43360348e-02],\n",
       "       [  1.81807713e-02,  -1.08552439e-02,   1.48712779e-03,\n",
       "         -4.16238721e-03,   7.03179924e-03],\n",
       "       [ -5.23004692e-03,   2.91389310e-03,   1.01347116e-03,\n",
       "          1.45501429e-04,  -1.90220502e-02],\n",
       "       [ -1.00776009e-02,  -4.67731289e-03,  -1.34712868e-02,\n",
       "         -1.86981891e-02,   8.83633880e-03],\n",
       "       [ -8.62580292e-03,  -1.12997269e-02,  -3.47356964e-03,\n",
       "         -8.93267147e-03,  -1.41167702e-02],\n",
       "       [  1.02377194e-02,   1.08154013e-02,   2.41190848e-02,\n",
       "          1.87410621e-02,   5.37340390e-03],\n",
       "       [ -6.44666101e-03,  -2.72740134e-04,   7.46108022e-03,\n",
       "         -6.64397184e-03,  -5.99619849e-03],\n",
       "       [ -3.51460981e-03,  -7.97395217e-04,  -7.70769396e-03,\n",
       "         -1.08069468e-02,  -2.96698513e-03],\n",
       "       [ -2.05807911e-03,   2.71769920e-02,   3.56277916e-02,\n",
       "          4.70857063e-02,  -9.62075266e-03],\n",
       "       [ -7.13739981e-03,  -2.07150690e-02,   1.07330368e-02,\n",
       "          1.40444699e-02,  -2.53453409e-02],\n",
       "       [  7.24917999e-03,   1.07909869e-02,  -2.02966153e-02,\n",
       "         -2.03278968e-02,  -4.03754072e-03],\n",
       "       [  7.68862660e-04,  -1.60672813e-02,  -1.82116224e-02,\n",
       "         -2.18500367e-02,  -2.80682728e-02],\n",
       "       [ -2.19032510e-02,   4.26884495e-02,  -8.55667511e-03,\n",
       "         -1.65315202e-02,  -1.28874274e-02],\n",
       "       [ -1.20939219e-04,   1.42687619e-02,   5.74032501e-03,\n",
       "          1.29818139e-02,  -2.17660908e-02],\n",
       "       [ -3.55973070e-02,  -1.71348906e-02,  -1.81433194e-02,\n",
       "         -1.14849322e-02,   4.73665554e-03],\n",
       "       [  5.49864276e-03,   1.21479327e-03,  -1.79986495e-02,\n",
       "         -2.14233935e-02,   1.08040834e-02],\n",
       "       [ -2.10242660e-02,   2.33526944e-02,  -4.37583135e-03,\n",
       "          2.34182108e-03,   1.71502129e-02],\n",
       "       [  1.24907813e-02,   7.03596593e-03,   8.26568978e-03,\n",
       "          4.60907964e-03,   3.48339356e-02],\n",
       "       [  6.51220147e-03,   1.12162661e-02,   5.38349676e-03,\n",
       "          3.75001292e-03,  -2.24246838e-02],\n",
       "       [ -4.33704954e-03,  -1.05954085e-02,   4.26840645e-03,\n",
       "          6.01180414e-03,  -3.19411187e-02],\n",
       "       [ -5.49170001e-03,  -7.18988149e-03,  -1.89519370e-03,\n",
       "          6.06637535e-03,  -1.43744272e-02],\n",
       "       [  2.46188527e-02,   8.15396229e-03,   8.54820257e-03,\n",
       "          5.40858061e-03,   4.63485796e-02],\n",
       "       [ -1.39852195e-02,   1.23711453e-03,   9.45314730e-03,\n",
       "          9.13244555e-03,   1.30922742e-02],\n",
       "       [  5.49096832e-03,   2.75959964e-02,   1.21790219e-03,\n",
       "          1.38611097e-02,  -1.68471991e-02],\n",
       "       [ -7.20286427e-03,  -1.29275533e-02,  -4.29892127e-03,\n",
       "         -1.42988417e-03,   6.08907210e-03],\n",
       "       [ -1.54325591e-02,  -2.95459099e-02,  -3.47804951e-03,\n",
       "         -1.04027836e-02,  -1.63143464e-02],\n",
       "       [ -1.13113131e-02,  -7.68104303e-03,   1.55646980e-02,\n",
       "          3.68618372e-03,  -3.54933169e-02],\n",
       "       [  1.10783119e-02,   3.62111853e-03,   1.51550671e-02,\n",
       "          3.52578447e-03,   1.09814245e-02],\n",
       "       [ -1.89640173e-02,  -5.89539977e-03,   3.04880668e-02,\n",
       "          1.45892196e-02,  -4.14169037e-05],\n",
       "       [  1.56911412e-02,  -9.62994220e-03,  -3.69283599e-02,\n",
       "         -1.46971495e-02,  -5.48990392e-03],\n",
       "       [ -2.63835221e-03,   1.66931425e-02,   4.67230946e-03,\n",
       "         -4.93099494e-03,  -2.51899020e-02],\n",
       "       [ -8.94416527e-03,   4.86025134e-03,  -9.44324630e-03,\n",
       "         -4.74315731e-03,  -1.03002703e-03],\n",
       "       [ -5.29579606e-03,   1.86026032e-03,  -1.23046722e-03,\n",
       "         -1.00898631e-02,   9.79872159e-03],\n",
       "       [ -6.04598975e-03,  -5.00570877e-03,  -1.55604507e-02,\n",
       "         -6.19812388e-03,   3.39380174e-03],\n",
       "       [ -1.78924623e-02,  -1.97297569e-03,   3.06403595e-04,\n",
       "         -8.89219145e-03,  -1.73504452e-02],\n",
       "       [  5.26487921e-03,   2.78184145e-03,   5.18757343e-03,\n",
       "          9.89429625e-03,   1.09700763e-02],\n",
       "       [  2.21405692e-04,   6.41249420e-03,   2.05615187e-02,\n",
       "          2.44917892e-02,   1.25255801e-02],\n",
       "       [  6.75840938e-03,   1.82159651e-02,   3.07763652e-02,\n",
       "          2.28510148e-02,  -7.57308448e-03],\n",
       "       [  7.11220670e-03,  -1.63059541e-03,  -1.69276337e-02,\n",
       "         -1.15920694e-02,  -1.90815231e-02],\n",
       "       [ -5.41309131e-03,   2.77233773e-04,   1.63924680e-03,\n",
       "         -8.34708631e-03,  -9.50067784e-03],\n",
       "       [ -2.38086237e-02,  -2.52037901e-02,   2.32360500e-02,\n",
       "          7.34859673e-03,   4.39489821e-02],\n",
       "       [  1.88636199e-02,  -1.06879391e-02,  -1.16650599e-02,\n",
       "         -6.00470577e-03,  -3.21171143e-02],\n",
       "       [  2.33205803e-03,   8.73483950e-03,  -6.31397973e-03,\n",
       "          7.22290716e-03,   2.51785022e-02],\n",
       "       [ -1.99450430e-02,   8.73213937e-03,  -7.70183953e-03,\n",
       "         -1.00308375e-02,  -9.99471690e-03],\n",
       "       [ -3.85763940e-03,   1.45845764e-02,   1.02316953e-02,\n",
       "          1.51019720e-02,   5.14785705e-02],\n",
       "       [  1.25674412e-02,   2.07841916e-02,   1.31968287e-02,\n",
       "          2.03388791e-02,  -3.81034264e-02],\n",
       "       [ -1.81849655e-02,  -2.96220602e-03,  -1.34923094e-03,\n",
       "         -1.04875260e-02,  -2.88250691e-02],\n",
       "       [ -2.66890752e-02,  -7.67112203e-03,  -5.52260987e-03,\n",
       "         -7.54278598e-03,   1.93198401e-02],\n",
       "       [ -2.66888221e-02,  -1.54042686e-02,  -9.46120754e-03,\n",
       "         -2.47097595e-02,  -6.05794686e-02],\n",
       "       [  2.29388016e-02,   7.07143376e-03,   1.47074929e-02,\n",
       "          1.27274396e-02,   1.65743432e-02],\n",
       "       [ -1.57575162e-03,  -2.56372082e-02,  -5.34204546e-02,\n",
       "         -3.25456671e-02,  -6.43891095e-03],\n",
       "       [  1.38261881e-03,  -1.73924265e-02,  -1.58240578e-02,\n",
       "         -1.78124200e-02,   3.82324267e-03],\n",
       "       [  6.29953434e-03,  -8.51835289e-03,   9.71903154e-04,\n",
       "          5.68307916e-03,  -7.45476269e-03],\n",
       "       [ -9.96487197e-03,   7.73570668e-03,   5.43139937e-03,\n",
       "          4.71820872e-03,   1.70698499e-02],\n",
       "       [  2.40515578e-02,   8.15594643e-03,   1.97549054e-02,\n",
       "          1.55071343e-02,   2.58969058e-02],\n",
       "       [ -1.75249939e-02,  -2.56336297e-02,  -4.41370355e-03,\n",
       "         -3.26799289e-03,   1.78275080e-02],\n",
       "       [ -7.46276660e-03,  -6.32880413e-03,   8.78471534e-03,\n",
       "          1.52126605e-03,   1.29703129e-02],\n",
       "       [  3.93663021e-04,  -2.37384260e-02,  -1.75241405e-02,\n",
       "         -1.66358939e-02,  -3.14145245e-02],\n",
       "       [  1.78429175e-04,  -9.39754871e-03,   8.54387732e-03,\n",
       "          1.03277292e-02,   1.69490394e-02],\n",
       "       [  5.38665243e-02,   3.80821168e-03,   3.11923339e-02,\n",
       "          3.43754667e-02,  -1.21098542e-02],\n",
       "       [ -1.51130262e-02,  -8.53056993e-03,   1.83741044e-03,\n",
       "         -4.10248598e-03,  -3.08743694e-02],\n",
       "       [  1.63308317e-02,   1.52462846e-03,  -3.13885866e-03,\n",
       "          1.23291985e-02,   9.54166923e-03],\n",
       "       [  9.92787998e-03,  -1.74654061e-02,  -1.33946064e-02,\n",
       "         -6.22199402e-03,   9.40096162e-03],\n",
       "       [ -1.28255592e-03,   4.40536550e-02,   1.33604821e-02,\n",
       "          2.81579813e-02,   1.68112201e-02],\n",
       "       [ -1.22961479e-02,  -4.85085127e-03,   8.96881223e-03,\n",
       "          2.79864494e-03,  -1.28546769e-02],\n",
       "       [  2.88228722e-02,  -1.23164376e-02,  -2.31469501e-02,\n",
       "         -1.03415764e-02,   6.14517452e-03],\n",
       "       [  1.04475335e-02,   5.84870493e-03,  -1.21591810e-03,\n",
       "          2.27231171e-03,  -3.49867478e-03],\n",
       "       [ -2.23870210e-03,  -1.11859083e-02,  -1.98336034e-02,\n",
       "         -2.63051769e-02,  -2.22751633e-02],\n",
       "       [  1.98505339e-02,   9.37663661e-03,   1.54558408e-04,\n",
       "          1.04254441e-02,  -1.88696232e-02],\n",
       "       [  1.09811403e-02,  -2.05542591e-02,   8.30090537e-03,\n",
       "          8.52102231e-03,  -2.82863767e-02],\n",
       "       [ -2.45724549e-02,   2.16713272e-02,   1.40241634e-02,\n",
       "          3.54206506e-03,  -3.38773203e-02],\n",
       "       [  6.06601135e-03,   2.75097329e-02,   1.51545559e-02,\n",
       "          2.61472892e-02,   2.31138238e-02],\n",
       "       [ -3.55735190e-03,   1.80396635e-02,   2.08047969e-02,\n",
       "          1.81274084e-02,   3.00214150e-02],\n",
       "       [ -5.37116614e-03,  -1.50620960e-02,  -7.79607948e-03,\n",
       "         -6.17866490e-03,   4.63779015e-03],\n",
       "       [ -4.83626577e-03,   1.46329591e-02,   1.13791598e-02,\n",
       "          5.80061694e-03,  -1.46659414e-02],\n",
       "       [  4.25313270e-04,  -7.31854317e-03,  -2.69840089e-02,\n",
       "         -1.48599658e-02,  -1.26616370e-02],\n",
       "       [ -6.11050831e-03,  -2.92560838e-03,  -7.15795880e-03,\n",
       "         -5.13828265e-03,  -9.92430927e-03],\n",
       "       [ -1.11441854e-02,   2.69770790e-04,  -1.76966124e-02,\n",
       "         -1.33528199e-02,   1.40510186e-03],\n",
       "       [  8.91428334e-03,   8.63748010e-04,   1.23225705e-02,\n",
       "          5.78123360e-03,  -7.19344186e-03],\n",
       "       [ -1.98391810e-02,  -3.63116168e-02,  -1.31228175e-02,\n",
       "         -2.64218150e-02,  -2.03804451e-02],\n",
       "       [ -2.28428174e-02,  -8.71688551e-03,   3.50950936e-02,\n",
       "          2.81583315e-02,  -9.02979281e-03],\n",
       "       [ -4.32243271e-03,   6.22611641e-03,  -7.47220283e-03,\n",
       "         -1.61172394e-02,   1.44839437e-02],\n",
       "       [ -2.08452312e-02,  -2.60738786e-02,  -8.94731526e-03,\n",
       "         -8.02509600e-03,   1.04608113e-02],\n",
       "       [  1.30882767e-03,  -2.20089275e-02,  -3.61216448e-02,\n",
       "         -2.93415172e-02,  -3.15484175e-02],\n",
       "       [  6.21033855e-03,  -3.68083022e-03,  -5.11633350e-03,\n",
       "         -6.78915020e-04,   6.68905882e-03],\n",
       "       [ -1.82404926e-02,  -2.97386231e-02,  -1.55515607e-02,\n",
       "         -8.84576285e-03,  -2.73602551e-02],\n",
       "       [ -3.52306488e-03,   1.72173478e-02,   6.80110391e-03,\n",
       "          6.66889783e-03,  -1.13722050e-02],\n",
       "       [ -2.92735939e-02,  -3.26660674e-02,  -3.21775063e-02,\n",
       "         -3.77729271e-02,  -2.91020043e-02],\n",
       "       [ -1.31211486e-03,  -4.17758777e-02,   2.46352041e-03,\n",
       "         -1.62115723e-03,  -1.39432820e-02],\n",
       "       [  1.36066316e-03,   2.45963737e-02,  -7.43253560e-03,\n",
       "         -7.97181868e-03,   6.00838696e-02],\n",
       "       [  1.92235213e-02,   8.45980269e-03,  -1.60000909e-02,\n",
       "         -1.44148066e-02,  -1.79729501e-02],\n",
       "       [  8.75266583e-03,   2.83004025e-04,  -2.12922825e-04,\n",
       "         -3.43102604e-03,   1.11800661e-02],\n",
       "       [ -1.06857567e-02,  -1.22599826e-02,  -8.78858083e-03,\n",
       "         -9.90620501e-03,   2.27140044e-02],\n",
       "       [ -7.75831767e-03,  -2.01381482e-02,  -2.55163494e-02,\n",
       "         -1.75447459e-02,  -6.57550754e-03],\n",
       "       [ -3.00189086e-03,  -2.93278118e-02,   1.19409786e-02,\n",
       "          1.12450428e-02,   1.51596233e-02],\n",
       "       [  8.49658626e-03,  -1.88993916e-03,   2.19649390e-03,\n",
       "         -1.75821329e-02,  -1.84379339e-02],\n",
       "       [ -1.58075570e-02,  -3.45961951e-03,  -2.45192744e-02,\n",
       "         -1.82259646e-02,  -5.82983422e-02],\n",
       "       [  1.61218277e-02,   1.09775817e-02,   1.10460199e-02,\n",
       "          8.91081490e-03,   2.01132423e-02],\n",
       "       [  9.52702539e-03,  -5.06044420e-03,   1.16622347e-03,\n",
       "          6.03282603e-03,  -2.96390357e-02],\n",
       "       [  2.03899791e-02,   1.71760436e-02,  -1.76945122e-03,\n",
       "          6.45072511e-03,  -4.90431703e-04],\n",
       "       [  3.09859640e-02,   2.76508843e-02,   1.12173643e-02,\n",
       "          1.01929317e-02,   6.27612991e-03],\n",
       "       [  4.68999493e-03,  -1.31511222e-03,   3.14158452e-03,\n",
       "         -4.80224188e-03,   2.10339261e-02],\n",
       "       [ -2.27041148e-02,  -4.76276851e-02,  -3.28664851e-02,\n",
       "         -5.33190366e-02,  -3.18369818e-02],\n",
       "       [ -1.09771500e-03,  -1.22405342e-02,   6.05973637e-03,\n",
       "         -1.66287933e-03,  -1.09222811e-02],\n",
       "       [  1.46546093e-04,   2.02217748e-02,   1.63869093e-02,\n",
       "          1.08849914e-02,   4.95616693e-02],\n",
       "       [  8.95559906e-03,  -9.75597255e-03,  -3.32341788e-02,\n",
       "         -3.07065564e-02,  -6.93390660e-03],\n",
       "       [  8.00416687e-03,   1.28055791e-03,  -1.38308770e-02,\n",
       "         -1.12840724e-02,   1.92479505e-03],\n",
       "       [  2.22412079e-03,   9.54418354e-03,   3.87056972e-03,\n",
       "         -1.94175226e-03,   9.10333042e-04],\n",
       "       [ -4.53130412e-03,   3.22953580e-02,   4.61018303e-02,\n",
       "          4.48746414e-02,   4.73149262e-02],\n",
       "       [ -2.04695554e-03,  -6.33653071e-03,   5.46143747e-03,\n",
       "          1.66863649e-04,  -8.33092898e-03],\n",
       "       [  1.93312104e-02,   2.61630000e-02,   5.20413777e-02,\n",
       "          2.63649191e-02,   2.62186243e-02],\n",
       "       [ -4.72970432e-03,   1.85645321e-02,   9.16464178e-03,\n",
       "         -9.48234510e-04,   2.33743797e-02],\n",
       "       [ -1.36870106e-03,   1.57209081e-02,   3.58040011e-02,\n",
       "          2.83706825e-02,   1.98643721e-02],\n",
       "       [ -1.11218464e-02,   4.87652151e-03,  -3.31493542e-02,\n",
       "         -1.58685900e-02,   9.38382126e-03],\n",
       "       [ -1.26174507e-02,  -1.44314947e-02,  -2.52090008e-02,\n",
       "         -1.37913438e-02,  -1.58688632e-02],\n",
       "       [  1.60647235e-02,   9.85402619e-03,   1.78229841e-02,\n",
       "          2.50622357e-02,   1.66492926e-02],\n",
       "       [  1.14946143e-03,   5.29645260e-03,   4.43358238e-03,\n",
       "          9.39314386e-03,   3.07006284e-02],\n",
       "       [ -5.78783448e-03,  -4.28740291e-03,  -1.71642423e-02,\n",
       "         -1.44219398e-02,  -1.92851614e-03],\n",
       "       [  6.12311461e-03,  -1.17426117e-02,  -8.04486485e-04,\n",
       "          2.13269755e-03,   1.42371073e-02],\n",
       "       [  4.22470411e-03,  -5.35257545e-03,  -2.70005056e-02,\n",
       "         -1.68415622e-02,   7.14559608e-03],\n",
       "       [ -9.23845046e-03,   1.06760889e-02,   6.12233119e-03,\n",
       "         -1.57551316e-03,  -4.20405911e-03],\n",
       "       [  7.11784446e-03,   6.69999793e-03,  -1.02299510e-02,\n",
       "         -1.17915737e-02,  -3.06831846e-02],\n",
       "       [  4.31651285e-02,  -1.25504612e-02,  -1.30444298e-02,\n",
       "         -1.83459928e-02,   8.80502310e-03],\n",
       "       [  2.31643861e-02,   2.53682703e-02,   1.62067382e-02,\n",
       "          2.64996157e-02,   1.17067537e-02],\n",
       "       [ -5.20974754e-03,  -2.92727223e-03,  -1.53778974e-02,\n",
       "         -8.69444167e-03,  -2.57454848e-03],\n",
       "       [ -1.41110552e-02,  -1.98710805e-02,  -1.61445764e-02,\n",
       "         -1.90205112e-02,   8.71003242e-03],\n",
       "       [ -3.88889724e-03,  -3.28913083e-02,  -2.80708760e-02,\n",
       "         -1.71455937e-02,  -8.93531410e-03],\n",
       "       [ -2.80934318e-03,   6.16156495e-04,   6.49228810e-03,\n",
       "          8.24050243e-03,   2.59117148e-02],\n",
       "       [  4.64051659e-03,   3.25246235e-02,   3.01346356e-02,\n",
       "          3.25259528e-02,   3.75661485e-02],\n",
       "       [ -1.11475020e-02,   1.66520226e-02,   4.12879573e-03,\n",
       "          7.75363154e-03,   4.99491502e-02],\n",
       "       [  2.08482005e-03,   1.34411693e-02,   1.60590543e-02,\n",
       "          1.33655210e-02,   2.08402075e-02],\n",
       "       [  1.98919236e-02,   9.15268998e-03,   2.02250856e-02,\n",
       "          1.70833625e-02,   1.40212615e-03],\n",
       "       [ -5.36599972e-03,  -2.16469579e-04,  -1.24213929e-02,\n",
       "         -1.23562198e-02,   7.92367724e-03],\n",
       "       [  4.60611074e-03,  -1.03523675e-02,  -1.32098529e-02,\n",
       "         -1.11446166e-02,   1.93626028e-02],\n",
       "       [  1.95824658e-02,   3.49110027e-04,   5.43318959e-03,\n",
       "         -9.71630945e-03,   9.27637270e-03],\n",
       "       [ -5.96743040e-03,  -2.41257515e-02,   1.36040094e-03,\n",
       "         -5.64613582e-03,   1.81407899e-02],\n",
       "       [ -3.75309672e-02,   6.09231842e-03,  -6.44651455e-03,\n",
       "         -4.02352858e-03,  -2.91071824e-02],\n",
       "       [ -1.12674072e-02,  -1.40443715e-02,  -9.45676276e-03,\n",
       "         -1.06352160e-02,  -1.27227270e-02],\n",
       "       [  4.32610746e-03,   1.95701398e-02,  -1.48128102e-03,\n",
       "         -3.51126942e-03,   2.26726531e-02],\n",
       "       [ -8.46519615e-03,  -2.81317715e-02,   1.90971269e-02,\n",
       "          1.27393319e-02,   1.08606090e-03],\n",
       "       [ -6.18818957e-03,  -1.17216909e-02,  -1.97921707e-02,\n",
       "         -1.41562582e-02,  -1.59673720e-02],\n",
       "       [ -8.86321696e-03,   5.12031447e-03,  -1.12826118e-02,\n",
       "         -1.78409242e-02,  -1.54133878e-02],\n",
       "       [ -9.80825806e-03,   3.79769764e-03,  -1.20457361e-02,\n",
       "         -7.25341341e-03,  -1.11974637e-02],\n",
       "       [  2.40501547e-02,   1.90994937e-02,   7.62207126e-03,\n",
       "          1.01535664e-02,  -1.39564496e-02],\n",
       "       [ -1.40291575e-03,   1.44681331e-02,   2.36890627e-02,\n",
       "          9.85153172e-03,   7.59789458e-03],\n",
       "       [  1.23854505e-02,   1.18938362e-02,  -2.06363843e-03,\n",
       "          6.83160582e-03,   4.23544509e-02],\n",
       "       [ -2.50127952e-02,  -1.07832143e-03,  -9.22122065e-03,\n",
       "         -3.89508147e-03,   1.23896455e-02],\n",
       "       [ -4.02225534e-03,   8.63207621e-03,   1.62224773e-02,\n",
       "          3.15726809e-03,  -9.06488153e-03],\n",
       "       [  7.86581921e-03,   2.65044731e-03,   2.68228565e-03,\n",
       "          5.54532448e-03,  -2.93368596e-03],\n",
       "       [ -2.47939752e-03,   6.26328320e-03,   2.39687227e-02,\n",
       "          2.07250843e-02,  -1.54598637e-03],\n",
       "       [  7.57860513e-03,   1.61260470e-02,   3.91242538e-02,\n",
       "          2.70746813e-02,   2.13207035e-02],\n",
       "       [  2.51986175e-02,   1.42086388e-02,   1.89828318e-02,\n",
       "          1.57747799e-02,   2.14772014e-02],\n",
       "       [  1.93138121e-02,  -4.10554106e-03,   1.11109668e-02,\n",
       "          1.34150100e-02,  -8.98543287e-03],\n",
       "       [ -4.07509958e-03,  -2.89817973e-02,  -1.56359736e-02,\n",
       "         -1.76337973e-02,  -5.37175585e-03],\n",
       "       [  1.95970016e-03,   1.55587737e-02,   1.75850504e-02,\n",
       "          1.55218489e-02,   7.96179881e-03],\n",
       "       [  5.78856331e-03,   4.53878307e-03,   2.96610305e-03,\n",
       "          6.44118264e-03,   6.31006412e-04],\n",
       "       [ -2.66957410e-03,   1.43225562e-02,   1.20845723e-02,\n",
       "          1.02239574e-02,  -3.05374437e-03],\n",
       "       [  1.26761038e-02,   2.75516182e-02,   2.96919797e-02,\n",
       "          2.89485914e-02,   1.08485910e-02],\n",
       "       [  1.35891177e-02,   3.61253396e-03,  -8.46516150e-03,\n",
       "          1.64220655e-03,  -1.75605599e-02],\n",
       "       [ -1.78925323e-03,  -5.29200156e-03,  -2.32803341e-02,\n",
       "         -2.65400382e-02,   2.56833487e-03],\n",
       "       [ -7.62569637e-03,   2.78947562e-02,   6.88200142e-03,\n",
       "          3.95915155e-03,   1.04741212e-02],\n",
       "       [ -9.25857805e-04,  -1.03041984e-02,  -5.46891108e-03,\n",
       "         -7.51167700e-03,  -1.60329564e-02],\n",
       "       [  1.60806157e-03,  -5.55874553e-03,  -1.13765800e-02,\n",
       "          1.58501008e-03,   2.31414896e-04],\n",
       "       [  9.99709582e-03,  -1.52142308e-03,   1.88089966e-03,\n",
       "          3.95463273e-03,   1.27462124e-02],\n",
       "       [ -4.02680381e-03,   2.48083677e-02,   1.57921646e-02,\n",
       "          2.43921249e-02,  -1.46103147e-02],\n",
       "       [ -2.11218565e-02,  -2.58809447e-02,  -4.34561134e-02,\n",
       "         -4.51762447e-02,  -2.41635942e-02],\n",
       "       [ -3.75645321e-03,   7.86366851e-03,   1.29575902e-02,\n",
       "          1.49100700e-02,   9.91073793e-03],\n",
       "       [ -2.30334617e-03,  -2.01999507e-03,   3.13862763e-03,\n",
       "         -2.54644474e-03,  -1.03326622e-02],\n",
       "       [ -6.98121005e-03,   8.58761845e-05,  -4.38319959e-03,\n",
       "         -5.62126480e-03,  -1.30502956e-02],\n",
       "       [  6.80543982e-03,   1.63990372e-03,   3.50822799e-03,\n",
       "         -2.11521374e-03,   2.13620613e-02],\n",
       "       [ -4.43200362e-03,   3.58064647e-03,   2.56680750e-03,\n",
       "          5.12332193e-03,  -2.50622359e-02],\n",
       "       [ -1.58067488e-02,  -9.81277863e-03,  -8.32200071e-03,\n",
       "         -3.30282820e-03,   7.71234421e-04],\n",
       "       [ -2.00103709e-03,   1.56910546e-02,   1.95239307e-02,\n",
       "          2.00394286e-02,  -2.48376932e-02],\n",
       "       [  7.29079060e-03,   1.71317751e-03,   7.71362892e-03,\n",
       "          9.60731990e-03,  -6.67158313e-03],\n",
       "       [ -2.07225504e-04,  -1.02722301e-02,  -9.34552847e-03,\n",
       "         -2.70246383e-03,   1.86626820e-02],\n",
       "       [  1.00015598e-02,   1.75693651e-02,   2.12311915e-02,\n",
       "          2.43760594e-02,   5.38311085e-02],\n",
       "       [  9.09116178e-03,  -3.18585526e-04,  -2.99675165e-03,\n",
       "          2.03133384e-03,   1.08693132e-02],\n",
       "       [ -5.25161517e-03,   2.33734526e-02,  -1.45331804e-04,\n",
       "          7.29478075e-03,   6.70426482e-03],\n",
       "       [  8.34803406e-03,  -2.86211408e-03,  -4.57876974e-05,\n",
       "          2.14712755e-03,  -2.07344732e-04]])"
      ]
     },
     "execution_count": 315,
     "metadata": {},
     "output_type": "execute_result"
    }
   ],
   "source": []
  },
  {
   "cell_type": "code",
   "execution_count": null,
   "metadata": {
    "collapsed": true
   },
   "outputs": [],
   "source": []
  },
  {
   "cell_type": "code",
   "execution_count": 259,
   "metadata": {
    "collapsed": false
   },
   "outputs": [
    {
     "data": {
      "text/plain": [
       "array([[  5.46662839e-06,  -4.33740266e-02,   1.28951234e-01,\n",
       "         -1.27478901e-01,   4.96482766e-02,  -7.12502594e-02,\n",
       "          1.34311197e-02,   1.49463869e-03,  -2.42661604e-01,\n",
       "          2.45055285e-01,  -7.52170124e-02,  -4.41147861e-02,\n",
       "          1.54343780e-02,   5.67292783e-02,  -1.80469326e-01,\n",
       "          6.59094286e-02],\n",
       "       [  4.21955736e-04,   5.32105776e-03,   1.78780028e-01,\n",
       "          3.75889103e-03,   3.25092218e-02,  -7.22829526e-02,\n",
       "         -2.44117705e-01,  -4.71691222e-03,  -3.45717116e-01,\n",
       "          4.13840014e-01,  -3.22701362e-02,  -7.55997832e-02,\n",
       "         -7.60075652e-02,   7.05723131e-02,   1.72778880e-02,\n",
       "          4.24166576e-02],\n",
       "       [  8.10272981e-04,   8.24173822e-03,   1.15179836e-01,\n",
       "         -5.07079197e-02,   7.21155964e-03,  -4.19460385e-02,\n",
       "         -4.78979392e-02,   1.79970101e-01,  -4.87353425e-01,\n",
       "          2.95173965e-01,   5.52724866e-02,  -1.10870219e-01,\n",
       "          2.70305536e-02,  -3.44276725e-02,  -1.34382476e-02,\n",
       "         -2.28117466e-02],\n",
       "       [ -2.47458751e-05,   3.58036613e-02,   1.66959303e-01,\n",
       "          4.86540416e-02,  -1.17872920e-01,  -4.98642496e-02,\n",
       "         -4.37294991e-02,   1.59101362e-01,  -3.65091893e-01,\n",
       "          1.93883688e-01,   6.86103085e-02,  -4.05391303e-02,\n",
       "          3.20510927e-02,  -1.68701264e-02,  -3.71242290e-02,\n",
       "         -1.81110623e-03],\n",
       "       [ -1.33776675e-03,  -6.40913254e-02,  -5.97430793e-02,\n",
       "         -9.77857895e-02,   2.68140622e-01,  -5.41901553e-02,\n",
       "         -2.81041672e-02,   9.63784357e-02,  -3.91956456e-01,\n",
       "          1.62950916e-01,  -3.05705724e-02,  -4.61247157e-02,\n",
       "         -8.12894080e-02,   2.47949615e-01,  -1.31097496e-01,\n",
       "         -2.50882304e-02]])"
      ]
     },
     "execution_count": 259,
     "metadata": {},
     "output_type": "execute_result"
    }
   ],
   "source": [
    "np.dot(na_ysample, np.dot(na_Z, inv(np.dot(na_Z.T, na_Z))))"
   ]
  },
  {
   "cell_type": "code",
   "execution_count": 208,
   "metadata": {
    "collapsed": false
   },
   "outputs": [
    {
     "data": {
      "text/plain": [
       "(197, 5)"
      ]
     },
     "execution_count": 208,
     "metadata": {},
     "output_type": "execute_result"
    }
   ],
   "source": [
    "na_ysample.shape"
   ]
  },
  {
   "cell_type": "code",
   "execution_count": 209,
   "metadata": {
    "collapsed": false
   },
   "outputs": [
    {
     "data": {
      "text/plain": [
       "(16, 5)"
      ]
     },
     "execution_count": 209,
     "metadata": {},
     "output_type": "execute_result"
    }
   ],
   "source": [
    "params.shape"
   ]
  },
  {
   "cell_type": "code",
   "execution_count": null,
   "metadata": {
    "collapsed": true
   },
   "outputs": [],
   "source": []
  },
  {
   "cell_type": "code",
   "execution_count": null,
   "metadata": {
    "collapsed": true
   },
   "outputs": [],
   "source": []
  },
  {
   "cell_type": "code",
   "execution_count": 185,
   "metadata": {
    "collapsed": false
   },
   "outputs": [],
   "source": [
    "params = np.linalg.lstsq(na_Z, na_ysample)[0]"
   ]
  },
  {
   "cell_type": "code",
   "execution_count": 186,
   "metadata": {
    "collapsed": false
   },
   "outputs": [
    {
     "data": {
      "text/plain": [
       "(16, 5)"
      ]
     },
     "execution_count": 186,
     "metadata": {},
     "output_type": "execute_result"
    }
   ],
   "source": [
    "params.shape"
   ]
  },
  {
   "cell_type": "code",
   "execution_count": 189,
   "metadata": {
    "collapsed": false
   },
   "outputs": [
    {
     "data": {
      "text/plain": [
       "(3, 5, 5)"
      ]
     },
     "execution_count": 189,
     "metadata": {},
     "output_type": "execute_result"
    }
   ],
   "source": [
    "results.coefs.shape"
   ]
  },
  {
   "cell_type": "code",
   "execution_count": 190,
   "metadata": {
    "collapsed": false
   },
   "outputs": [
    {
     "data": {
      "text/plain": [
       "1"
      ]
     },
     "execution_count": 190,
     "metadata": {},
     "output_type": "execute_result"
    }
   ],
   "source": [
    "results.k_trend"
   ]
  },
  {
   "cell_type": "code",
   "execution_count": 201,
   "metadata": {
    "collapsed": false
   },
   "outputs": [
    {
     "data": {
      "text/html": [
       "<div>\n",
       "<table border=\"1\" class=\"dataframe\">\n",
       "  <thead>\n",
       "    <tr style=\"text-align: right;\">\n",
       "      <th></th>\n",
       "      <th>0</th>\n",
       "      <th>1</th>\n",
       "      <th>2</th>\n",
       "      <th>3</th>\n",
       "      <th>4</th>\n",
       "    </tr>\n",
       "  </thead>\n",
       "  <tbody>\n",
       "    <tr>\n",
       "      <th>0</th>\n",
       "      <td>-0.722156</td>\n",
       "      <td>0.103972</td>\n",
       "      <td>-0.991854</td>\n",
       "      <td>-1.470872</td>\n",
       "      <td>-1.399945</td>\n",
       "    </tr>\n",
       "    <tr>\n",
       "      <th>1</th>\n",
       "      <td>-2.172182</td>\n",
       "      <td>0.786844</td>\n",
       "      <td>1.061439</td>\n",
       "      <td>0.295728</td>\n",
       "      <td>3.125313</td>\n",
       "    </tr>\n",
       "    <tr>\n",
       "      <th>2</th>\n",
       "      <td>1.077401</td>\n",
       "      <td>-0.969465</td>\n",
       "      <td>-0.879180</td>\n",
       "      <td>-0.037860</td>\n",
       "      <td>-4.175208</td>\n",
       "    </tr>\n",
       "    <tr>\n",
       "      <th>3</th>\n",
       "      <td>1.556449</td>\n",
       "      <td>-1.635524</td>\n",
       "      <td>-3.692466</td>\n",
       "      <td>-2.555332</td>\n",
       "      <td>1.011859</td>\n",
       "    </tr>\n",
       "    <tr>\n",
       "      <th>4</th>\n",
       "      <td>-0.873046</td>\n",
       "      <td>4.590372</td>\n",
       "      <td>5.075378</td>\n",
       "      <td>4.680845</td>\n",
       "      <td>0.202479</td>\n",
       "    </tr>\n",
       "    <tr>\n",
       "      <th>5</th>\n",
       "      <td>-2.699137</td>\n",
       "      <td>2.409270</td>\n",
       "      <td>3.497993</td>\n",
       "      <td>1.736310</td>\n",
       "      <td>4.006859</td>\n",
       "    </tr>\n",
       "    <tr>\n",
       "      <th>6</th>\n",
       "      <td>3.659944</td>\n",
       "      <td>-4.536499</td>\n",
       "      <td>-5.340042</td>\n",
       "      <td>-2.885927</td>\n",
       "      <td>-6.120154</td>\n",
       "    </tr>\n",
       "    <tr>\n",
       "      <th>7</th>\n",
       "      <td>-1.812533</td>\n",
       "      <td>1.957782</td>\n",
       "      <td>1.678055</td>\n",
       "      <td>1.154255</td>\n",
       "      <td>1.518523</td>\n",
       "    </tr>\n",
       "    <tr>\n",
       "      <th>8</th>\n",
       "      <td>-2.777978</td>\n",
       "      <td>2.398514</td>\n",
       "      <td>0.760018</td>\n",
       "      <td>-0.258660</td>\n",
       "      <td>4.811770</td>\n",
       "    </tr>\n",
       "    <tr>\n",
       "      <th>9</th>\n",
       "      <td>7.415184</td>\n",
       "      <td>-4.860777</td>\n",
       "      <td>-4.654223</td>\n",
       "      <td>-1.360685</td>\n",
       "      <td>-12.748968</td>\n",
       "    </tr>\n",
       "    <tr>\n",
       "      <th>10</th>\n",
       "      <td>-0.063433</td>\n",
       "      <td>1.614033</td>\n",
       "      <td>2.099577</td>\n",
       "      <td>2.115171</td>\n",
       "      <td>-0.636052</td>\n",
       "    </tr>\n",
       "    <tr>\n",
       "      <th>11</th>\n",
       "      <td>-5.905873</td>\n",
       "      <td>6.380186</td>\n",
       "      <td>4.700603</td>\n",
       "      <td>2.268091</td>\n",
       "      <td>16.455421</td>\n",
       "    </tr>\n",
       "    <tr>\n",
       "      <th>12</th>\n",
       "      <td>-5.757457</td>\n",
       "      <td>4.549885</td>\n",
       "      <td>5.363690</td>\n",
       "      <td>2.104035</td>\n",
       "      <td>11.589851</td>\n",
       "    </tr>\n",
       "    <tr>\n",
       "      <th>13</th>\n",
       "      <td>-11.324143</td>\n",
       "      <td>14.746469</td>\n",
       "      <td>9.160361</td>\n",
       "      <td>5.883595</td>\n",
       "      <td>24.674465</td>\n",
       "    </tr>\n",
       "    <tr>\n",
       "      <th>14</th>\n",
       "      <td>11.629807</td>\n",
       "      <td>-16.896641</td>\n",
       "      <td>-11.288682</td>\n",
       "      <td>-7.378947</td>\n",
       "      <td>-25.897193</td>\n",
       "    </tr>\n",
       "    <tr>\n",
       "      <th>15</th>\n",
       "      <td>3.674572</td>\n",
       "      <td>-3.161057</td>\n",
       "      <td>-3.453601</td>\n",
       "      <td>-1.754360</td>\n",
       "      <td>-7.177701</td>\n",
       "    </tr>\n",
       "  </tbody>\n",
       "</table>\n",
       "</div>"
      ],
      "text/plain": [
       "            0          1          2         3          4\n",
       "0   -0.722156   0.103972  -0.991854 -1.470872  -1.399945\n",
       "1   -2.172182   0.786844   1.061439  0.295728   3.125313\n",
       "2    1.077401  -0.969465  -0.879180 -0.037860  -4.175208\n",
       "3    1.556449  -1.635524  -3.692466 -2.555332   1.011859\n",
       "4   -0.873046   4.590372   5.075378  4.680845   0.202479\n",
       "5   -2.699137   2.409270   3.497993  1.736310   4.006859\n",
       "6    3.659944  -4.536499  -5.340042 -2.885927  -6.120154\n",
       "7   -1.812533   1.957782   1.678055  1.154255   1.518523\n",
       "8   -2.777978   2.398514   0.760018 -0.258660   4.811770\n",
       "9    7.415184  -4.860777  -4.654223 -1.360685 -12.748968\n",
       "10  -0.063433   1.614033   2.099577  2.115171  -0.636052\n",
       "11  -5.905873   6.380186   4.700603  2.268091  16.455421\n",
       "12  -5.757457   4.549885   5.363690  2.104035  11.589851\n",
       "13 -11.324143  14.746469   9.160361  5.883595  24.674465\n",
       "14  11.629807 -16.896641 -11.288682 -7.378947 -25.897193\n",
       "15   3.674572  -3.161057  -3.453601 -1.754360  -7.177701"
      ]
     },
     "execution_count": 201,
     "metadata": {},
     "output_type": "execute_result"
    }
   ],
   "source": [
    "pd.DataFrame(na_param)"
   ]
  },
  {
   "cell_type": "code",
   "execution_count": 197,
   "metadata": {
    "collapsed": false
   },
   "outputs": [
    {
     "data": {
      "text/plain": [
       "array([[  5.46662839e-06,   4.21955736e-04,   8.10272981e-04,\n",
       "         -2.47458751e-05,  -1.33776675e-03],\n",
       "       [ -4.33740266e-02,   5.32105776e-03,   8.24173822e-03,\n",
       "          3.58036613e-02,  -6.40913254e-02],\n",
       "       [  1.28951234e-01,   1.78780028e-01,   1.15179836e-01,\n",
       "          1.66959303e-01,  -5.97430793e-02],\n",
       "       [ -1.27478901e-01,   3.75889103e-03,  -5.07079197e-02,\n",
       "          4.86540416e-02,  -9.77857895e-02],\n",
       "       [  4.96482766e-02,   3.25092218e-02,   7.21155964e-03,\n",
       "         -1.17872920e-01,   2.68140622e-01],\n",
       "       [ -7.12502594e-02,  -7.22829526e-02,  -4.19460385e-02,\n",
       "         -4.98642496e-02,  -5.41901553e-02],\n",
       "       [  1.34311197e-02,  -2.44117705e-01,  -4.78979392e-02,\n",
       "         -4.37294991e-02,  -2.81041672e-02],\n",
       "       [  1.49463869e-03,  -4.71691222e-03,   1.79970101e-01,\n",
       "          1.59101362e-01,   9.63784357e-02],\n",
       "       [ -2.42661604e-01,  -3.45717116e-01,  -4.87353425e-01,\n",
       "         -3.65091893e-01,  -3.91956456e-01],\n",
       "       [  2.45055285e-01,   4.13840014e-01,   2.95173965e-01,\n",
       "          1.93883688e-01,   1.62950916e-01],\n",
       "       [ -7.52170124e-02,  -3.22701362e-02,   5.52724866e-02,\n",
       "          6.86103085e-02,  -3.05705724e-02],\n",
       "       [ -4.41147861e-02,  -7.55997832e-02,  -1.10870219e-01,\n",
       "         -4.05391303e-02,  -4.61247157e-02],\n",
       "       [  1.54343780e-02,  -7.60075652e-02,   2.70305536e-02,\n",
       "          3.20510927e-02,  -8.12894080e-02],\n",
       "       [  5.67292783e-02,   7.05723131e-02,  -3.44276725e-02,\n",
       "         -1.68701264e-02,   2.47949615e-01],\n",
       "       [ -1.80469326e-01,   1.72778880e-02,  -1.34382476e-02,\n",
       "         -3.71242290e-02,  -1.31097496e-01],\n",
       "       [  6.59094286e-02,   4.24166576e-02,  -2.28117466e-02,\n",
       "         -1.81110623e-03,  -2.50882304e-02]])"
      ]
     },
     "execution_count": 197,
     "metadata": {},
     "output_type": "execute_result"
    }
   ],
   "source": [
    "params"
   ]
  },
  {
   "cell_type": "code",
   "execution_count": null,
   "metadata": {
    "collapsed": true
   },
   "outputs": [],
   "source": []
  },
  {
   "cell_type": "code",
   "execution_count": 59,
   "metadata": {
    "collapsed": false
   },
   "outputs": [
    {
     "data": {
      "text/html": [
       "<div>\n",
       "<table border=\"1\" class=\"dataframe\">\n",
       "  <thead>\n",
       "    <tr style=\"text-align: right;\">\n",
       "      <th></th>\n",
       "      <th>0</th>\n",
       "      <th>1</th>\n",
       "      <th>2</th>\n",
       "      <th>3</th>\n",
       "      <th>4</th>\n",
       "    </tr>\n",
       "  </thead>\n",
       "  <tbody>\n",
       "    <tr>\n",
       "      <th>2014-01-01</th>\n",
       "      <td>0.004082</td>\n",
       "      <td>0.007782</td>\n",
       "      <td>0.033859</td>\n",
       "      <td>0.023865</td>\n",
       "      <td>0.041760</td>\n",
       "    </tr>\n",
       "    <tr>\n",
       "      <th>2014-01-02</th>\n",
       "      <td>0.012377</td>\n",
       "      <td>0.019575</td>\n",
       "      <td>0.052446</td>\n",
       "      <td>0.056654</td>\n",
       "      <td>-0.010573</td>\n",
       "    </tr>\n",
       "    <tr>\n",
       "      <th>2014-01-03</th>\n",
       "      <td>-0.006921</td>\n",
       "      <td>-0.011853</td>\n",
       "      <td>-0.005707</td>\n",
       "      <td>-0.017716</td>\n",
       "      <td>-0.019980</td>\n",
       "    </tr>\n",
       "    <tr>\n",
       "      <th>2014-01-04</th>\n",
       "      <td>0.000579</td>\n",
       "      <td>0.005753</td>\n",
       "      <td>-0.020576</td>\n",
       "      <td>-0.004274</td>\n",
       "      <td>-0.036814</td>\n",
       "    </tr>\n",
       "    <tr>\n",
       "      <th>2014-01-05</th>\n",
       "      <td>0.001156</td>\n",
       "      <td>0.011407</td>\n",
       "      <td>-0.003350</td>\n",
       "      <td>0.003459</td>\n",
       "      <td>0.000000</td>\n",
       "    </tr>\n",
       "  </tbody>\n",
       "</table>\n",
       "</div>"
      ],
      "text/plain": [
       "                   0         1         2         3         4\n",
       "2014-01-01  0.004082  0.007782  0.033859  0.023865  0.041760\n",
       "2014-01-02  0.012377  0.019575  0.052446  0.056654 -0.010573\n",
       "2014-01-03 -0.006921 -0.011853 -0.005707 -0.017716 -0.019980\n",
       "2014-01-04  0.000579  0.005753 -0.020576 -0.004274 -0.036814\n",
       "2014-01-05  0.001156  0.011407 -0.003350  0.003459  0.000000"
      ]
     },
     "execution_count": 59,
     "metadata": {},
     "output_type": "execute_result"
    }
   ],
   "source": [
    "df.head()\n"
   ]
  },
  {
   "cell_type": "code",
   "execution_count": null,
   "metadata": {
    "collapsed": true
   },
   "outputs": [],
   "source": []
  },
  {
   "cell_type": "code",
   "execution_count": null,
   "metadata": {
    "collapsed": true
   },
   "outputs": [],
   "source": []
  },
  {
   "cell_type": "code",
   "execution_count": null,
   "metadata": {
    "collapsed": true
   },
   "outputs": [],
   "source": []
  },
  {
   "cell_type": "code",
   "execution_count": null,
   "metadata": {
    "collapsed": true
   },
   "outputs": [],
   "source": []
  },
  {
   "cell_type": "code",
   "execution_count": null,
   "metadata": {
    "collapsed": true
   },
   "outputs": [],
   "source": []
  },
  {
   "cell_type": "markdown",
   "metadata": {},
   "source": [
    "## 2. Implementando o Modelo\n",
    "\n",
    "Nesta sessão detalharemos e implementaremos ...\n",
    "\n",
    "### 2.1. Bla\n",
    "\n",
    "bla bla"
   ]
  },
  {
   "cell_type": "code",
   "execution_count": null,
   "metadata": {
    "collapsed": true
   },
   "outputs": [],
   "source": []
  },
  {
   "cell_type": "code",
   "execution_count": null,
   "metadata": {
    "collapsed": true
   },
   "outputs": [],
   "source": []
  },
  {
   "cell_type": "code",
   "execution_count": null,
   "metadata": {
    "collapsed": true
   },
   "outputs": [],
   "source": []
  },
  {
   "cell_type": "markdown",
   "metadata": {},
   "source": [
    "\n",
    "## 4. Conclusão\n",
    "\n",
    "bla bla\n",
    "\n",
    "\n",
    "\n",
    "\n",
    "## 5. Últimas Considerações\n",
    "\n",
    "bla bla\n"
   ]
  },
  {
   "cell_type": "markdown",
   "metadata": {},
   "source": [
    "*Style notebook and change matplotlib defaults*"
   ]
  },
  {
   "cell_type": "code",
   "execution_count": 5,
   "metadata": {
    "collapsed": false
   },
   "outputs": [
    {
     "data": {
      "text/html": [
       "<style>\n",
       "    @font-face {\n",
       "        font-family: \"Computer Modern\";\n",
       "        src: url('http://9dbb143991406a7c655e-aa5fcb0a5a4ec34cff238a2d56ca4144.r56.cf5.rackcdn.com/cmunss.otf');\n",
       "    }\n",
       "    @font-face {\n",
       "        font-family: \"Computer Modern\";\n",
       "        font-weight: bold;\n",
       "        src: url('http://9dbb143991406a7c655e-aa5fcb0a5a4ec34cff238a2d56ca4144.r56.cf5.rackcdn.com/cmunsx.otf');\n",
       "    }\n",
       "    @font-face {\n",
       "        font-family: \"Computer Modern\";\n",
       "        font-style: oblique;\n",
       "        src: url('http://9dbb143991406a7c655e-aa5fcb0a5a4ec34cff238a2d56ca4144.r56.cf5.rackcdn.com/cmunsi.otf');\n",
       "    }\n",
       "    @font-face {\n",
       "        font-family: \"Computer Modern\";\n",
       "        font-weight: bold;\n",
       "        font-style: oblique;\n",
       "        src: url('http://9dbb143991406a7c655e-aa5fcb0a5a4ec34cff238a2d56ca4144.r56.cf5.rackcdn.com/cmunso.otf');\n",
       "    }\n",
       "    div.cell{\n",
       "        width:800px;\n",
       "        margin-left:16% !important;\n",
       "        margin-right:auto;\n",
       "    }\n",
       "    h1 {\n",
       "        font-family: Helvetica, serif;\n",
       "    }\n",
       "    h4{\n",
       "        margin-top:12px;\n",
       "        margin-bottom: 3px;\n",
       "       }\n",
       "    div.text_cell_render{\n",
       "        font-family: Computer Modern, \"Helvetica Neue\", Arial, Helvetica, Geneva, sans-serif;\n",
       "        line-height: 145%;\n",
       "        font-size: 130%;\n",
       "        width:800px;\n",
       "        margin-left:auto;\n",
       "        margin-right:auto;\n",
       "    }\n",
       "    .CodeMirror{\n",
       "            font-family: \"Source Code Pro\", source-code-pro,Consolas, monospace;\n",
       "    }\n",
       "    .prompt{\n",
       "        display: None;\n",
       "    }\n",
       "    .text_cell_render h5 {\n",
       "        font-weight: 300;\n",
       "        font-size: 22pt;\n",
       "        color: #4057A1;\n",
       "        font-style: italic;\n",
       "        margin-bottom: .5em;\n",
       "        margin-top: 0.5em;\n",
       "        display: block;\n",
       "    }\n",
       "\n",
       "    .warning{\n",
       "        color: rgb( 240, 20, 20 )\n",
       "        }\n",
       "</style>\n",
       "\n",
       "\n",
       "\n",
       "<style>\n",
       "    table {\n",
       "        overflow:hidden;\n",
       "        font-family: Computer Modern, \"Helvetica Neue\", Arial, Helvetica, Geneva, sans-serif;\n",
       "        font-size: 12px;\n",
       "        margin: 10px;\n",
       "        width: 480px;\n",
       "        text-align: left;\n",
       "        border-collapse: collapse;\n",
       "        border: 1px solid #d3d3d3;\n",
       "        -moz-border-radius:5px; FF1+;\n",
       "        -webkit-border-radius:5px; Saf3-4;\n",
       "        border-radius:5px;\n",
       "        -moz-box-shadow: 0 0 4px rgba(0, 0, 0, 0.01);\n",
       "    }\n",
       "    th\n",
       "    {\n",
       "        padding: 12px 17px 12px 17px;\n",
       "        font-weight: normal;\n",
       "        font-size: 14px;\n",
       "        border-bottom: 1px dashed #69c;\n",
       "    }\n",
       "\n",
       "    td\n",
       "    {\n",
       "        padding: 7px 17px 7px 17px;\n",
       "\n",
       "    }\n",
       "\n",
       "    tbody tr:hover th\n",
       "    {\n",
       "\n",
       "        background:  #E9E9E9;\n",
       "    }\n",
       "\n",
       "    tbody tr:hover td\n",
       "    {\n",
       "\n",
       "        background:  #E9E9E9;\n",
       "    }\n",
       "\n",
       "</style>\n",
       "\n",
       "<script>\n",
       "    MathJax.Hub.Config({\n",
       "                        TeX: {\n",
       "                           extensions: [\"AMSmath.js\"]\n",
       "                           },\n",
       "                tex2jax: {\n",
       "                    inlineMath: [ ['$','$'], [\"\\\\(\",\"\\\\)\"] ],\n",
       "                    displayMath: [ ['$$','$$'], [\"\\\\[\",\"\\\\]\"] ]\n",
       "                },\n",
       "                displayAlign: 'center', // Change this to 'center' to center equations.\n",
       "                \"HTML-CSS\": {\n",
       "                    styles: {'.MathJax_Display': {\"margin\": 4}}\n",
       "                }\n",
       "        });\n",
       "</script>\n"
      ],
      "text/plain": [
       "<IPython.core.display.HTML object>"
      ]
     },
     "execution_count": 5,
     "metadata": {},
     "output_type": "execute_result"
    }
   ],
   "source": [
    "#loading style sheet\n",
    "from IPython.core.display import HTML\n",
    "HTML(open('ipython_style.css').read())"
   ]
  },
  {
   "cell_type": "code",
   "execution_count": 6,
   "metadata": {
    "collapsed": true
   },
   "outputs": [],
   "source": [
    "#changing matplotlib defaults\n",
    "%matplotlib inline\n",
    "import seaborn as sns\n",
    "sns.set_palette(\"deep\", desat=.6)\n",
    "sns.set_context(rc={\"figure.figsize\": (8, 4)})\n",
    "sns.set_style(\"whitegrid\")\n",
    "sns.set_palette(sns.color_palette(\"Set2\", 10))"
   ]
  },
  {
   "cell_type": "code",
   "execution_count": null,
   "metadata": {
    "collapsed": true
   },
   "outputs": [],
   "source": []
  }
 ],
 "metadata": {
  "anaconda-cloud": {},
  "kernelspec": {
   "display_name": "Python [default]",
   "language": "python",
   "name": "python2"
  },
  "language_info": {
   "codemirror_mode": {
    "name": "ipython",
    "version": 2
   },
   "file_extension": ".py",
   "mimetype": "text/x-python",
   "name": "python",
   "nbconvert_exporter": "python",
   "pygments_lexer": "ipython2",
   "version": "2.7.12"
  }
 },
 "nbformat": 4,
 "nbformat_minor": 0
}
